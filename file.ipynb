{
 "cells": [
  {
   "cell_type": "code",
   "execution_count": 1,
   "id": "41abe3a6-2982-41f5-9303-02a9adecd9fb",
   "metadata": {},
   "outputs": [],
   "source": [
    "f=open('maha.txt','r') "
   ]
  },
  {
   "cell_type": "code",
   "execution_count": 2,
   "id": "7ca77157-6c56-43e0-95a8-db869f1b1641",
   "metadata": {},
   "outputs": [
    {
     "name": "stdout",
     "output_type": "stream",
     "text": [
      "maha.txt\n"
     ]
    }
   ],
   "source": [
    "print(f.name)"
   ]
  },
  {
   "cell_type": "code",
   "execution_count": 3,
   "id": "05e72af8-8593-4511-a737-c5713481dab5",
   "metadata": {},
   "outputs": [
    {
     "name": "stdout",
     "output_type": "stream",
     "text": [
      "Video provides a powerful way to help you prove your point. When you click Online Video, you can paste in the embed code for the video you want to add. You can also type a keyword to search online for the video that best fits your document.\n",
      "To make your document look professionally produced, Word provides header, footer, cover page, and text box designs that complement each other. For example, you can add a matching cover page, header, and sidebar. Click Insert and then choose the elements you want from the different galleries.\n",
      "Themes and styles also help keep your document coordinated. When you click Design and choose a new Theme, the pictures, charts, and SmartArt graphics change to match your new theme. When you apply styles, your headings change to match the new theme.\n",
      "Save time in Word with new buttons that show up where you need them. To change the way a picture fits in your document, click it and a button for layout options appears next to it. When you work on a table, click where you want to add a row or a column, and then click the plus sign.\n",
      "Reading is easier, too, in the new Reading view. You can collapse parts of the document and focus on the text you want. If you need to stop reading before you reach the end, Word remembers where you left off - even on another device.\n",
      "\n",
      "\n"
     ]
    }
   ],
   "source": [
    "print(f.read())"
   ]
  },
  {
   "cell_type": "code",
   "execution_count": 4,
   "id": "9286ab13-b3c0-48ce-849b-bbfdf7509927",
   "metadata": {},
   "outputs": [],
   "source": [
    "f.close()"
   ]
  },
  {
   "cell_type": "code",
   "execution_count": 5,
   "id": "0cc08d85-7662-4487-adef-62e2f7d8f2e3",
   "metadata": {},
   "outputs": [
    {
     "data": {
      "text/plain": [
       "True"
      ]
     },
     "execution_count": 5,
     "metadata": {},
     "output_type": "execute_result"
    }
   ],
   "source": [
    "f.closed"
   ]
  },
  {
   "cell_type": "code",
   "execution_count": 6,
   "id": "ed5f2415-ca42-47b4-a4f5-c4d66f2c54a9",
   "metadata": {},
   "outputs": [
    {
     "name": "stdout",
     "output_type": "stream",
     "text": [
      "r\n"
     ]
    }
   ],
   "source": [
    "print(f.mode)"
   ]
  },
  {
   "cell_type": "code",
   "execution_count": 7,
   "id": "af89ac20-264a-4517-9659-481b4badeac2",
   "metadata": {},
   "outputs": [
    {
     "name": "stdout",
     "output_type": "stream",
     "text": [
      "Video provides a powerful way to help you prove your point. When you click Online Video, you can paste in the embed code for the video you want to add. You can also type a keyword to search online for the video that best fits your document.\n",
      "To make your document look professionally produced, Word provides header, footer, cover page, and text box designs that complement each other. For example, you can add a matching cover page, header, and sidebar. Click Insert and then choose the elements you want from the different galleries.\n",
      "Themes and styles also help keep your document coordinated. When you click Design and choose a new Theme, the pictures, charts, and SmartArt graphics change to match your new theme. When you apply styles, your headings change to match the new theme.\n",
      "Save time in Word with new buttons that show up where you need them. To change the way a picture fits in your document, click it and a button for layout options appears next to it. When you work on a table, click where you want to add a row or a column, and then click the plus sign.\n",
      "Reading is easier, too, in the new Reading view. You can collapse parts of the document and focus on the text you want. If you need to stop reading before you reach the end, Word remembers where you left off - even on another device.\n",
      "\n",
      "\n"
     ]
    }
   ],
   "source": [
    "# open with context manager\n",
    "with open('maha.txt','r') as f:\n",
    "    content=f.read()\n",
    "    print(content)"
   ]
  },
  {
   "cell_type": "code",
   "execution_count": 8,
   "id": "e82f709f-3378-44c9-a9fd-fff35302719c",
   "metadata": {},
   "outputs": [
    {
     "data": {
      "text/plain": [
       "True"
      ]
     },
     "execution_count": 8,
     "metadata": {},
     "output_type": "execute_result"
    }
   ],
   "source": [
    "f.closed"
   ]
  },
  {
   "cell_type": "code",
   "execution_count": 9,
   "id": "863f3dfa-cf39-4d82-b08c-a3811081dee6",
   "metadata": {},
   "outputs": [
    {
     "name": "stdout",
     "output_type": "stream",
     "text": [
      "Video provides a powerful way to help you prove your point. When you click Online Video, you can paste in the embed code for the video you want to add. You can also type a keyword to search online for the video that best fits your document.\n",
      "To make your document look professionally produced, Word provides header, footer, cover page, and text box designs that complement each other. For example, you can add a matching cover page, header, and sidebar. Click Insert and then choose the elements you want from the different galleries.\n",
      "Themes and styles also help keep your document coordinated. When you click Design and choose a new Theme, the pictures, charts, and SmartArt graphics change to match your new theme. When you apply styles, your headings change to match the new theme.\n",
      "Save time in Word with new buttons that show up where you need them. To change the way a picture fits in your document, click it and a button for layout options appears next to it. When you work on a table, click where you want to add a row or a column, and then click the plus sign.\n",
      "Reading is easier, too, in the new Reading view. You can collapse parts of the document and focus on the text you want. If you need to stop reading before you reach the end, Word remembers where you left off - even on another device.\n",
      "\n",
      "\n"
     ]
    }
   ],
   "source": [
    "with open('maha.txt','r') as f:\n",
    "    content=f.read()\n",
    "    print(content)"
   ]
  },
  {
   "cell_type": "code",
   "execution_count": 10,
   "id": "b64df63a-b8c9-480b-8ba3-5fc9692552de",
   "metadata": {},
   "outputs": [
    {
     "name": "stdout",
     "output_type": "stream",
     "text": [
      "['Video provides a powerful way to help you prove your point. When you click Online Video, you can paste in the embed code for the video you want to add. You can also type a keyword to search online for the video that best fits your document.\\n', 'To make your document look professionally produced, Word provides header, footer, cover page, and text box designs that complement each other. For example, you can add a matching cover page, header, and sidebar. Click Insert and then choose the elements you want from the different galleries.\\n', 'Themes and styles also help keep your document coordinated. When you click Design and choose a new Theme, the pictures, charts, and SmartArt graphics change to match your new theme. When you apply styles, your headings change to match the new theme.\\n', 'Save time in Word with new buttons that show up where you need them. To change the way a picture fits in your document, click it and a button for layout options appears next to it. When you work on a table, click where you want to add a row or a column, and then click the plus sign.\\n', 'Reading is easier, too, in the new Reading view. You can collapse parts of the document and focus on the text you want. If you need to stop reading before you reach the end, Word remembers where you left off - even on another device.\\n', '\\n']\n"
     ]
    }
   ],
   "source": [
    "with open('maha.txt','r') as f:\n",
    "    content=f.readlines()\n",
    "    print(content)"
   ]
  },
  {
   "cell_type": "code",
   "execution_count": 11,
   "id": "160c1ebb-48c3-4b54-a006-d353b3397b66",
   "metadata": {},
   "outputs": [
    {
     "name": "stdout",
     "output_type": "stream",
     "text": [
      "['this is first line \\n', 'this is second line\\n', 'this is third line']\n"
     ]
    }
   ],
   "source": [
    "# read the whole file with new line\n",
    "with open('test.txt','r') as f:\n",
    "    content=f.readlines()\n",
    "    print(content)"
   ]
  },
  {
   "cell_type": "code",
   "execution_count": 12,
   "id": "8c8f5d6c-fbf6-4549-a840-56a04ddd85d9",
   "metadata": {},
   "outputs": [
    {
     "name": "stdout",
     "output_type": "stream",
     "text": [
      "this is first line \n",
      "\n"
     ]
    }
   ],
   "source": [
    "# read only first line in the file\n",
    "with open('test.txt','r') as f:\n",
    "    content=f.readline()\n",
    "    print(content)"
   ]
  },
  {
   "cell_type": "code",
   "execution_count": 13,
   "id": "f9738735-b9db-422e-b3ba-79a3662ca9a4",
   "metadata": {},
   "outputs": [
    {
     "name": "stdout",
     "output_type": "stream",
     "text": [
      "['this is first line \\n', 'this is second line\\n', 'this is third line'] \n"
     ]
    }
   ],
   "source": [
    "with open('test.txt','r') as f:\n",
    "    content=f.readlines()\n",
    "    print(content,end=' ')\n",
    "    content=f.readline()\n",
    "    print(content)"
   ]
  },
  {
   "cell_type": "code",
   "execution_count": 14,
   "id": "43e01d9c-16a1-443a-b0ca-b71173bcd76c",
   "metadata": {},
   "outputs": [
    {
     "name": "stdout",
     "output_type": "stream",
     "text": [
      "this is first line \n",
      "this is second line\n",
      "this is third line"
     ]
    }
   ],
   "source": [
    "with open('test.txt','r') as f:\n",
    "    for i in f:\n",
    "        print(i,end='')"
   ]
  },
  {
   "cell_type": "code",
   "execution_count": 15,
   "id": "9a11359c-ad5a-489f-826e-31c115ae438f",
   "metadata": {},
   "outputs": [
    {
     "name": "stdout",
     "output_type": "stream",
     "text": [
      "thi\n"
     ]
    }
   ],
   "source": [
    "# read the 3 character\n",
    "with open('test.txt','r') as f:\n",
    "    content=f.read(3)\n",
    "    print(content)"
   ]
  },
  {
   "cell_type": "code",
   "execution_count": 16,
   "id": "6edb28d0-b220-441d-aced-60c50af3b977",
   "metadata": {},
   "outputs": [
    {
     "name": "stdout",
     "output_type": "stream",
     "text": [
      "this *is fi*rst l*ine \n",
      "*this *is se*cond *line\n",
      "*this *is th*ird l*ine*"
     ]
    }
   ],
   "source": [
    "# use while loop to read entire file ... 5 character at a time\n",
    "with open('test.txt','r') as f:\n",
    "    size=5\n",
    "    \n",
    "    content=f.read(size)\n",
    "    while len(content) > 0:\n",
    "        print(content,end='*')\n",
    "        content= f.read(size)\n",
    "        \n"
   ]
  },
  {
   "cell_type": "code",
   "execution_count": 17,
   "id": "cef0b48a-04d3-494f-9a05-3182c944af57",
   "metadata": {},
   "outputs": [
    {
     "name": "stdout",
     "output_type": "stream",
     "text": [
      "this \n",
      "this \n"
     ]
    }
   ],
   "source": [
    "with open('test.txt','r') as f:\n",
    "    size=5\n",
    "    content=f.read(size)\n",
    "    print(content)\n",
    "    f.seek(0)    # will start from the begining\n",
    "    content=f.read(size)\n",
    "    print(content)"
   ]
  },
  {
   "cell_type": "markdown",
   "id": "aaf9e8fa-2505-47e5-9333-82f35f3bc263",
   "metadata": {},
   "source": [
    "## write"
   ]
  },
  {
   "cell_type": "code",
   "execution_count": 20,
   "id": "14611dd1-d624-42c0-ac50-d1888033c1b8",
   "metadata": {},
   "outputs": [],
   "source": [
    "with open('write.txt','w') as w:\n",
    "    pass"
   ]
  },
  {
   "cell_type": "code",
   "execution_count": 28,
   "id": "2a205d64-3131-4952-a8ae-42fa5ce7904d",
   "metadata": {},
   "outputs": [],
   "source": [
    "with open('write.txt','w') as w:\n",
    "    w.write('My name is sakshi')\n",
    "    w.seek(0)\n",
    "    w.write('aaa')\n",
    "    "
   ]
  },
  {
   "cell_type": "code",
   "execution_count": 34,
   "id": "1c339406-9e76-4543-97bf-403cd8b4ffe8",
   "metadata": {},
   "outputs": [],
   "source": [
    "# create a new file which will be the copy of maha txt"
   ]
  },
  {
   "cell_type": "code",
   "execution_count": 35,
   "id": "747a0ffb-fa0c-422d-a298-fa172959245c",
   "metadata": {},
   "outputs": [],
   "source": [
    " with open('maha.txt','r') as rf:\n",
    "     with open('copy_file.txt','w') as w:\n",
    "         for line in rf:\n",
    "             w.write(line)  "
   ]
  },
  {
   "cell_type": "code",
   "execution_count": null,
   "id": "9f48526d-95c2-4158-9333-b8794afe3376",
   "metadata": {},
   "outputs": [],
   "source": [
    "with open('C:\\Users\\admin\\Pictures\\Camera Roll\\Saved Pictures.jpg','rb') as f:\n",
    "    with open('wall_cpy','wb') as w:\n",
    "        for line in f:\n",
    "            w.write(line)"
   ]
  },
  {
   "cell_type": "code",
   "execution_count": null,
   "id": "a65660d8-d6c3-4d2c-88f1-be0a588b8aa7",
   "metadata": {},
   "outputs": [],
   "source": []
  },
  {
   "cell_type": "code",
   "execution_count": null,
   "id": "cfc9e371-7e93-46f6-819d-e06cf49ffd24",
   "metadata": {},
   "outputs": [],
   "source": []
  },
  {
   "cell_type": "code",
   "execution_count": null,
   "id": "029b582e-4435-490b-a6bd-9c2dd40fa48c",
   "metadata": {},
   "outputs": [],
   "source": []
  },
  {
   "cell_type": "code",
   "execution_count": null,
   "id": "d4d17082-d3d9-4855-bb78-1de93234eeaf",
   "metadata": {},
   "outputs": [],
   "source": []
  },
  {
   "cell_type": "code",
   "execution_count": null,
   "id": "70c131cf-80ba-4d0d-9971-12e37c1207e1",
   "metadata": {},
   "outputs": [],
   "source": []
  },
  {
   "cell_type": "code",
   "execution_count": null,
   "id": "2ecb44ee-c61a-4996-961f-64b80448fe6b",
   "metadata": {},
   "outputs": [],
   "source": []
  }
 ],
 "metadata": {
  "kernelspec": {
   "display_name": "Python 3 (ipykernel)",
   "language": "python",
   "name": "python3"
  },
  "language_info": {
   "codemirror_mode": {
    "name": "ipython",
    "version": 3
   },
   "file_extension": ".py",
   "mimetype": "text/x-python",
   "name": "python",
   "nbconvert_exporter": "python",
   "pygments_lexer": "ipython3",
   "version": "3.11.7"
  }
 },
 "nbformat": 4,
 "nbformat_minor": 5
}
