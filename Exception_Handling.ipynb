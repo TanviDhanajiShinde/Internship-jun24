{
 "cells": [
  {
   "cell_type": "code",
   "execution_count": 1,
   "id": "1f941a26-cf3f-419a-9d9f-959c96a53ad8",
   "metadata": {
    "scrolled": true
   },
   "outputs": [
    {
     "ename": "FileNotFoundError",
     "evalue": "[Errno 2] No such file or directory: 'all.txt'",
     "output_type": "error",
     "traceback": [
      "\u001b[1;31m---------------------------------------------------------------------------\u001b[0m",
      "\u001b[1;31mFileNotFoundError\u001b[0m                         Traceback (most recent call last)",
      "Cell \u001b[1;32mIn[1], line 1\u001b[0m\n\u001b[1;32m----> 1\u001b[0m f\u001b[38;5;241m=\u001b[39m\u001b[38;5;28mopen\u001b[39m(\u001b[38;5;124m'\u001b[39m\u001b[38;5;124mall.txt\u001b[39m\u001b[38;5;124m'\u001b[39m)\n",
      "File \u001b[1;32m~\\anaconda3\\Lib\\site-packages\\IPython\\core\\interactiveshell.py:310\u001b[0m, in \u001b[0;36m_modified_open\u001b[1;34m(file, *args, **kwargs)\u001b[0m\n\u001b[0;32m    303\u001b[0m \u001b[38;5;28;01mif\u001b[39;00m file \u001b[38;5;129;01min\u001b[39;00m {\u001b[38;5;241m0\u001b[39m, \u001b[38;5;241m1\u001b[39m, \u001b[38;5;241m2\u001b[39m}:\n\u001b[0;32m    304\u001b[0m     \u001b[38;5;28;01mraise\u001b[39;00m \u001b[38;5;167;01mValueError\u001b[39;00m(\n\u001b[0;32m    305\u001b[0m         \u001b[38;5;124mf\u001b[39m\u001b[38;5;124m\"\u001b[39m\u001b[38;5;124mIPython won\u001b[39m\u001b[38;5;124m'\u001b[39m\u001b[38;5;124mt let you open fd=\u001b[39m\u001b[38;5;132;01m{\u001b[39;00mfile\u001b[38;5;132;01m}\u001b[39;00m\u001b[38;5;124m by default \u001b[39m\u001b[38;5;124m\"\u001b[39m\n\u001b[0;32m    306\u001b[0m         \u001b[38;5;124m\"\u001b[39m\u001b[38;5;124mas it is likely to crash IPython. If you know what you are doing, \u001b[39m\u001b[38;5;124m\"\u001b[39m\n\u001b[0;32m    307\u001b[0m         \u001b[38;5;124m\"\u001b[39m\u001b[38;5;124myou can use builtins\u001b[39m\u001b[38;5;124m'\u001b[39m\u001b[38;5;124m open.\u001b[39m\u001b[38;5;124m\"\u001b[39m\n\u001b[0;32m    308\u001b[0m     )\n\u001b[1;32m--> 310\u001b[0m \u001b[38;5;28;01mreturn\u001b[39;00m io_open(file, \u001b[38;5;241m*\u001b[39margs, \u001b[38;5;241m*\u001b[39m\u001b[38;5;241m*\u001b[39mkwargs)\n",
      "\u001b[1;31mFileNotFoundError\u001b[0m: [Errno 2] No such file or directory: 'all.txt'"
     ]
    }
   ],
   "source": [
    "f=open('all.txt')   # default mode is read"
   ]
  },
  {
   "cell_type": "code",
   "execution_count": 4,
   "id": "5a78fbeb-d261-4bad-91d3-b9019c9a1c2e",
   "metadata": {},
   "outputs": [
    {
     "name": "stdout",
     "output_type": "stream",
     "text": [
      "File is not there\n"
     ]
    }
   ],
   "source": [
    "try:\n",
    "    f=open('all.txt')\n",
    "except Exception:\n",
    "    print('File is not there')"
   ]
  },
  {
   "cell_type": "code",
   "execution_count": 22,
   "id": "b896cd07-715a-4bd6-b48c-82958eacac67",
   "metadata": {},
   "outputs": [
    {
     "name": "stdout",
     "output_type": "stream",
     "text": [
      "variable is not defined\n"
     ]
    }
   ],
   "source": [
    "try:\n",
    "    f=open('maha.txt')\n",
    "    var=var1   # here will also be error\n",
    "except FileNotFoundError: \n",
    "    print('File is not there')\n",
    "except NameError: \n",
    "    print('variable is not defined')"
   ]
  },
  {
   "cell_type": "code",
   "execution_count": 23,
   "id": "32e6ab20-1e51-43a3-b7cb-4eb3ff84e7af",
   "metadata": {},
   "outputs": [
    {
     "name": "stdout",
     "output_type": "stream",
     "text": [
      "name 'var1' is not defined\n"
     ]
    }
   ],
   "source": [
    "try:\n",
    "    f=open('maha.txt')\n",
    "    var=var1   # here will also be error\n",
    "except FileNotFoundError: \n",
    "    print('File is not there')\n",
    "except Exception as e: \n",
    "    print(e)"
   ]
  },
  {
   "cell_type": "code",
   "execution_count": 27,
   "id": "2da6f055-4efa-4ace-908b-565a85a26172",
   "metadata": {},
   "outputs": [
    {
     "name": "stdout",
     "output_type": "stream",
     "text": [
      "Video provides a powerful way to help you prove your point. When you click Online Video, you can paste in the embed code for the video you want to add. You can also type a keyword to search online for the video that best fits your document.\n",
      "To make your document look professionally produced, Word provides header, footer, cover page, and text box designs that complement each other. For example, you can add a matching cover page, header, and sidebar. Click Insert and then choose the elements you want from the different galleries.\n",
      "Themes and styles also help keep your document coordinated. When you click Design and choose a new Theme, the pictures, charts, and SmartArt graphics change to match your new theme. When you apply styles, your headings change to match the new theme.\n",
      "Save time in Word with new buttons that show up where you need them. To change the way a picture fits in your document, click it and a button for layout options appears next to it. When you work on a table, click where you want to add a row or a column, and then click the plus sign.\n",
      "Reading is easier, too, in the new Reading view. You can collapse parts of the document and focus on the text you want. If you need to stop reading before you reach the end, Word remembers where you left off - even on another device.\n",
      "\n",
      "\n"
     ]
    }
   ],
   "source": [
    "try:\n",
    "    f=open('maha.txt')\n",
    "except Exception:\n",
    "    print('File is not there')\n",
    "else:     # will execute if we are not getting an erro in try block \n",
    "    print(f.read())\n",
    "    f.close\n"
   ]
  },
  {
   "cell_type": "code",
   "execution_count": 35,
   "id": "f695b29a-0864-49a8-97f4-86681e4d03e6",
   "metadata": {},
   "outputs": [
    {
     "name": "stdout",
     "output_type": "stream",
     "text": [
      "File is not there\n",
      "finally block\n"
     ]
    }
   ],
   "source": [
    "try:\n",
    "    f=open('test7.txt')\n",
    "except FileNotFoundError:\n",
    "    print('File is not there')\n",
    "else:\n",
    "    print('ok')# will execute if we are not getting an erro in try block \n",
    "   \n",
    "finally:\n",
    "    print('finally block')"
   ]
  },
  {
   "cell_type": "code",
   "execution_count": null,
   "id": "d663d61a-10f4-4e61-bb09-760abc389314",
   "metadata": {},
   "outputs": [],
   "source": []
  }
 ],
 "metadata": {
  "kernelspec": {
   "display_name": "Python 3 (ipykernel)",
   "language": "python",
   "name": "python3"
  },
  "language_info": {
   "codemirror_mode": {
    "name": "ipython",
    "version": 3
   },
   "file_extension": ".py",
   "mimetype": "text/x-python",
   "name": "python",
   "nbconvert_exporter": "python",
   "pygments_lexer": "ipython3",
   "version": "3.11.7"
  }
 },
 "nbformat": 4,
 "nbformat_minor": 5
}
