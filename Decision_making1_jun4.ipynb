{
 "cells": [
  {
   "cell_type": "code",
   "execution_count": 1,
   "id": "97b5f7c1-cb7e-4c01-8a41-0e67e22575a4",
   "metadata": {},
   "outputs": [
    {
     "name": "stdin",
     "output_type": "stream",
     "text": [
      "enter the number 6\n"
     ]
    }
   ],
   "source": [
    "# check if number is greater than 50\n",
    "num = int(input(\"enter the number\"))\n",
    "if (num > 50):\n",
    "    print(\"ok\")"
   ]
  },
  {
   "cell_type": "code",
   "execution_count": 2,
   "id": "c5698b93-eba0-4e1a-8d58-fc72b25f0b2a",
   "metadata": {},
   "outputs": [
    {
     "name": "stdin",
     "output_type": "stream",
     "text": [
      "enter the number 5\n"
     ]
    },
    {
     "name": "stdout",
     "output_type": "stream",
     "text": [
      "the number is positive\n",
      "ok\n"
     ]
    }
   ],
   "source": [
    "## check if number is positive or negative\n",
    "num=int(input(\"enter the number\"))\n",
    "if(num > 0):\n",
    "    print(\"the number is positive\")\n",
    "    print('ok')\n",
    "else :\n",
    "    print(\"the number is negative\")\n",
    "    print('goodbye')"
   ]
  },
  {
   "cell_type": "code",
   "execution_count": 3,
   "id": "962b3479-2a9e-43f5-9f4e-51316f335628",
   "metadata": {},
   "outputs": [
    {
     "name": "stdin",
     "output_type": "stream",
     "text": [
      "enter the number 0\n"
     ]
    },
    {
     "name": "stdout",
     "output_type": "stream",
     "text": [
      "zero\n"
     ]
    }
   ],
   "source": [
    "# if user enter the number is 0\n",
    "num=int(input(\"enter the number\"))\n",
    "if(num > 0):\n",
    "    print(\"the number is positive\")\n",
    "    print('ok')\n",
    "elif(num==0):\n",
    "    print('zero')  # zero is not negative and not positive it is netural\n",
    "else :\n",
    "    print(\"the number is negative\")\n",
    "    print('goodbye')"
   ]
  },
  {
   "cell_type": "code",
   "execution_count": 4,
   "id": "40aa3c8f-56f2-4aec-8e75-485c8b796665",
   "metadata": {},
   "outputs": [
    {
     "name": "stdin",
     "output_type": "stream",
     "text": [
      "enter the number 6\n"
     ]
    },
    {
     "name": "stdout",
     "output_type": "stream",
     "text": [
      "number is even\n"
     ]
    }
   ],
   "source": [
    "# even or odd\n",
    "num=int(input(\"enter the number\"))\n",
    "if(num % 2 == 0) :\n",
    "    print(\"number is even\")\n",
    "elif(num==0):\n",
    "    print('zero') \n",
    "else:\n",
    "    print(\"number is odd\")"
   ]
  },
  {
   "cell_type": "code",
   "execution_count": 5,
   "id": "b2fbf77a-2395-44c0-ab11-a5de50b71a54",
   "metadata": {},
   "outputs": [
    {
     "data": {
      "text/plain": [
       "0"
      ]
     },
     "execution_count": 5,
     "metadata": {},
     "output_type": "execute_result"
    }
   ],
   "source": [
    "int(False)"
   ]
  },
  {
   "cell_type": "code",
   "execution_count": 6,
   "id": "a8b0a761-c647-4595-9eb4-6f436f731340",
   "metadata": {},
   "outputs": [
    {
     "data": {
      "text/plain": [
       "1"
      ]
     },
     "execution_count": 6,
     "metadata": {},
     "output_type": "execute_result"
    }
   ],
   "source": [
    "int(True)"
   ]
  },
  {
   "cell_type": "code",
   "execution_count": 7,
   "id": "acd30b07-4ee2-4730-8c52-5193c734dd00",
   "metadata": {},
   "outputs": [
    {
     "data": {
      "text/plain": [
       "2"
      ]
     },
     "execution_count": 7,
     "metadata": {},
     "output_type": "execute_result"
    }
   ],
   "source": [
    "True+True+False"
   ]
  },
  {
   "cell_type": "code",
   "execution_count": 8,
   "id": "63e61d4e-f212-4f2e-ac32-4837d6d62d1e",
   "metadata": {},
   "outputs": [
    {
     "name": "stdout",
     "output_type": "stream",
     "text": [
      "ok\n"
     ]
    }
   ],
   "source": [
    "a=56\n",
    "if a: # it also check the a is exist or not\n",
    "    print('ok')"
   ]
  },
  {
   "cell_type": "code",
   "execution_count": 9,
   "id": "7ff72deb-2f54-4765-b8f3-e35068b9fc18",
   "metadata": {},
   "outputs": [
    {
     "name": "stdin",
     "output_type": "stream",
     "text": [
      "enter the number 89\n"
     ]
    },
    {
     "name": "stdout",
     "output_type": "stream",
     "text": [
      "correct\n"
     ]
    }
   ],
   "source": [
    "# check if the number in between 50 and 150\n",
    "num=int(input(\"enter the number\"))\n",
    "if num > 50:\n",
    "    if num <150:\n",
    "        print('correct')\n",
    "    else:\n",
    "        print(\"greater than 150\")\n",
    "else:\n",
    "        print(\"not correct\")"
   ]
  },
  {
   "cell_type": "code",
   "execution_count": 10,
   "id": "6701e3a3-e6d0-4301-8a33-11f7c258b260",
   "metadata": {},
   "outputs": [
    {
     "name": "stdin",
     "output_type": "stream",
     "text": [
      "enter the number 89000\n"
     ]
    },
    {
     "name": "stdout",
     "output_type": "stream",
     "text": [
      "incorrect\n"
     ]
    }
   ],
   "source": [
    "num=int(input(\"enter the number\"))\n",
    "if num > 50 and num <150 :\n",
    "     print('correct')\n",
    "else:\n",
    "        print(\"incorrect\")\n",
    "    "
   ]
  },
  {
   "cell_type": "code",
   "execution_count": 11,
   "id": "c6a10839-5ab4-44ff-9f07-edcf2eac8606",
   "metadata": {},
   "outputs": [
    {
     "name": "stdin",
     "output_type": "stream",
     "text": [
      "enter the pur_cost  780\n",
      "enter the selling_cost  345\n"
     ]
    },
    {
     "name": "stdout",
     "output_type": "stream",
     "text": [
      "loss\n",
      "435\n"
     ]
    }
   ],
   "source": [
    "pur_cost=int(input(\"enter the pur_cost \"))\n",
    "selling_cost=int(input(\"enter the selling_cost \"))\n",
    "if (pur_cost < selling_cost) :\n",
    "    print('profit')\n",
    "    profit=selling_cost-pur_cost\n",
    "    print(profit)\n",
    "else:\n",
    "    print('loss')\n",
    "    loss=pur_cost-selling_cost\n",
    "    print(loss)\n",
    "    "
   ]
  },
  {
   "cell_type": "code",
   "execution_count": 12,
   "id": "14ad9004-38fd-49f8-97f2-da8338cee38e",
   "metadata": {},
   "outputs": [
    {
     "name": "stdin",
     "output_type": "stream",
     "text": [
      "enter the number 6\n",
      "enter the number 7\n",
      "enter the number 8\n"
     ]
    },
    {
     "name": "stdout",
     "output_type": "stream",
     "text": [
      "num3 is greater\n"
     ]
    }
   ],
   "source": [
    "num1=int(input(\"enter the number\"))\n",
    "num2=int(input(\"enter the number\"))\n",
    "num3=int(input(\"enter the number\"))\n",
    "if (num1 > num2):\n",
    "    if(num1 > num3):\n",
    "        print(\"num1 is greater\")\n",
    "    else:\n",
    "        print(\"num3 is greater\")\n",
    "else:\n",
    "    if(num2 > num3):\n",
    "        print(\"num2 is greater\")\n",
    "    else:\n",
    "        print(\"num3 is greater\")"
   ]
  },
  {
   "cell_type": "code",
   "execution_count": 45,
   "id": "57e60871-3c64-4805-ab19-49513c332bd6",
   "metadata": {},
   "outputs": [
    {
     "name": "stdin",
     "output_type": "stream",
     "text": [
      "enter the year 2000\n"
     ]
    },
    {
     "name": "stdout",
     "output_type": "stream",
     "text": [
      "leap century year\n"
     ]
    }
   ],
   "source": [
    "# check the leap year\n",
    "year=int(input(\"enter the year\"))\n",
    "if(year % 4==0): \n",
    "    if(year % 100 == 0): # checking the century year\n",
    "        if(year % 400 == 0):\n",
    "             print(\"leap century year\") \n",
    "        else:\n",
    "            print('century year but not leap year')          \n",
    "    else:\n",
    "         print(\"leap year\")\n",
    "else:\n",
    "    print(\"not leap year\")"
   ]
  },
  {
   "cell_type": "code",
   "execution_count": 56,
   "id": "9eb679d3-ab98-4874-bae1-2e68205a10db",
   "metadata": {},
   "outputs": [
    {
     "name": "stdin",
     "output_type": "stream",
     "text": [
      "enter the marks 35\n"
     ]
    },
    {
     "name": "stdout",
     "output_type": "stream",
     "text": [
      "fail\n"
     ]
    }
   ],
   "source": [
    "''' > 60 first class\n",
    "> 50 sf\n",
    ">40 tf\n",
    ">35 pass\n",
    "<= 35 fail\n",
    "'''\n",
    "marks=int(input(\"enter the marks\"))\n",
    "if(marks >= 60):\n",
    "    print('first class')\n",
    "elif(marks >= 50):\n",
    "    \n",
    "    print('second class')\n",
    "elif(marks >= 40):\n",
    "    print('third class')\n",
    "elif(marks > 35):\n",
    "    print('pass')\n",
    "else:\n",
    "    print('fail')"
   ]
  },
  {
   "cell_type": "code",
   "execution_count": 65,
   "id": "49370d05-09da-40f1-8c49-7f6bb68c100c",
   "metadata": {},
   "outputs": [
    {
     "name": "stdin",
     "output_type": "stream",
     "text": [
      "enter the number 400\n"
     ]
    },
    {
     "name": "stdout",
     "output_type": "stream",
     "text": [
      "MENU :\n",
      " 1.Square \n",
      " 2.Cude \n",
      " 3.check positve or negative\n"
     ]
    },
    {
     "name": "stdin",
     "output_type": "stream",
     "text": [
      "enter the choice 1\n"
     ]
    },
    {
     "name": "stdout",
     "output_type": "stream",
     "text": [
      "Square is : 160000\n"
     ]
    }
   ],
   "source": [
    "# menu driven\n",
    "'''\n",
    "based on the choice it will do square,cude or check +ve or -ve\n",
    "'''\n",
    "num=int(input(\"enter the number\"))\n",
    "print('MENU :\\n 1.Square \\n 2.Cude \\n 3.check positve or negative')\n",
    "choice=int(input(\"enter the choice\"))\n",
    "if choice == 1:\n",
    "    print('Square is :',num*num)\n",
    "elif choice == 2:\n",
    "    print('Cude is :',num*num*num)\n",
    "elif choice == 3:\n",
    "    if num > 0 :\n",
    "         print('positive')\n",
    "    else:\n",
    "         print('negative')\n",
    "else:\n",
    "    print('invalid choice')"
   ]
  },
  {
   "cell_type": "code",
   "execution_count": 69,
   "id": "750ab926-b71c-43db-848f-b1f3b72da641",
   "metadata": {},
   "outputs": [
    {
     "name": "stdin",
     "output_type": "stream",
     "text": [
      "enter the number 3\n",
      "enter the number 4\n"
     ]
    },
    {
     "name": "stdout",
     "output_type": "stream",
     "text": [
      "MENU :\n",
      " 1.Addition \n",
      " 2.Subtraction \n",
      " 3.Floor division  \n",
      " 4. to find greater number\n"
     ]
    },
    {
     "name": "stdin",
     "output_type": "stream",
     "text": [
      "enter the choice 56\n"
     ]
    },
    {
     "name": "stdout",
     "output_type": "stream",
     "text": [
      "invalid choice\n"
     ]
    }
   ],
   "source": [
    "# read 2 \n",
    "num=int(input(\"enter the number\"))\n",
    "num1=int(input(\"enter the number\"))\n",
    "print('MENU :\\n 1.Addition \\n 2.Subtraction \\n 3.Floor division  \\n 4. to find greater number')\n",
    "choice=int(input(\"enter the choice\"))\n",
    "if choice == 1:\n",
    "    print(\"Addtion is :\",num+num1)\n",
    "elif choice == 2:\n",
    "    print('Subtraction is :',num-num2)\n",
    "elif choice == 3: \n",
    "    print('Floor division :',num//num)\n",
    "elif choice == 4:\n",
    "    if num > num1 :\n",
    "         print('num is greater')\n",
    "    else:\n",
    "         print('num1 is greater')\n",
    "else:\n",
    "    print('invalid choice')        "
   ]
  },
  {
   "cell_type": "code",
   "execution_count": null,
   "id": "4246aa8d-a202-45fd-bcf0-04ee99c32605",
   "metadata": {},
   "outputs": [],
   "source": []
  }
 ],
 "metadata": {
  "kernelspec": {
   "display_name": "Python 3 (ipykernel)",
   "language": "python",
   "name": "python3"
  },
  "language_info": {
   "codemirror_mode": {
    "name": "ipython",
    "version": 3
   },
   "file_extension": ".py",
   "mimetype": "text/x-python",
   "name": "python",
   "nbconvert_exporter": "python",
   "pygments_lexer": "ipython3",
   "version": "3.11.7"
  }
 },
 "nbformat": 4,
 "nbformat_minor": 5
}
