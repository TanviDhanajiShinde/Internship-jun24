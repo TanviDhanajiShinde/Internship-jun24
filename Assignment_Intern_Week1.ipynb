{
 "cells": [
  {
   "cell_type": "code",
   "execution_count": 17,
   "id": "628e2362-7861-4bca-98a1-eaf42a7378fc",
   "metadata": {},
   "outputs": [
    {
     "name": "stdin",
     "output_type": "stream",
     "text": [
      "Enter the number of Day : 780\n"
     ]
    },
    {
     "name": "stdout",
     "output_type": "stream",
     "text": [
      "conversion is: 2 : 7 : 1\n"
     ]
    }
   ],
   "source": [
    "'''\n",
    "1. Write a Program to convert Specific day into years,weeks and days \n",
    "Take user input.\n",
    "Note : Ignore leap year\n",
    "''';\n",
    "Day=int(input('Enter the number of Day :'))\n",
    "year=Day//365\n",
    "year\n",
    "rem_day=Day%365\n",
    "Weeks=rem_day//7\n",
    "day=rem_day%7\n",
    "\n",
    "print('conversion is:',year,':',Weeks,':',day)"
   ]
  },
  {
   "cell_type": "code",
   "execution_count": 18,
   "id": "c6bb3872-e05c-49f6-8444-56a71f7fefab",
   "metadata": {},
   "outputs": [
    {
     "name": "stdin",
     "output_type": "stream",
     "text": [
      "Enter the basic salary of the employee:  456000\n"
     ]
    },
    {
     "name": "stdout",
     "output_type": "stream",
     "text": [
      "Gross Salary = 1048800.0\n"
     ]
    }
   ],
   "source": [
    "'''\n",
    "2. Write a Python program to input basic salary of an employee and\n",
    "calculate its Gross salary according to following:\n",
    "Basic Salary <= 10000 : HRA = 20%, DA = 80%\n",
    "Basic Salary <= 20000 : HRA = 30%, DA = 90%\n",
    "Basic Salary > 20000 : HRA = 35%, DA = 95%\n",
    "'''\n",
    "basic_salary = float(input(\"Enter the basic salary of the employee: \"))\n",
    "\n",
    "# Calculate HRA and DA based on the basic salary\n",
    "if basic_salary <= 10000:\n",
    "    hra = 0.20 * basic_salary\n",
    "    da = 0.80 * basic_salary\n",
    "elif basic_salary <= 20000:\n",
    "    hra = 0.30 * basic_salary\n",
    "    da = 0.90 * basic_salary\n",
    "else:\n",
    "    hra = 0.35 * basic_salary\n",
    "    da = 0.95 * basic_salary\n",
    "\n",
    "# Calculate the gross salary\n",
    "print('Gross Salary =',(basic_salary+hra+da))\n"
   ]
  },
  {
   "cell_type": "code",
   "execution_count": 34,
   "id": "3aff7822-29e9-403f-9aad-390765fc6e52",
   "metadata": {},
   "outputs": [
    {
     "name": "stdin",
     "output_type": "stream",
     "text": [
      "Enter the number of electricity units consumed:  500\n"
     ]
    },
    {
     "name": "stdout",
     "output_type": "stream",
     "text": [
      "Total electricity bill including surcharge: Rs. 702.0\n"
     ]
    }
   ],
   "source": [
    "'''\n",
    "3.Write a Python program to input electricity unit charges and calculate total\n",
    "electricity bill according to the given condition:\n",
    "For first 50 units Rs. 0.50/unit\n",
    "For next 100 units Rs. 0.75/unit\n",
    "For next 100 units Rs. 1.25/unit\n",
    "For unit above 250 Rs. 1.50/unit\n",
    "An additional surcharge of 17% is added to the bill\n",
    "'''\n",
    "units = float(input(\"Enter the number of electricity units consumed: \"))\n",
    "total_bill = 0\n",
    "if units <= 50:\n",
    "    total_bill = units * 0.50\n",
    "elif units <= 150:\n",
    "    total_bill = (50 * 0.50) + ((units - 50) * 0.75)\n",
    "elif units <= 250:\n",
    "    total_bill = (50 * 0.50) + (100 * 0.75) + ((units - 150) * 1.25)\n",
    "else:\n",
    "    total_bill = (50 * 0.50) + (100 * 0.75) + (100 * 1.25) + ((units - 250) * 1.50)\n",
    "\n",
    "surcharge = total_bill * 0.17\n",
    "total_bill_with_surcharge = total_bill + surcharge\n",
    "\n",
    "print(\"Total electricity bill including surcharge: Rs.\", total_bill_with_surcharge)"
   ]
  },
  {
   "cell_type": "code",
   "execution_count": 21,
   "id": "73c9d08c-5214-439e-8f96-c9f08c82a16f",
   "metadata": {},
   "outputs": [
    {
     "name": "stdout",
     "output_type": "stream",
     "text": [
      "1 \n",
      "2 2 \n",
      "3 3 3 \n",
      "4 4 4 4 \n",
      "5 5 5 5 5 \n"
     ]
    }
   ],
   "source": [
    "'''\n",
    "4.Write a Python program to print the given number patterns.\n",
    "1\n",
    "2 2\n",
    "3 3 3\n",
    "4 4 4 4\n",
    "5 5 5 5 5\n",
    "''';\n",
    "for i in range(1,6):\n",
    "    for j in range(i):\n",
    "        print(i,end=' ')\n",
    "\n",
    "    print() \n",
    "    \n",
    "       "
   ]
  },
  {
   "cell_type": "code",
   "execution_count": 24,
   "id": "8f9766d5-3ec2-42e2-99f4-c42e2c267a72",
   "metadata": {},
   "outputs": [
    {
     "name": "stdin",
     "output_type": "stream",
     "text": [
      "Enter a number:  1234\n"
     ]
    },
    {
     "name": "stdout",
     "output_type": "stream",
     "text": [
      "The product of the digits is: 24\n"
     ]
    }
   ],
   "source": [
    "'''\n",
    "5.Write a Python program to calculate product of digits of a number. Read\n",
    "value of n from user.\n",
    "''';\n",
    "n = input(\"Enter a number: \")\n",
    "product = 1 \n",
    "for digit in n:\n",
    "\n",
    "    product *= int(digit)\n",
    "print(\"The product of the digits is:\", product)"
   ]
  },
  {
   "cell_type": "code",
   "execution_count": 32,
   "id": "2085acbf-0b1b-478c-b216-3a609e649191",
   "metadata": {},
   "outputs": [
    {
     "name": "stdout",
     "output_type": "stream",
     "text": [
      "Strings: ['Hello', 'World']\n",
      "Uppercase strings: ['HELLO', 'WORLD']\n",
      "Addition of integer= 124\n",
      "Is 56 present: False\n",
      "Reversed list: ['World', 23.45, 'Hello', 12, 67, 45]\n",
      "Total elements: 6\n",
      "Extracted values: [67, 12, 23.45, 36]\n",
      "Final list: [45, 67, 12, 23.45, 36, 'World', 34]\n"
     ]
    }
   ],
   "source": [
    "'''\n",
    "6.Create a list of elements like: x = [45, 67, 12, ‘Hello’, 23.45, ‘World’] and\n",
    "oerform following\n",
    "operations\n",
    "1. Extract only string values from this list.\n",
    "2. Create a new list with strings in upper case.\n",
    "3. Find the addition of integer values\n",
    "4. Check that the value 56 is present in it or not.\n",
    "5. Print the list in reverse order.\n",
    "6. Delete the string ‘Hello’ from it.\n",
    "7. Insert a new value of 36 at 5th position in list.\n",
    "8. Count total number of elements in list now.\n",
    "9. Extract the values from 2nd index to 5th index.\n",
    "10. Append [34, ‘Pune’] to this list.\n",
    "11. Delete the last element from list.\n",
    "'''\n",
    "x = [45, 67, 12, 'Hello', 23.45, 'World']\n",
    "# 1. Extract only string values from this list.\n",
    "strings = [item for item in x if isinstance(item, str)]\n",
    "print(\"Strings:\", strings)\n",
    "# 2. Create a new list with strings in upper case.\n",
    "upper_strings = [string.upper() for string in strings]\n",
    "print(\"Uppercase strings:\", upper_strings)\n",
    "# 3. Find the addition of integer values\n",
    "sum=0\n",
    "for i in x :\n",
    "    if type(i)==int:\n",
    "        sum=sum+i\n",
    "print('Addition of integer=',sum)\n",
    "# 4. Check that the value 56 is present in it or not.\n",
    "print(\"Is 56 present:\", 56 in x)\n",
    "# 5. Print the list in reverse order.\n",
    "print(\"Reversed list:\", x[::-1])\n",
    "# 6. Delete the string 'Hello' from it.\n",
    "x.remove('Hello')\n",
    "# 7. Insert a new value of 36 at 5th position in list.\n",
    "x.insert(4, 36)\n",
    "# 8. Count total number of elements in list now.\n",
    "total_elements = len(x)\n",
    "print(\"Total elements:\", total_elements)\n",
    "# 9. Extract the values from 2nd index to 5th index.\n",
    "extracted_values = x[1:5]\n",
    "print(\"Extracted values:\", extracted_values)\n",
    "# 10. Append [34, 'Pune'] to this list.\n",
    "x.extend([34, 'Pune'])\n",
    "# 11. Delete the last element from list.\n",
    "del x[-1]\n",
    "print(\"Final list:\", x)"
   ]
  },
  {
   "cell_type": "code",
   "execution_count": 26,
   "id": "cd059b5f-2233-4ffc-9972-e3ced74c0ad8",
   "metadata": {},
   "outputs": [
    {
     "name": "stdout",
     "output_type": "stream",
     "text": [
      "Sorted data: (10.1, 12.7, 29.4, 34.5, 50.0)\n",
      "Is 50.0 present in the tuple?: True\n",
      "Converted set: {34.5, 10.1, 12.7, 50.0, 29.4}\n"
     ]
    }
   ],
   "source": [
    "'''\n",
    "7.Create a tuple of elements with 5 float values in it and perform following\n",
    "operations.\n",
    "1. Print the data in sorted manner.\n",
    "2. Check to see that the element 50 is present in it.\n",
    "3. Convert this tuple in set.\n",
    "'''\n",
    "float_tuple = (34.5, 12.7, 50.0, 29.4, 10.1)\n",
    "# 1. Print the data in sorted manner\n",
    "sorted_tuple = tuple(sorted(float_tuple))\n",
    "print(\"Sorted data:\", sorted_tuple)\n",
    "# 2. Check to see that the element 50 is present in it\n",
    "element_to_check = 50.0\n",
    "is_present = element_to_check in float_tuple\n",
    "print(f\"Is {element_to_check} present in the tuple?:\", is_present)\n",
    "# 3. Convert this tuple to a set\n",
    "float_set = set(float_tuple)\n",
    "print(\"Converted set:\", float_set)"
   ]
  },
  {
   "cell_type": "code",
   "execution_count": 27,
   "id": "7c93fee8-7dc8-46d2-bfc9-b6ef466a4b0f",
   "metadata": {},
   "outputs": [
    {
     "name": "stdout",
     "output_type": "stream",
     "text": [
      "Data at key 'k': king\n",
      "Dictionary after adding ('z', 'zebra'): {'a': 'apple', 'b': 'ball', 'c': 'cat', 'd': 'doll', 'k': 'king', 'z': 'zebra'}\n",
      "Dictionary after replacing ('d', 'dog'): {'a': 'apple', 'b': 'ball', 'c': 'cat', 'd': 'dog', 'k': 'king', 'z': 'zebra'}\n",
      "All values in the dictionary: ['apple', 'ball', 'cat', 'dog', 'king', 'zebra']\n",
      "Length of the dictionary: 6\n"
     ]
    }
   ],
   "source": [
    "'''\n",
    "8.Create a dictionary of elements: {‘a’: ‘apple’, ‘b’: ‘ball’, ‘c’: ‘cat’, ‘d’: ‘doll’, ‘k’:\n",
    "‘king’} and\n",
    "perform following operations.\n",
    "1. Access the data at key ‘k’.\n",
    "2. Add a new values ‘z’: ‘zebra’\n",
    "3. Replace the contents of ‘d’ as ‘dog’\n",
    "4. Print all the values from this dictionary.\n",
    "5. Find the length of this dictionary.\n",
    "''';\n",
    "elements = {'a': 'apple', 'b': 'ball', 'c': 'cat', 'd': 'doll', 'k': 'king'}\n",
    "# 1. Access the data at key ‘k’\n",
    "data_at_k = elements['k']\n",
    "print(\"Data at key 'k':\", data_at_k)\n",
    "# 2. Add a new value ‘z’: ‘zebra’\n",
    "elements['z'] = 'zebra'\n",
    "print(\"Dictionary after adding ('z', 'zebra'):\", elements)\n",
    "# 3. Replace the contents of ‘d’ as ‘dog’\n",
    "elements['d'] = 'dog'\n",
    "print(\"Dictionary after replacing ('d', 'dog'):\", elements)\n",
    "# 4. Print all the values from this dictionary\n",
    "all_values = elements.values()\n",
    "print(\"All values in the dictionary:\", list(all_values))\n",
    "# 5. Find the length of this dictionary\n",
    "length_of_dictionary = len(elements)\n",
    "print(\"Length of the dictionary:\", length_of_dictionary)"
   ]
  },
  {
   "cell_type": "code",
   "execution_count": 35,
   "id": "6ecc8a91-4f41-4be9-9218-df55c4097d5e",
   "metadata": {},
   "outputs": [
    {
     "name": "stdout",
     "output_type": "stream",
     "text": [
      "The second largest number is: 56\n"
     ]
    }
   ],
   "source": [
    "'''\n",
    "9. Write a program to find the second largest element in a list.\n",
    "'''\n",
    "numbers = [89,54,2,8,34,56]\n",
    "\n",
    "if len(numbers) < 2:\n",
    "    second_largest = None  # Not enough elements to find the second largest\n",
    "else:\n",
    "    sorted_numbers = sorted(numbers, reverse=True)\n",
    "    first_largest = sorted_numbers[0]\n",
    "    second_largest = None\n",
    "    for num in sorted_numbers:\n",
    "        if num < first_largest:\n",
    "            second_largest = num\n",
    "            break\n",
    "\n",
    "if second_largest is not None:\n",
    "    print(\"The second largest number is:\", second_largest)\n",
    "else:\n",
    "    print(\"The list does not have enough unique elements to determine the second largest number.\")"
   ]
  },
  {
   "cell_type": "code",
   "execution_count": 36,
   "id": "8420d202-fa0d-4c86-9fd3-e761d7fa59ac",
   "metadata": {},
   "outputs": [
    {
     "name": "stdout",
     "output_type": "stream",
     "text": [
      "Original list: ['silver', 'gold', 'copper', 'iron', 'lead']\n",
      "New list without 'copper': ['silver', 'gold', 'iron', 'lead']\n"
     ]
    }
   ],
   "source": [
    "'''\n",
    "10.This is a list of some metallic elements.\n",
    "metals = [ 'silver','gold', ... ]\n",
    "Make a new list that is almost identical to the metals list: the new\n",
    "contains the same items, in the same order, except that it does NOT\n",
    "contain the item 'copper'.\n",
    "'''\n",
    "metals = ['silver', 'gold', 'copper', 'iron', 'lead']\n",
    "new_metals = [metal for metal in metals if metal != 'copper']\n",
    "print(\"Original list:\", metals)\n",
    "print(\"New list without 'copper':\", new_metals)"
   ]
  },
  {
   "cell_type": "code",
   "execution_count": null,
   "id": "a79a003d-dd54-4298-b8c7-a0711055095d",
   "metadata": {},
   "outputs": [],
   "source": []
  }
 ],
 "metadata": {
  "kernelspec": {
   "display_name": "Python 3 (ipykernel)",
   "language": "python",
   "name": "python3"
  },
  "language_info": {
   "codemirror_mode": {
    "name": "ipython",
    "version": 3
   },
   "file_extension": ".py",
   "mimetype": "text/x-python",
   "name": "python",
   "nbconvert_exporter": "python",
   "pygments_lexer": "ipython3",
   "version": "3.11.7"
  }
 },
 "nbformat": 4,
 "nbformat_minor": 5
}
