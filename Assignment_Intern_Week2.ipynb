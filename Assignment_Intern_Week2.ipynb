{
 "cells": [
  {
   "cell_type": "code",
   "execution_count": null,
   "id": "986ab015-c6e0-42f8-b8e5-401ebbf9f07e",
   "metadata": {},
   "outputs": [],
   "source": [
    "'''\n",
    "1.Create a package named ‘cricket’ which will contain modules named\n",
    "batsman and bowler. Create following functions in respective modules.\n",
    "Import the package and call all these functions in your program\n",
    "batsman: findaverage(runs,matches), strikerate(runs,balls)\n",
    "bowler: findavg(runs,wickets), economyrate(overs, runs)\n",
    "'''\n"
   ]
  },
  {
   "cell_type": "code",
   "execution_count": 7,
   "id": "692dd5dc-bbe1-4127-8713-688699e5f201",
   "metadata": {},
   "outputs": [],
   "source": [
    "'''\n",
    "2 .Write a Python function to find whether the number if prime or not.\n",
    "def isPrime(num)\n",
    "'''\n",
    "def check_Prime(num):\n",
    "#0 and 1 are not prime numbers\n",
    "    if num < 2:\n",
    "        return False\n",
    "    \n",
    "    for i in range(2, int(num ** 0.5) + 1):\n",
    "        if num % i == 0:\n",
    "            return False\n",
    "    \n",
    "  \n",
    "    return True"
   ]
  },
  {
   "cell_type": "code",
   "execution_count": 9,
   "id": "c02f2bcb-183b-40f1-ad07-f3e61b390bd1",
   "metadata": {},
   "outputs": [
    {
     "data": {
      "text/plain": [
       "False"
      ]
     },
     "execution_count": 9,
     "metadata": {},
     "output_type": "execute_result"
    }
   ],
   "source": [
    "check_Prime(6)"
   ]
  },
  {
   "cell_type": "code",
   "execution_count": 17,
   "id": "7c2c98f1-15c9-481a-88a2-a7877b0f11f0",
   "metadata": {},
   "outputs": [],
   "source": [
    "'''\n",
    "3.Write a function is_palindrome(string) that takes a string as input and returns\n",
    "True if the string reads the same backward as forward (e.g., \"racecar\" is a palindrome).\n",
    "'''\n",
    "def is_palindrome(string):\n",
    "    normalized_string = ''.join(char.lower() for char in string if char.isalnum())\n",
    "    return normalized_string == normalized_string[::-1]"
   ]
  },
  {
   "cell_type": "code",
   "execution_count": 19,
   "id": "eefbef29-9b1a-4c75-8925-6b6a7f13b737",
   "metadata": {},
   "outputs": [
    {
     "data": {
      "text/plain": [
       "True"
      ]
     },
     "execution_count": 19,
     "metadata": {},
     "output_type": "execute_result"
    }
   ],
   "source": [
    "is_palindrome('racecar')"
   ]
  },
  {
   "cell_type": "code",
   "execution_count": 21,
   "id": "d1b4eca6-acb6-4545-9aee-4025a7ab776c",
   "metadata": {},
   "outputs": [],
   "source": [
    "'''\n",
    "4.Write a function reverse_list(data) that takes a list as input and returns a new list\n",
    "with the elements in reverse order (e.g., reverse_list([1, 2, 3]) returns [3, 2, 1]).\n",
    "'''\n",
    "def reverse_list(data):\n",
    "    return data[::-1]"
   ]
  },
  {
   "cell_type": "code",
   "execution_count": 23,
   "id": "d556333d-ae7f-41c4-8a0c-19758ba6a185",
   "metadata": {},
   "outputs": [
    {
     "data": {
      "text/plain": [
       "[4, 3, 2, 1]"
      ]
     },
     "execution_count": 23,
     "metadata": {},
     "output_type": "execute_result"
    }
   ],
   "source": [
    "reverse_list([1,2,3,4])"
   ]
  },
  {
   "cell_type": "code",
   "execution_count": 22,
   "id": "b1ededb6-ee30-4c61-a469-6757eb0dff03",
   "metadata": {},
   "outputs": [
    {
     "name": "stdout",
     "output_type": "stream",
     "text": [
      "Content written to example.txt successfully.\n"
     ]
    }
   ],
   "source": [
    "'''\n",
    "5.Write a function write_file(filename, content) that takes a filename and\n",
    "content as input and writes the content to the specified file.\n",
    "'''\n",
    "def write_file(filename, content):\n",
    "    try:\n",
    "        with open(filename, 'w') as file:\n",
    "            file.write(content)\n",
    "        print(f\"Content written to {filename} successfully.\")\n",
    "    except IOError as e:\n",
    "        print(f\"An IOError occurred: {e}\")\n",
    "\n",
    "# Example usage:\n",
    "filename = \"example.txt\"\n",
    "content = \"This is some sample content for the file.\"\n",
    "write_file(filename, content)"
   ]
  },
  {
   "cell_type": "code",
   "execution_count": 20,
   "id": "fe3df5f5-83a4-451b-9861-4c5f41dee58d",
   "metadata": {},
   "outputs": [
    {
     "name": "stdout",
     "output_type": "stream",
     "text": [
      "File copied from test.txt to destination.txt successfully.\n"
     ]
    }
   ],
   "source": [
    "'''\n",
    "6.Write a function copy_file(source_filename, destination_filename) that\n",
    "takes the source and destination filenames as input and copies the content of the source\n",
    "file to the destination file. Handle cases where the source file doesn't exist.\n",
    "'''\n",
    "\n",
    "def copy_file(source_filename, destination_filename):\n",
    "    try:\n",
    "        with open(source_filename, 'r') as source_file:\n",
    "            content = source_file.read()\n",
    "            \n",
    "        with open(destination_filename, 'w') as destination_file:\n",
    "            destination_file.write(content)\n",
    "        \n",
    "        print(f\"File copied from {source_filename} to {destination_filename} successfully.\")\n",
    "    \n",
    "    except FileNotFoundError:\n",
    "        print(f\"Error: The source file '{source_filename}' does not exist.\")\n",
    "    except IOError as e:\n",
    "        print(f\"An IOError occurred: {e}\")\n",
    "\n",
    "# Example usage:\n",
    "source = \"test.txt\"\n",
    "destination = \"destination.txt\"\n",
    "copy_file(source, destination)"
   ]
  },
  {
   "cell_type": "code",
   "execution_count": 25,
   "id": "c2aa74dd-1a2a-4ce1-a1cc-326a46be286f",
   "metadata": {},
   "outputs": [
    {
     "name": "stdout",
     "output_type": "stream",
     "text": [
      "32\n",
      "-2\n"
     ]
    }
   ],
   "source": [
    "'''\n",
    "7.Implement a function to calculate the dot product of two NumPy arrays.\n",
    "'''\n",
    "import numpy as np\n",
    "\n",
    "def dot_product(array1, array2):\n",
    "    # Use numpy's dot function to calculate the dot product\n",
    "    return np.dot(array1, array2)\n",
    "\n",
    "# Example usage:\n",
    "a = np.array([1, 2, 3])\n",
    "b = np.array([4, 5, 6])\n",
    "print(dot_product(a, b))  # Output: 32\n",
    "\n",
    "c = np.array([1, 0, -1])\n",
    "d = np.array([-1, 2, 1])\n",
    "print(dot_product(c, d))  # Output: -2"
   ]
  },
  {
   "cell_type": "code",
   "execution_count": 27,
   "id": "269458df-549f-4bc9-bf61-759c12d3b26b",
   "metadata": {},
   "outputs": [],
   "source": [
    "'''\n",
    "8.Implement a GUI with a radio button selection for choosing a favorite color (e.g., red,\n",
    "green, blue). Change the background color of the window based on the selected radio\n",
    "button.\n",
    "'''\n",
    "import tkinter as tk\n",
    "\n",
    "# Function to change the background color\n",
    "def change_color():\n",
    "    selected_color = color_var.get()\n",
    "    root.configure(bg=selected_color)\n",
    "\n",
    "# Create the main window\n",
    "root = tk.Tk()\n",
    "root.title(\"Favorite Color Selector\")\n",
    "root.geometry(\"300x200\")\n",
    "\n",
    "# Variable to store the selected color\n",
    "color_var = tk.StringVar(value=\"white\")\n",
    "\n",
    "# Create radio buttons for color selection\n",
    "radio_red = tk.Radiobutton(root, text=\"Red\", variable=color_var, value=\"red\", command=change_color)\n",
    "radio_red.pack(anchor=tk.W)\n",
    "\n",
    "radio_green = tk.Radiobutton(root, text=\"Green\", variable=color_var, value=\"green\", command=change_color)\n",
    "radio_green.pack(anchor=tk.W)\n",
    "\n",
    "radio_blue = tk.Radiobutton(root, text=\"Blue\", variable=color_var, value=\"blue\", command=change_color)\n",
    "radio_blue.pack(anchor=tk.W)\n",
    "\n",
    "# Start the main loop\n",
    "root.mainloop()"
   ]
  },
  {
   "cell_type": "code",
   "execution_count": 12,
   "id": "b22db5a1-010f-45c2-b0b4-207aa90c5773",
   "metadata": {},
   "outputs": [],
   "source": [
    "'''\n",
    "Design a currency converter GUI. Allow users to enter an amount and select the\n",
    "currencies they want to convert between (e.g., USD, EUR). Display the converted\n",
    "amount in the selected currency\n",
    "'''\n",
    "\n",
    "import tkinter as tk\n",
    "from tkinter import ttk\n",
    "\n",
    "# Sample conversion rates\n",
    "conversion_rates = {\n",
    "    \"USD\": {\"EUR\": 0.85, \"GBP\": 0.75, \"INR\": 74.50, \"JPY\": 110.00, \"AUD\": 1.35, \"CAD\": 1.25},\n",
    "    \"EUR\": {\"USD\": 1.18, \"GBP\": 0.88, \"INR\": 87.50, \"JPY\": 129.00, \"AUD\": 1.60, \"CAD\": 1.47},\n",
    "    # Add more rates as needed\n",
    "}\n",
    "\n",
    "def convert_currency():\n",
    "    try:\n",
    "        amount = float(amount_entry.get())\n",
    "        from_currency = from_currency_var.get()\n",
    "        to_currency = to_currency_var.get()\n",
    "        \n",
    "        if from_currency == to_currency:\n",
    "            converted_amount = amount\n",
    "        else:\n",
    "            rate = conversion_rates[from_currency][to_currency]\n",
    "            converted_amount = amount * rate\n",
    "        \n",
    "        result_var.set(f'{amount} {from_currency} = {converted_amount:.2f} {to_currency}')\n",
    "    except Exception as e:\n",
    "        result_var.set(f'Error: {str(e)}')\n",
    "\n",
    "# Create the main window\n",
    "root = tk.Tk()\n",
    "root.title(\"Currency Converter\")\n",
    "\n",
    "# Variables\n",
    "amount_var = tk.StringVar()\n",
    "from_currency_var = tk.StringVar(value=\"USD\")\n",
    "to_currency_var = tk.StringVar(value=\"EUR\")\n",
    "result_var = tk.StringVar()\n",
    "\n",
    "# Widgets\n",
    "amount_label = ttk.Label(root, text=\"Amount:\")\n",
    "amount_label.grid(column=0, row=0, padx=10, pady=10)\n",
    "\n",
    "amount_entry = ttk.Entry(root, textvariable=amount_var)\n",
    "amount_entry.grid(column=1, row=0, padx=10, pady=10)\n",
    "\n",
    "from_currency_label = ttk.Label(root, text=\"From Currency:\")\n",
    "from_currency_label.grid(column=0, row=1, padx=10, pady=10)\n",
    "\n",
    "from_currency_menu = ttk.Combobox(root, textvariable=from_currency_var, values=list(conversion_rates.keys()))\n",
    "from_currency_menu.grid(column=1, row=1, padx=10, pady=10)\n",
    "\n",
    "to_currency_label = ttk.Label(root, text=\"To Currency:\")\n",
    "to_currency_label.grid(column=0, row=2, padx=10, pady=10)\n",
    "\n",
    "to_currency_menu = ttk.Combobox(root, textvariable=to_currency_var, values=list(conversion_rates[\"USD\"].keys()))\n",
    "to_currency_menu.grid(column=1, row=2, padx=10, pady=10)\n",
    "\n",
    "convert_button = ttk.Button(root, text=\"Convert\", command=convert_currency)\n",
    "convert_button.grid(column=0, row=3, columnspan=2, padx=10, pady=10)\n",
    "\n",
    "result_label = ttk.Label(root, textvariable=result_var, font=(\"Arial\", 14))\n",
    "result_label.grid(column=0, row=4, columnspan=2, padx=10, pady=10)\n",
    "\n",
    "# Run the application\n",
    "root.mainloop()"
   ]
  },
  {
   "cell_type": "code",
   "execution_count": null,
   "id": "9dfac9d7-5b0f-4b29-974a-09be7f621eb2",
   "metadata": {},
   "outputs": [],
   "source": []
  }
 ],
 "metadata": {
  "kernelspec": {
   "display_name": "Python 3 (ipykernel)",
   "language": "python",
   "name": "python3"
  },
  "language_info": {
   "codemirror_mode": {
    "name": "ipython",
    "version": 3
   },
   "file_extension": ".py",
   "mimetype": "text/x-python",
   "name": "python",
   "nbconvert_exporter": "python",
   "pygments_lexer": "ipython3",
   "version": "3.11.7"
  }
 },
 "nbformat": 4,
 "nbformat_minor": 5
}
