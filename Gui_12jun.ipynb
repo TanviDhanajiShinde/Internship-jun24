{
 "cells": [
  {
   "cell_type": "code",
   "execution_count": 1,
   "id": "5742181b-8f5f-4bd8-95cc-0d5074f5f283",
   "metadata": {},
   "outputs": [],
   "source": [
    "import tkinter as tk\n",
    "from tkinter import  BooleanVar\n",
    "from tkinter .ttk import *\n",
    "from tkinter import scrolledtext\n",
    "from tkinter import messagebox"
   ]
  },
  {
   "cell_type": "code",
   "execution_count": null,
   "id": "133a15a1-df8f-4e57-b164-8e03e7cac79d",
   "metadata": {},
   "outputs": [],
   "source": [
    "top=tk.Tk()\n",
    "top.title('My Application')  # to give manually title to the window\n",
    "top.geometry('500x400')\n",
    "\n",
    "b1=tk.Button(top,text='click me !!!',bg='pink').grid(column=0,row=1)   # button \n",
    "e1=tk.Entry(top).grid(column=1,row=1) # entry visit\n",
    "t1=tk.Text(top).grid(column=2,row=2) \n",
    "l1=tk.Label(text='Welcome',font=('Ariel Bold',50)).grid(column=2,row=2)  # label \n",
    "# combobox\n",
    "combo=Combobox(top)\n",
    "combo['values']=[1,2,3,4,5,'next']\n",
    "combo.current(2)\n",
    "combo.grid(column=0,row=0)\n",
    "\n",
    "# CHECK BUTTON\n",
    "ch=BooleanVar()\n",
    "ch.set(True)\n",
    "cb=Checkbutton(top,text='Done',var=ch,width=30).grid(column=3,row=3)\n",
    "\n",
    "# scrolled text\n",
    "st=scrolledtext.ScrolledText(top,width=40,height=10).grid(column=3,row=1)\n",
    "top.mainloop()"
   ]
  },
  {
   "cell_type": "code",
   "execution_count": null,
   "id": "a5f06475-d8f5-440c-9057-40c424698a13",
   "metadata": {},
   "outputs": [],
   "source": [
    "# .pack()  default assign the position to the controls"
   ]
  },
  {
   "cell_type": "code",
   "execution_count": null,
   "id": "b0fec5b5-9b2c-406a-a87f-e820a817b957",
   "metadata": {},
   "outputs": [],
   "source": [
    "#square of a number\n",
    "top =tk.Tk()\n",
    "top.title('Square')\n",
    "top.geometry('500x400')\n",
    "\n",
    "a=tk.IntVar()\n",
    "\n",
    "def square():\n",
    "    num=a.get()\n",
    "    sq=num*num\n",
    "    result=tk.Label(top,text='Square is: %i'% sq).place(x=120,y=160)\n",
    "    messagebox.showinfo(\"result is\",\"square is %i\" %sq)\n",
    "\n",
    "l=tk.Label(top,text='Input').place(x=20,y=100)\n",
    "e=tk.Entry(top,textvariable=a).place(x=100,y=100)\n",
    "b=tk.Button(top,text='Submit',bg='orange', command = square).place(x=120,y=150)\n",
    "\n",
    "\n",
    "top.mainloop()"
   ]
  },
  {
   "cell_type": "code",
   "execution_count": 23,
   "id": "f9ff0c17-a299-4142-a2aa-45a6692da3a7",
   "metadata": {},
   "outputs": [],
   "source": [
    "# create add,sub,multi,div \n",
    "\n",
    "top =tk.Tk()\n",
    "top.title('Operation')\n",
    "top.geometry('500x400')\n",
    "\n",
    "a1=tk.IntVar()\n",
    "a2=tk.IntVar()\n",
    "\n",
    "def add():\n",
    "    ad=a1.get() + a2.get()\n",
    "    #result=tk.Label(top,text='Additon  is: %i'%res).place(x=180,y=160)\n",
    "    messagebox.showinfo(\"result is\",\"Addition is %i\" %ad)\n",
    "\n",
    "def sub():\n",
    "    ad=a1.get() - a2.get()\n",
    "    #result=tk.Label(top,text='Additon  is: %i'%res).place(x=180,y=160)\n",
    "    messagebox.showinfo(\"result is\",\"Subtraction is %i\" %ad)\n",
    "\n",
    "def mul():\n",
    "    ad=a1.get() * a2.get()\n",
    "    #result=tk.Label(top,text='Additon  is: %i'%res).place(x=180,y=160)\n",
    "    messagebox.showinfo(\"result is\",\"Multiplication is %i\" %ad)\n",
    "\n",
    "def div():\n",
    "    ad=a1.get() / a2.get()\n",
    "    #result=tk.Label(top,text='Additon  is: %i'%res).place(x=180,y=160)\n",
    "    messagebox.showinfo(\"result is\",\"Division is %i\" %ad)\n",
    "    \n",
    "l=tk.Label(top,text='Input first number').place(x=20,y=100)\n",
    "l1=tk.Label(top,text='Input second number').place(x=20,y=150)\n",
    "e=tk.Entry(top,textvariable=a1).place(x=150,y=100)\n",
    "e1=tk.Entry(top,textvariable=a2).place(x=150,y=150)\n",
    "b=tk.Button(top,text='Add',bg='orange', command = add).place(x=100,y=190)\n",
    "b1=tk.Button(top,text='Sub',bg='orange', command = sub).place(x=150,y=190)\n",
    "b2=tk.Button(top,text='Mul',bg='orange', command = mul).place(x=200,y=190)\n",
    "b3=tk.Button(top,text='Div',bg='orange', command = div).place(x=250,y=190)\n",
    "\n",
    "top.mainloop()"
   ]
  },
  {
   "cell_type": "code",
   "execution_count": null,
   "id": "b1da7840-0398-42a8-a4d3-a3da6ab74622",
   "metadata": {},
   "outputs": [],
   "source": []
  }
 ],
 "metadata": {
  "kernelspec": {
   "display_name": "Python 3 (ipykernel)",
   "language": "python",
   "name": "python3"
  },
  "language_info": {
   "codemirror_mode": {
    "name": "ipython",
    "version": 3
   },
   "file_extension": ".py",
   "mimetype": "text/x-python",
   "name": "python",
   "nbconvert_exporter": "python",
   "pygments_lexer": "ipython3",
   "version": "3.11.7"
  }
 },
 "nbformat": 4,
 "nbformat_minor": 5
}
