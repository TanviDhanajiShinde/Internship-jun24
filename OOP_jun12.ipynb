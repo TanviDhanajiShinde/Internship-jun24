{
 "cells": [
  {
   "cell_type": "code",
   "execution_count": 1,
   "id": "8a34f6bc-cc1f-4678-a821-bd53c6d508ad",
   "metadata": {},
   "outputs": [],
   "source": [
    "class Employee():   # creating the class\n",
    "    pass"
   ]
  },
  {
   "cell_type": "code",
   "execution_count": 7,
   "id": "03cd4166-c08d-40a7-8b67-ca409524ecf7",
   "metadata": {},
   "outputs": [],
   "source": [
    "emp1=Employee()     # creating an instance of a class\n",
    "emp2=Employee()"
   ]
  },
  {
   "cell_type": "code",
   "execution_count": 9,
   "id": "447be6a5-8862-4664-bb4c-32d34bc59fc9",
   "metadata": {},
   "outputs": [
    {
     "name": "stdout",
     "output_type": "stream",
     "text": [
      "<__main__.Employee object at 0x0000013A3ACACB90>\n",
      "<__main__.Employee object at 0x0000013A39F9E210>\n"
     ]
    }
   ],
   "source": [
    "print(emp1)\n",
    "print(emp2)"
   ]
  },
  {
   "cell_type": "code",
   "execution_count": 11,
   "id": "398f5bf7-3ac3-4a27-9cbb-04f180551504",
   "metadata": {},
   "outputs": [],
   "source": [
    "# instance variables\n",
    "\n",
    "emp1.first='Neeraj'\n",
    "emp1.last='Deshmuk'\n",
    "emp1.salary=51000\n",
    "\n",
    "emp2.first='Natasha'\n",
    "emp2.last='Negik'\n",
    "emp2.salary=52000"
   ]
  },
  {
   "cell_type": "code",
   "execution_count": 13,
   "id": "4163c946-d79e-4c45-a0d9-266369387d07",
   "metadata": {},
   "outputs": [
    {
     "name": "stdout",
     "output_type": "stream",
     "text": [
      "Neeraj\n"
     ]
    }
   ],
   "source": [
    "print(emp1.first)"
   ]
  },
  {
   "cell_type": "code",
   "execution_count": 15,
   "id": "69d1555f-79f8-4044-a915-a555ddf16e10",
   "metadata": {},
   "outputs": [
    {
     "name": "stdout",
     "output_type": "stream",
     "text": [
      "52000\n"
     ]
    }
   ],
   "source": [
    "print(emp2.salary)"
   ]
  },
  {
   "cell_type": "code",
   "execution_count": 60,
   "id": "fe740417-d389-4924-abc9-fedfb48ab294",
   "metadata": {},
   "outputs": [],
   "source": [
    "class Employee():\n",
    "    def __init__(self,first,last,salary):   # self keyword is similar to this keyword\n",
    "        self.first=first\n",
    "        self.last=last\n",
    "        self.salary=salary\n",
    "\n",
    "    def show(self):\n",
    "        print(self.first +' '+'ok')"
   ]
  },
  {
   "cell_type": "code",
   "execution_count": 72,
   "id": "87b3d9ea-d34e-4f9a-a523-6de280c6091f",
   "metadata": {},
   "outputs": [],
   "source": [
    "class Employee():\n",
    "    def __init__(self,first,last,salary):   # self keyword is similar to this keyword\n",
    "        self.first=first\n",
    "        self.last=last\n",
    "        self.__salary=salary   # private variable\n",
    "\n",
    "    def show(self):\n",
    "        print(self.first +' '+'ok')"
   ]
  },
  {
   "cell_type": "code",
   "execution_count": 74,
   "id": "cdb3453a-b34f-4964-8cc3-0f694f347cb2",
   "metadata": {},
   "outputs": [],
   "source": [
    "emp1=Employee('raj','sharma',48000)"
   ]
  },
  {
   "cell_type": "code",
   "execution_count": 74,
   "id": "96a20151-14d2-440c-bf92-b8ffc2650665",
   "metadata": {},
   "outputs": [],
   "source": [
    "emp1=Employee('raj','sharma',48000)"
   ]
  },
  {
   "cell_type": "code",
   "execution_count": 66,
   "id": "e57acad8-95fb-4ba8-a125-da0c15a48f9f",
   "metadata": {},
   "outputs": [
    {
     "name": "stdout",
     "output_type": "stream",
     "text": [
      "raj\n"
     ]
    }
   ],
   "source": [
    "print(emp1.first)"
   ]
  },
  {
   "cell_type": "code",
   "execution_count": 68,
   "id": "25c6fd4e-f755-404b-9a3c-6f3bbd98c798",
   "metadata": {},
   "outputs": [],
   "source": [
    "emp2=Employee('tanvi','shinde',50000)"
   ]
  },
  {
   "cell_type": "code",
   "execution_count": 70,
   "id": "a3061043-1496-447a-bc90-1f9ff8704a1a",
   "metadata": {},
   "outputs": [
    {
     "name": "stdout",
     "output_type": "stream",
     "text": [
      "raj ok\n"
     ]
    }
   ],
   "source": [
    "emp1.show()"
   ]
  },
  {
   "cell_type": "code",
   "execution_count": 58,
   "id": "f08fbaf9-fc24-4843-bcf1-276fc7828e1f",
   "metadata": {},
   "outputs": [
    {
     "name": "stdout",
     "output_type": "stream",
     "text": [
      "tanvi ok\n"
     ]
    }
   ],
   "source": [
    "emp2.show()"
   ]
  },
  {
   "cell_type": "code",
   "execution_count": 76,
   "id": "799a4dc5-aad9-4b5a-b9b9-19f16630a0c2",
   "metadata": {},
   "outputs": [],
   "source": [
    "# Encapsulation\n",
    "emp1=Employee('raj','sharma',48000)"
   ]
  },
  {
   "cell_type": "code",
   "execution_count": 78,
   "id": "df77b2d8-b99b-48f2-8256-32b87bbd3771",
   "metadata": {},
   "outputs": [
    {
     "ename": "AttributeError",
     "evalue": "'Employee' object has no attribute 'salary'",
     "output_type": "error",
     "traceback": [
      "\u001b[1;31m---------------------------------------------------------------------------\u001b[0m",
      "\u001b[1;31mAttributeError\u001b[0m                            Traceback (most recent call last)",
      "Cell \u001b[1;32mIn[78], line 1\u001b[0m\n\u001b[1;32m----> 1\u001b[0m \u001b[38;5;28mprint\u001b[39m(emp1\u001b[38;5;241m.\u001b[39msalary)\n",
      "\u001b[1;31mAttributeError\u001b[0m: 'Employee' object has no attribute 'salary'"
     ]
    }
   ],
   "source": [
    "print(emp1.salary)"
   ]
  },
  {
   "cell_type": "code",
   "execution_count": 112,
   "id": "63d39971-07c3-4af9-9edb-97c16534c489",
   "metadata": {},
   "outputs": [],
   "source": [
    "class Employee1():\n",
    "    def __init__(self,first,last,salary):   # self keyword is similar to this keyword\n",
    "        self.first=first\n",
    "        self.last=last\n",
    "        self.__salary=salary   # private variable\n",
    "\n",
    "    def show(self):\n",
    "        print(self.__salary)   # we can access the private data using method of that class"
   ]
  },
  {
   "cell_type": "code",
   "execution_count": 114,
   "id": "a96b8cfc-1649-4508-8bdb-66ead642122d",
   "metadata": {},
   "outputs": [],
   "source": [
    "emp1=Employee1('raj','sharma',48000)"
   ]
  },
  {
   "cell_type": "code",
   "execution_count": 116,
   "id": "aca53985-1356-41d7-bb17-46db8d8efcc4",
   "metadata": {},
   "outputs": [
    {
     "name": "stdout",
     "output_type": "stream",
     "text": [
      "raj\n"
     ]
    }
   ],
   "source": [
    "print(emp1.first)"
   ]
  },
  {
   "cell_type": "code",
   "execution_count": 118,
   "id": "64ae5e17-a8ef-4317-b4e7-6dc803ab329e",
   "metadata": {},
   "outputs": [
    {
     "name": "stdout",
     "output_type": "stream",
     "text": [
      "48000\n"
     ]
    }
   ],
   "source": [
    "emp1.show()"
   ]
  },
  {
   "cell_type": "code",
   "execution_count": 120,
   "id": "3ef79e9b-5777-408d-b9d9-49568d89e6f6",
   "metadata": {},
   "outputs": [],
   "source": [
    "# Inheritance\n",
    "class Emp2(Employee1):   #Emp2 => subclass , Employee1 => superclass\n",
    "    pass"
   ]
  },
  {
   "cell_type": "code",
   "execution_count": 122,
   "id": "3b293266-9adc-41dd-be52-4ce52b825560",
   "metadata": {},
   "outputs": [],
   "source": [
    "emp3 = Emp2('naha','kulkarni',55000)"
   ]
  },
  {
   "cell_type": "code",
   "execution_count": 124,
   "id": "c76190ba-8a47-4c40-8821-3fcade2f8742",
   "metadata": {},
   "outputs": [
    {
     "name": "stdout",
     "output_type": "stream",
     "text": [
      "55000\n"
     ]
    }
   ],
   "source": [
    "emp3.show()"
   ]
  },
  {
   "cell_type": "code",
   "execution_count": 128,
   "id": "aee74604-cc6f-41b9-83b9-47dd8c514267",
   "metadata": {},
   "outputs": [],
   "source": [
    "'''\n",
    "create a class called person\n",
    "attributes => names,age,city        make use of default paramete\n",
    "create a method which will show all the info of a person\n",
    "''';"
   ]
  },
  {
   "cell_type": "code",
   "execution_count": 195,
   "id": "2158af8b-ccf7-4c4d-9336-e28f8457b1ef",
   "metadata": {},
   "outputs": [],
   "source": [
    "class Person():\n",
    "     def __init__(self,name,age,city= 'pune'):   # self keyword is similar to this keyword\n",
    "        self.name=name\n",
    "        self.age=age\n",
    "        self.city=city   # private variable\n",
    "\n",
    "     def show(self):\n",
    "        print(self.name)\n",
    "        print(self.age)\n",
    "        print(self.city)\n",
    "    "
   ]
  },
  {
   "cell_type": "code",
   "execution_count": 197,
   "id": "60565497-4045-4d54-a01d-69da20795708",
   "metadata": {},
   "outputs": [],
   "source": [
    "per1 = Person('naha',21)"
   ]
  },
  {
   "cell_type": "code",
   "execution_count": 199,
   "id": "c2fdeecc-d762-463d-94b6-227a4038f1db",
   "metadata": {},
   "outputs": [
    {
     "name": "stdout",
     "output_type": "stream",
     "text": [
      "naha\n",
      "21\n",
      "pune\n"
     ]
    }
   ],
   "source": [
    "per1.show()"
   ]
  },
  {
   "cell_type": "code",
   "execution_count": 205,
   "id": "f7fbc440-3e27-4cdf-9c65-c238ead86f32",
   "metadata": {},
   "outputs": [],
   "source": [
    "per2 = Person('om',32,'thane')"
   ]
  },
  {
   "cell_type": "code",
   "execution_count": 207,
   "id": "dfab1acb-0d00-4cdf-ba56-f39c3aa38140",
   "metadata": {},
   "outputs": [
    {
     "name": "stdout",
     "output_type": "stream",
     "text": [
      "om\n",
      "32\n",
      "thane\n"
     ]
    }
   ],
   "source": [
    "per2.show()"
   ]
  },
  {
   "cell_type": "code",
   "execution_count": null,
   "id": "0bac40d8-9913-4011-95a1-ccfad12a285c",
   "metadata": {},
   "outputs": [],
   "source": []
  },
  {
   "cell_type": "code",
   "execution_count": null,
   "id": "8381525c-5ff5-4aca-b760-d31c4044c452",
   "metadata": {},
   "outputs": [],
   "source": []
  }
 ],
 "metadata": {
  "kernelspec": {
   "display_name": "Python 3 (ipykernel)",
   "language": "python",
   "name": "python3"
  },
  "language_info": {
   "codemirror_mode": {
    "name": "ipython",
    "version": 3
   },
   "file_extension": ".py",
   "mimetype": "text/x-python",
   "name": "python",
   "nbconvert_exporter": "python",
   "pygments_lexer": "ipython3",
   "version": "3.11.7"
  }
 },
 "nbformat": 4,
 "nbformat_minor": 5
}
