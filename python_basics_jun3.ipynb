{
 "cells": [
  {
   "cell_type": "code",
   "execution_count": 5,
   "id": "23bdae38-e93f-43a0-ae8b-b89b4219d58a",
   "metadata": {},
   "outputs": [
    {
     "name": "stdout",
     "output_type": "stream",
     "text": [
      "hello world\n"
     ]
    }
   ],
   "source": [
    "print(\"hello world\")   # for printing anything use print() function"
   ]
  },
  {
   "cell_type": "code",
   "execution_count": 6,
   "id": "2cc6646d-82cf-414f-a42f-455aadb56575",
   "metadata": {},
   "outputs": [],
   "source": [
    "# to run the code or execute the line of the code press shift enter or click on run "
   ]
  },
  {
   "cell_type": "code",
   "execution_count": 7,
   "id": "ef75865b-66b1-493c-829b-0d0b53d2ee97",
   "metadata": {},
   "outputs": [],
   "source": [
    "# is comment in python line by line execution is done "
   ]
  },
  {
   "cell_type": "code",
   "execution_count": 8,
   "id": "a9dc8251-061e-40ab-8ba1-3018183ef258",
   "metadata": {},
   "outputs": [],
   "source": [
    "num = 10    #num is variable of type int "
   ]
  },
  {
   "cell_type": "code",
   "execution_count": 9,
   "id": "cefe2d43-a9b8-41e2-853d-d79d2e663291",
   "metadata": {},
   "outputs": [
    {
     "name": "stdout",
     "output_type": "stream",
     "text": [
      "10\n"
     ]
    }
   ],
   "source": [
    "print(num)"
   ]
  },
  {
   "cell_type": "code",
   "execution_count": 10,
   "id": "b1ab682a-e808-4c24-a518-54327930dcf2",
   "metadata": {},
   "outputs": [
    {
     "data": {
      "text/plain": [
       "10"
      ]
     },
     "execution_count": 10,
     "metadata": {},
     "output_type": "execute_result"
    }
   ],
   "source": [
    "num   # this way of to print the num value of jupyter notebook"
   ]
  },
  {
   "cell_type": "code",
   "execution_count": 11,
   "id": "1312afc4-fd04-44e5-bcfa-85d5295340c6",
   "metadata": {},
   "outputs": [],
   "source": [
    "num = 1"
   ]
  },
  {
   "cell_type": "code",
   "execution_count": 12,
   "id": "1d09d6e4-acd5-45c8-9fd0-f410153f7f12",
   "metadata": {},
   "outputs": [
    {
     "data": {
      "text/plain": [
       "1"
      ]
     },
     "execution_count": 12,
     "metadata": {},
     "output_type": "execute_result"
    }
   ],
   "source": [
    "num"
   ]
  },
  {
   "cell_type": "code",
   "execution_count": 13,
   "id": "68f56b52-700a-4edf-841f-eca3041197d0",
   "metadata": {},
   "outputs": [],
   "source": [
    "rate_of_interest=50  #there is no space between the variable we can use the underscore"
   ]
  },
  {
   "cell_type": "code",
   "execution_count": 14,
   "id": "62127607-01d7-4bfc-a852-6baf00c9d820",
   "metadata": {},
   "outputs": [
    {
     "data": {
      "text/plain": [
       "50"
      ]
     },
     "execution_count": 14,
     "metadata": {},
     "output_type": "execute_result"
    }
   ],
   "source": [
    "rate_of_interest"
   ]
  },
  {
   "cell_type": "code",
   "execution_count": 15,
   "id": "66830c88-fd7b-401d-978a-e426f849a38c",
   "metadata": {},
   "outputs": [],
   "source": [
    "str=\"tanvi\"   # to declare the string we assigns the in between the \" --\"  or '--'"
   ]
  },
  {
   "cell_type": "code",
   "execution_count": 26,
   "id": "337bcaac-c3cf-427f-80c5-9bdcd91a3e5b",
   "metadata": {},
   "outputs": [
    {
     "data": {
      "text/plain": [
       "'tanvi'"
      ]
     },
     "execution_count": 26,
     "metadata": {},
     "output_type": "execute_result"
    }
   ],
   "source": [
    "str    #this is way of jupitor notebook to print anything"
   ]
  },
  {
   "cell_type": "code",
   "execution_count": 18,
   "id": "c8a7e2a2-d486-46eb-b641-20cbf429e318",
   "metadata": {},
   "outputs": [
    {
     "name": "stdout",
     "output_type": "stream",
     "text": [
      "tanvi\n"
     ]
    }
   ],
   "source": [
    "print(str)"
   ]
  },
  {
   "cell_type": "code",
   "execution_count": null,
   "id": "a4725954-9de1-44ef-b933-b74cf8377abb",
   "metadata": {},
   "outputs": [],
   "source": [
    "# to check the variable type"
   ]
  },
  {
   "cell_type": "code",
   "execution_count": 31,
   "id": "d73b83cb-2b02-4f29-ad9f-5bc3ac1743d9",
   "metadata": {},
   "outputs": [],
   "source": [
    "num1=10\n",
    "num2=\"tanvi\""
   ]
  },
  {
   "cell_type": "code",
   "execution_count": 32,
   "id": "f79940f1-103a-46a7-a69c-8c0febe904fc",
   "metadata": {},
   "outputs": [
    {
     "data": {
      "text/plain": [
       "int"
      ]
     },
     "execution_count": 32,
     "metadata": {},
     "output_type": "execute_result"
    }
   ],
   "source": [
    "type(num1)  # to check the variable type we use the type(variable) function"
   ]
  },
  {
   "cell_type": "code",
   "execution_count": 33,
   "id": "238a097b-17e4-4b5f-9157-f1d567e37cae",
   "metadata": {},
   "outputs": [
    {
     "data": {
      "text/plain": [
       "str"
      ]
     },
     "execution_count": 33,
     "metadata": {},
     "output_type": "execute_result"
    }
   ],
   "source": [
    "type(num2)"
   ]
  },
  {
   "cell_type": "code",
   "execution_count": 19,
   "id": "8ccde898-ad5b-4a18-91ec-64e526149a23",
   "metadata": {},
   "outputs": [],
   "source": [
    "n=2**3   # ** is used for exponestiol or raise to"
   ]
  },
  {
   "cell_type": "code",
   "execution_count": 20,
   "id": "4eef973e-e0de-496c-9531-702290fccbde",
   "metadata": {},
   "outputs": [
    {
     "data": {
      "text/plain": [
       "8"
      ]
     },
     "execution_count": 20,
     "metadata": {},
     "output_type": "execute_result"
    }
   ],
   "source": [
    "n"
   ]
  },
  {
   "cell_type": "code",
   "execution_count": 42,
   "id": "11dedfb7-93ac-4400-b32a-1c754644ee97",
   "metadata": {},
   "outputs": [
    {
     "data": {
      "text/plain": [
       "float"
      ]
     },
     "execution_count": 42,
     "metadata": {},
     "output_type": "execute_result"
    }
   ],
   "source": [
    "a=12e2    # this e2 means e2 means e  raise to 2 means 12*10*10\n",
    "type(a)"
   ]
  },
  {
   "cell_type": "code",
   "execution_count": 43,
   "id": "656b0f99-c2fc-4c09-af0e-c3dc7beecd54",
   "metadata": {},
   "outputs": [
    {
     "data": {
      "text/plain": [
       "1200000.0"
      ]
     },
     "execution_count": 43,
     "metadata": {},
     "output_type": "execute_result"
    }
   ],
   "source": [
    "a"
   ]
  },
  {
   "cell_type": "code",
   "execution_count": 47,
   "id": "c98b7f25-37f2-456d-89ac-f58433787eac",
   "metadata": {},
   "outputs": [],
   "source": [
    "sent=\"i like 'python' programming\""
   ]
  },
  {
   "cell_type": "code",
   "execution_count": 48,
   "id": "b5ea81f6-c172-44b7-a8db-4e3054bf6855",
   "metadata": {},
   "outputs": [
    {
     "data": {
      "text/plain": [
       "\"i like 'python' programming\""
      ]
     },
     "execution_count": 48,
     "metadata": {},
     "output_type": "execute_result"
    }
   ],
   "source": [
    "sent"
   ]
  },
  {
   "cell_type": "code",
   "execution_count": 49,
   "id": "a38878d8-5db8-4b29-955f-e4a73c4fa860",
   "metadata": {},
   "outputs": [
    {
     "name": "stdout",
     "output_type": "stream",
     "text": [
      "i like 'python' programming\n"
     ]
    }
   ],
   "source": [
    "print(sent)"
   ]
  },
  {
   "cell_type": "code",
   "execution_count": 50,
   "id": "e97903a1-5af7-486e-afe1-24852b5558e9",
   "metadata": {},
   "outputs": [],
   "source": [
    "num1,num2,num3=1,2,3   #we declare variable like this and assigns the value "
   ]
  },
  {
   "cell_type": "code",
   "execution_count": 51,
   "id": "d0ef728f-27c5-400b-b210-e990421f658e",
   "metadata": {},
   "outputs": [
    {
     "name": "stdout",
     "output_type": "stream",
     "text": [
      "1 2 3\n"
     ]
    }
   ],
   "source": [
    "print(num1,num2,num3)"
   ]
  },
  {
   "cell_type": "code",
   "execution_count": 52,
   "id": "dadffb9a-082d-4227-8f6d-0280f47a70cc",
   "metadata": {},
   "outputs": [
    {
     "name": "stdout",
     "output_type": "stream",
     "text": [
      "3\n"
     ]
    }
   ],
   "source": [
    "# code for addtion\n",
    "#; is for end of line\n",
    "# we can write code in one line using;\n",
    "num=1;num2=2;res=num+num2;print(res)"
   ]
  },
  {
   "cell_type": "code",
   "execution_count": 58,
   "id": "164c8c8a-b6df-4727-95ca-8777822243de",
   "metadata": {},
   "outputs": [],
   "source": [
    "name='Tanvi'   # some string related operations"
   ]
  },
  {
   "cell_type": "code",
   "execution_count": 38,
   "id": "33f8daf1-102c-48d0-b7d5-f5c46c9f9772",
   "metadata": {},
   "outputs": [
    {
     "data": {
      "text/plain": [
       "'TANVI'"
      ]
     },
     "execution_count": 38,
     "metadata": {},
     "output_type": "execute_result"
    }
   ],
   "source": [
    "name.upper()   #is function to covert lowercase into uppercase    lower()"
   ]
  },
  {
   "cell_type": "code",
   "execution_count": 54,
   "id": "f0d15aba-ab44-46f9-81b8-b432042c07f1",
   "metadata": {},
   "outputs": [
    {
     "data": {
      "text/plain": [
       "'tanvi'"
      ]
     },
     "execution_count": 54,
     "metadata": {},
     "output_type": "execute_result"
    }
   ],
   "source": [
    "name.lower()"
   ]
  },
  {
   "cell_type": "code",
   "execution_count": 55,
   "id": "9e814899-0707-4378-b155-75920c58582b",
   "metadata": {},
   "outputs": [
    {
     "data": {
      "text/plain": [
       "'tANVI'"
      ]
     },
     "execution_count": 55,
     "metadata": {},
     "output_type": "execute_result"
    }
   ],
   "source": [
    "name.swapcase()    # this function  is convert lowercase into uppercase and vice versa \n",
    "# this function is use if string in both case"
   ]
  },
  {
   "cell_type": "code",
   "execution_count": 41,
   "id": "c163135e-43fa-4f22-981e-0f8153400de7",
   "metadata": {},
   "outputs": [
    {
     "data": {
      "text/plain": [
       "5"
      ]
     },
     "execution_count": 41,
     "metadata": {},
     "output_type": "execute_result"
    }
   ],
   "source": [
    "len(name)  # len is use to how many character in the string"
   ]
  },
  {
   "cell_type": "code",
   "execution_count": 42,
   "id": "42c05dce-0cdf-4575-9e0e-4cb4505b4725",
   "metadata": {},
   "outputs": [
    {
     "data": {
      "text/plain": [
       "False"
      ]
     },
     "execution_count": 42,
     "metadata": {},
     "output_type": "execute_result"
    }
   ],
   "source": [
    "name.isupper()  #is used to given string is upper or not similary check foe lower  islower() "
   ]
  },
  {
   "cell_type": "code",
   "execution_count": 59,
   "id": "cd333de2-8831-40eb-8fcd-d88f969c8d87",
   "metadata": {},
   "outputs": [
    {
     "data": {
      "text/plain": [
       "True"
      ]
     },
     "execution_count": 59,
     "metadata": {},
     "output_type": "execute_result"
    }
   ],
   "source": [
    "name.istitle()    # to check the what is mean of  function or purpose of any function simply in() of function press shift tab "
   ]
  },
  {
   "cell_type": "code",
   "execution_count": 55,
   "id": "ecaaa6ab-3088-4e2b-817f-8ce6f68dda8d",
   "metadata": {},
   "outputs": [],
   "source": [
    "data1='tanvi'\n",
    "data2='12'\n",
    "data3='ta23'"
   ]
  },
  {
   "cell_type": "code",
   "execution_count": 56,
   "id": "ce9b73c8-06f2-4d57-9c43-2e8849106b6a",
   "metadata": {},
   "outputs": [
    {
     "data": {
      "text/plain": [
       "True"
      ]
     },
     "execution_count": 56,
     "metadata": {},
     "output_type": "execute_result"
    }
   ],
   "source": [
    "data1.isalpha()  #isalpha function is used foe to check the given string is alphabet or number "
   ]
  },
  {
   "cell_type": "code",
   "execution_count": 57,
   "id": "c9f5a1cd-425c-4869-91cd-90cba1fbd1e8",
   "metadata": {},
   "outputs": [
    {
     "data": {
      "text/plain": [
       "True"
      ]
     },
     "execution_count": 57,
     "metadata": {},
     "output_type": "execute_result"
    }
   ],
   "source": [
    "data2.isdigit()"
   ]
  },
  {
   "cell_type": "code",
   "execution_count": 58,
   "id": "9d142a1e-dffe-4b9d-a57d-77aa0bd9f237",
   "metadata": {},
   "outputs": [
    {
     "data": {
      "text/plain": [
       "True"
      ]
     },
     "execution_count": 58,
     "metadata": {},
     "output_type": "execute_result"
    }
   ],
   "source": [
    "data3.isalnum()  # isalnum is stand for alphanumric "
   ]
  },
  {
   "cell_type": "code",
   "execution_count": 72,
   "id": "4e3971b8-cbc3-4e60-9194-fc0f55acd9cd",
   "metadata": {},
   "outputs": [],
   "source": [
    "name='  Tanvi   '"
   ]
  },
  {
   "cell_type": "code",
   "execution_count": 61,
   "id": "2fb3a1bc-b7cd-4dcd-84be-8f62e80c61af",
   "metadata": {},
   "outputs": [
    {
     "data": {
      "text/plain": [
       "'Tanvi'"
      ]
     },
     "execution_count": 61,
     "metadata": {},
     "output_type": "execute_result"
    }
   ],
   "source": [
    "name.strip()   # remove  all the whitespace and print the string"
   ]
  },
  {
   "cell_type": "code",
   "execution_count": 64,
   "id": "68aa176a-2420-4564-bdf6-1e2a2183f178",
   "metadata": {},
   "outputs": [
    {
     "data": {
      "text/plain": [
       "'  Tanvi'"
      ]
     },
     "execution_count": 64,
     "metadata": {},
     "output_type": "execute_result"
    }
   ],
   "source": [
    "name.rstrip()  # remove the right side spaces  "
   ]
  },
  {
   "cell_type": "code",
   "execution_count": 65,
   "id": "f3deec82-9975-42ad-9eb8-15cbcd1c1948",
   "metadata": {},
   "outputs": [
    {
     "data": {
      "text/plain": [
       "'Tanvi   '"
      ]
     },
     "execution_count": 65,
     "metadata": {},
     "output_type": "execute_result"
    }
   ],
   "source": [
    "name.lstrip()    # remove the left side spaces "
   ]
  },
  {
   "cell_type": "code",
   "execution_count": 66,
   "id": "70f51f79-5208-4133-bd60-f42e690c0470",
   "metadata": {},
   "outputs": [
    {
     "data": {
      "text/plain": [
       "True"
      ]
     },
     "execution_count": 66,
     "metadata": {},
     "output_type": "execute_result"
    }
   ],
   "source": [
    "name.startswith('  T')  #endswith()"
   ]
  },
  {
   "cell_type": "code",
   "execution_count": 69,
   "id": "314b2f25-8ca0-4b08-9503-4cb40ded1a47",
   "metadata": {},
   "outputs": [
    {
     "data": {
      "text/plain": [
       "False"
      ]
     },
     "execution_count": 69,
     "metadata": {},
     "output_type": "execute_result"
    }
   ],
   "source": [
    "name.endswith('i  ')"
   ]
  },
  {
   "cell_type": "code",
   "execution_count": 70,
   "id": "e524d6db-886f-4dbe-b5c7-a54c7226e13a",
   "metadata": {},
   "outputs": [
    {
     "data": {
      "text/plain": [
       "'  ttanvi   '"
      ]
     },
     "execution_count": 70,
     "metadata": {},
     "output_type": "execute_result"
    }
   ],
   "source": [
    "name.replace('T','tt')  # we want to replace function replace('which char','replace with')"
   ]
  },
  {
   "cell_type": "code",
   "execution_count": 73,
   "id": "0f4d17fc-1655-4636-ac62-2a967bc8bcc8",
   "metadata": {},
   "outputs": [
    {
     "data": {
      "text/plain": [
       "4"
      ]
     },
     "execution_count": 73,
     "metadata": {},
     "output_type": "execute_result"
    }
   ],
   "source": [
    "name.find('i')   #to check the index"
   ]
  },
  {
   "cell_type": "code",
   "execution_count": 73,
   "id": "830beaa1-d26a-42ae-9deb-d53b7f91d8ea",
   "metadata": {},
   "outputs": [
    {
     "data": {
      "text/plain": [
       "['__add__',\n",
       " '__class__',\n",
       " '__contains__',\n",
       " '__delattr__',\n",
       " '__dir__',\n",
       " '__doc__',\n",
       " '__eq__',\n",
       " '__format__',\n",
       " '__ge__',\n",
       " '__getattribute__',\n",
       " '__getitem__',\n",
       " '__getnewargs__',\n",
       " '__getstate__',\n",
       " '__gt__',\n",
       " '__hash__',\n",
       " '__init__',\n",
       " '__init_subclass__',\n",
       " '__iter__',\n",
       " '__le__',\n",
       " '__len__',\n",
       " '__lt__',\n",
       " '__mod__',\n",
       " '__mul__',\n",
       " '__ne__',\n",
       " '__new__',\n",
       " '__reduce__',\n",
       " '__reduce_ex__',\n",
       " '__repr__',\n",
       " '__rmod__',\n",
       " '__rmul__',\n",
       " '__setattr__',\n",
       " '__sizeof__',\n",
       " '__str__',\n",
       " '__subclasshook__',\n",
       " 'capitalize',\n",
       " 'casefold',\n",
       " 'center',\n",
       " 'count',\n",
       " 'encode',\n",
       " 'endswith',\n",
       " 'expandtabs',\n",
       " 'find',\n",
       " 'format',\n",
       " 'format_map',\n",
       " 'index',\n",
       " 'isalnum',\n",
       " 'isalpha',\n",
       " 'isascii',\n",
       " 'isdecimal',\n",
       " 'isdigit',\n",
       " 'isidentifier',\n",
       " 'islower',\n",
       " 'isnumeric',\n",
       " 'isprintable',\n",
       " 'isspace',\n",
       " 'istitle',\n",
       " 'isupper',\n",
       " 'join',\n",
       " 'ljust',\n",
       " 'lower',\n",
       " 'lstrip',\n",
       " 'maketrans',\n",
       " 'partition',\n",
       " 'removeprefix',\n",
       " 'removesuffix',\n",
       " 'replace',\n",
       " 'rfind',\n",
       " 'rindex',\n",
       " 'rjust',\n",
       " 'rpartition',\n",
       " 'rsplit',\n",
       " 'rstrip',\n",
       " 'split',\n",
       " 'splitlines',\n",
       " 'startswith',\n",
       " 'strip',\n",
       " 'swapcase',\n",
       " 'title',\n",
       " 'translate',\n",
       " 'upper',\n",
       " 'zfill']"
      ]
     },
     "execution_count": 73,
     "metadata": {},
     "output_type": "execute_result"
    }
   ],
   "source": [
    "dir(name) # to check the which function are used in identifier"
   ]
  },
  {
   "cell_type": "code",
   "execution_count": 74,
   "id": "3b782e72-7818-4f76-be58-4e7abf99a2d2",
   "metadata": {},
   "outputs": [
    {
     "name": "stdout",
     "output_type": "stream",
     "text": [
      "Help on built-in function lower:\n",
      "\n",
      "lower() method of builtins.str instance\n",
      "    Return a copy of the string converted to lowercase.\n",
      "\n"
     ]
    }
   ],
   "source": [
    "help(name.lower)#this is used to what is function are used"
   ]
  },
  {
   "cell_type": "code",
   "execution_count": 75,
   "id": "f00f1848-f7e4-4927-a911-72fa8f763bad",
   "metadata": {},
   "outputs": [
    {
     "data": {
      "text/plain": [
       "'tanvi'"
      ]
     },
     "execution_count": 75,
     "metadata": {},
     "output_type": "execute_result"
    }
   ],
   "source": [
    "name.lower()  #press shift tab  "
   ]
  },
  {
   "cell_type": "code",
   "execution_count": 77,
   "id": "25549d5c-b24a-4850-b523-bf53cd2c2b42",
   "metadata": {},
   "outputs": [
    {
     "name": "stdout",
     "output_type": "stream",
     "text": [
      "Help on class str in module builtins:\n",
      "\n",
      "class str(object)\n",
      " |  str(object='') -> str\n",
      " |  str(bytes_or_buffer[, encoding[, errors]]) -> str\n",
      " |  \n",
      " |  Create a new string object from the given object. If encoding or\n",
      " |  errors is specified, then the object must expose a data buffer\n",
      " |  that will be decoded using the given encoding and error handler.\n",
      " |  Otherwise, returns the result of object.__str__() (if defined)\n",
      " |  or repr(object).\n",
      " |  encoding defaults to sys.getdefaultencoding().\n",
      " |  errors defaults to 'strict'.\n",
      " |  \n",
      " |  Methods defined here:\n",
      " |  \n",
      " |  __add__(self, value, /)\n",
      " |      Return self+value.\n",
      " |  \n",
      " |  __contains__(self, key, /)\n",
      " |      Return key in self.\n",
      " |  \n",
      " |  __eq__(self, value, /)\n",
      " |      Return self==value.\n",
      " |  \n",
      " |  __format__(self, format_spec, /)\n",
      " |      Return a formatted version of the string as described by format_spec.\n",
      " |  \n",
      " |  __ge__(self, value, /)\n",
      " |      Return self>=value.\n",
      " |  \n",
      " |  __getattribute__(self, name, /)\n",
      " |      Return getattr(self, name).\n",
      " |  \n",
      " |  __getitem__(self, key, /)\n",
      " |      Return self[key].\n",
      " |  \n",
      " |  __getnewargs__(...)\n",
      " |  \n",
      " |  __gt__(self, value, /)\n",
      " |      Return self>value.\n",
      " |  \n",
      " |  __hash__(self, /)\n",
      " |      Return hash(self).\n",
      " |  \n",
      " |  __iter__(self, /)\n",
      " |      Implement iter(self).\n",
      " |  \n",
      " |  __le__(self, value, /)\n",
      " |      Return self<=value.\n",
      " |  \n",
      " |  __len__(self, /)\n",
      " |      Return len(self).\n",
      " |  \n",
      " |  __lt__(self, value, /)\n",
      " |      Return self<value.\n",
      " |  \n",
      " |  __mod__(self, value, /)\n",
      " |      Return self%value.\n",
      " |  \n",
      " |  __mul__(self, value, /)\n",
      " |      Return self*value.\n",
      " |  \n",
      " |  __ne__(self, value, /)\n",
      " |      Return self!=value.\n",
      " |  \n",
      " |  __repr__(self, /)\n",
      " |      Return repr(self).\n",
      " |  \n",
      " |  __rmod__(self, value, /)\n",
      " |      Return value%self.\n",
      " |  \n",
      " |  __rmul__(self, value, /)\n",
      " |      Return value*self.\n",
      " |  \n",
      " |  __sizeof__(self, /)\n",
      " |      Return the size of the string in memory, in bytes.\n",
      " |  \n",
      " |  __str__(self, /)\n",
      " |      Return str(self).\n",
      " |  \n",
      " |  capitalize(self, /)\n",
      " |      Return a capitalized version of the string.\n",
      " |      \n",
      " |      More specifically, make the first character have upper case and the rest lower\n",
      " |      case.\n",
      " |  \n",
      " |  casefold(self, /)\n",
      " |      Return a version of the string suitable for caseless comparisons.\n",
      " |  \n",
      " |  center(self, width, fillchar=' ', /)\n",
      " |      Return a centered string of length width.\n",
      " |      \n",
      " |      Padding is done using the specified fill character (default is a space).\n",
      " |  \n",
      " |  count(...)\n",
      " |      S.count(sub[, start[, end]]) -> int\n",
      " |      \n",
      " |      Return the number of non-overlapping occurrences of substring sub in\n",
      " |      string S[start:end].  Optional arguments start and end are\n",
      " |      interpreted as in slice notation.\n",
      " |  \n",
      " |  encode(self, /, encoding='utf-8', errors='strict')\n",
      " |      Encode the string using the codec registered for encoding.\n",
      " |      \n",
      " |      encoding\n",
      " |        The encoding in which to encode the string.\n",
      " |      errors\n",
      " |        The error handling scheme to use for encoding errors.\n",
      " |        The default is 'strict' meaning that encoding errors raise a\n",
      " |        UnicodeEncodeError.  Other possible values are 'ignore', 'replace' and\n",
      " |        'xmlcharrefreplace' as well as any other name registered with\n",
      " |        codecs.register_error that can handle UnicodeEncodeErrors.\n",
      " |  \n",
      " |  endswith(...)\n",
      " |      S.endswith(suffix[, start[, end]]) -> bool\n",
      " |      \n",
      " |      Return True if S ends with the specified suffix, False otherwise.\n",
      " |      With optional start, test S beginning at that position.\n",
      " |      With optional end, stop comparing S at that position.\n",
      " |      suffix can also be a tuple of strings to try.\n",
      " |  \n",
      " |  expandtabs(self, /, tabsize=8)\n",
      " |      Return a copy where all tab characters are expanded using spaces.\n",
      " |      \n",
      " |      If tabsize is not given, a tab size of 8 characters is assumed.\n",
      " |  \n",
      " |  find(...)\n",
      " |      S.find(sub[, start[, end]]) -> int\n",
      " |      \n",
      " |      Return the lowest index in S where substring sub is found,\n",
      " |      such that sub is contained within S[start:end].  Optional\n",
      " |      arguments start and end are interpreted as in slice notation.\n",
      " |      \n",
      " |      Return -1 on failure.\n",
      " |  \n",
      " |  format(...)\n",
      " |      S.format(*args, **kwargs) -> str\n",
      " |      \n",
      " |      Return a formatted version of S, using substitutions from args and kwargs.\n",
      " |      The substitutions are identified by braces ('{' and '}').\n",
      " |  \n",
      " |  format_map(...)\n",
      " |      S.format_map(mapping) -> str\n",
      " |      \n",
      " |      Return a formatted version of S, using substitutions from mapping.\n",
      " |      The substitutions are identified by braces ('{' and '}').\n",
      " |  \n",
      " |  index(...)\n",
      " |      S.index(sub[, start[, end]]) -> int\n",
      " |      \n",
      " |      Return the lowest index in S where substring sub is found,\n",
      " |      such that sub is contained within S[start:end].  Optional\n",
      " |      arguments start and end are interpreted as in slice notation.\n",
      " |      \n",
      " |      Raises ValueError when the substring is not found.\n",
      " |  \n",
      " |  isalnum(self, /)\n",
      " |      Return True if the string is an alpha-numeric string, False otherwise.\n",
      " |      \n",
      " |      A string is alpha-numeric if all characters in the string are alpha-numeric and\n",
      " |      there is at least one character in the string.\n",
      " |  \n",
      " |  isalpha(self, /)\n",
      " |      Return True if the string is an alphabetic string, False otherwise.\n",
      " |      \n",
      " |      A string is alphabetic if all characters in the string are alphabetic and there\n",
      " |      is at least one character in the string.\n",
      " |  \n",
      " |  isascii(self, /)\n",
      " |      Return True if all characters in the string are ASCII, False otherwise.\n",
      " |      \n",
      " |      ASCII characters have code points in the range U+0000-U+007F.\n",
      " |      Empty string is ASCII too.\n",
      " |  \n",
      " |  isdecimal(self, /)\n",
      " |      Return True if the string is a decimal string, False otherwise.\n",
      " |      \n",
      " |      A string is a decimal string if all characters in the string are decimal and\n",
      " |      there is at least one character in the string.\n",
      " |  \n",
      " |  isdigit(self, /)\n",
      " |      Return True if the string is a digit string, False otherwise.\n",
      " |      \n",
      " |      A string is a digit string if all characters in the string are digits and there\n",
      " |      is at least one character in the string.\n",
      " |  \n",
      " |  isidentifier(self, /)\n",
      " |      Return True if the string is a valid Python identifier, False otherwise.\n",
      " |      \n",
      " |      Call keyword.iskeyword(s) to test whether string s is a reserved identifier,\n",
      " |      such as \"def\" or \"class\".\n",
      " |  \n",
      " |  islower(self, /)\n",
      " |      Return True if the string is a lowercase string, False otherwise.\n",
      " |      \n",
      " |      A string is lowercase if all cased characters in the string are lowercase and\n",
      " |      there is at least one cased character in the string.\n",
      " |  \n",
      " |  isnumeric(self, /)\n",
      " |      Return True if the string is a numeric string, False otherwise.\n",
      " |      \n",
      " |      A string is numeric if all characters in the string are numeric and there is at\n",
      " |      least one character in the string.\n",
      " |  \n",
      " |  isprintable(self, /)\n",
      " |      Return True if the string is printable, False otherwise.\n",
      " |      \n",
      " |      A string is printable if all of its characters are considered printable in\n",
      " |      repr() or if it is empty.\n",
      " |  \n",
      " |  isspace(self, /)\n",
      " |      Return True if the string is a whitespace string, False otherwise.\n",
      " |      \n",
      " |      A string is whitespace if all characters in the string are whitespace and there\n",
      " |      is at least one character in the string.\n",
      " |  \n",
      " |  istitle(self, /)\n",
      " |      Return True if the string is a title-cased string, False otherwise.\n",
      " |      \n",
      " |      In a title-cased string, upper- and title-case characters may only\n",
      " |      follow uncased characters and lowercase characters only cased ones.\n",
      " |  \n",
      " |  isupper(self, /)\n",
      " |      Return True if the string is an uppercase string, False otherwise.\n",
      " |      \n",
      " |      A string is uppercase if all cased characters in the string are uppercase and\n",
      " |      there is at least one cased character in the string.\n",
      " |  \n",
      " |  join(self, iterable, /)\n",
      " |      Concatenate any number of strings.\n",
      " |      \n",
      " |      The string whose method is called is inserted in between each given string.\n",
      " |      The result is returned as a new string.\n",
      " |      \n",
      " |      Example: '.'.join(['ab', 'pq', 'rs']) -> 'ab.pq.rs'\n",
      " |  \n",
      " |  ljust(self, width, fillchar=' ', /)\n",
      " |      Return a left-justified string of length width.\n",
      " |      \n",
      " |      Padding is done using the specified fill character (default is a space).\n",
      " |  \n",
      " |  lower(self, /)\n",
      " |      Return a copy of the string converted to lowercase.\n",
      " |  \n",
      " |  lstrip(self, chars=None, /)\n",
      " |      Return a copy of the string with leading whitespace removed.\n",
      " |      \n",
      " |      If chars is given and not None, remove characters in chars instead.\n",
      " |  \n",
      " |  partition(self, sep, /)\n",
      " |      Partition the string into three parts using the given separator.\n",
      " |      \n",
      " |      This will search for the separator in the string.  If the separator is found,\n",
      " |      returns a 3-tuple containing the part before the separator, the separator\n",
      " |      itself, and the part after it.\n",
      " |      \n",
      " |      If the separator is not found, returns a 3-tuple containing the original string\n",
      " |      and two empty strings.\n",
      " |  \n",
      " |  removeprefix(self, prefix, /)\n",
      " |      Return a str with the given prefix string removed if present.\n",
      " |      \n",
      " |      If the string starts with the prefix string, return string[len(prefix):].\n",
      " |      Otherwise, return a copy of the original string.\n",
      " |  \n",
      " |  removesuffix(self, suffix, /)\n",
      " |      Return a str with the given suffix string removed if present.\n",
      " |      \n",
      " |      If the string ends with the suffix string and that suffix is not empty,\n",
      " |      return string[:-len(suffix)]. Otherwise, return a copy of the original\n",
      " |      string.\n",
      " |  \n",
      " |  replace(self, old, new, count=-1, /)\n",
      " |      Return a copy with all occurrences of substring old replaced by new.\n",
      " |      \n",
      " |        count\n",
      " |          Maximum number of occurrences to replace.\n",
      " |          -1 (the default value) means replace all occurrences.\n",
      " |      \n",
      " |      If the optional argument count is given, only the first count occurrences are\n",
      " |      replaced.\n",
      " |  \n",
      " |  rfind(...)\n",
      " |      S.rfind(sub[, start[, end]]) -> int\n",
      " |      \n",
      " |      Return the highest index in S where substring sub is found,\n",
      " |      such that sub is contained within S[start:end].  Optional\n",
      " |      arguments start and end are interpreted as in slice notation.\n",
      " |      \n",
      " |      Return -1 on failure.\n",
      " |  \n",
      " |  rindex(...)\n",
      " |      S.rindex(sub[, start[, end]]) -> int\n",
      " |      \n",
      " |      Return the highest index in S where substring sub is found,\n",
      " |      such that sub is contained within S[start:end].  Optional\n",
      " |      arguments start and end are interpreted as in slice notation.\n",
      " |      \n",
      " |      Raises ValueError when the substring is not found.\n",
      " |  \n",
      " |  rjust(self, width, fillchar=' ', /)\n",
      " |      Return a right-justified string of length width.\n",
      " |      \n",
      " |      Padding is done using the specified fill character (default is a space).\n",
      " |  \n",
      " |  rpartition(self, sep, /)\n",
      " |      Partition the string into three parts using the given separator.\n",
      " |      \n",
      " |      This will search for the separator in the string, starting at the end. If\n",
      " |      the separator is found, returns a 3-tuple containing the part before the\n",
      " |      separator, the separator itself, and the part after it.\n",
      " |      \n",
      " |      If the separator is not found, returns a 3-tuple containing two empty strings\n",
      " |      and the original string.\n",
      " |  \n",
      " |  rsplit(self, /, sep=None, maxsplit=-1)\n",
      " |      Return a list of the substrings in the string, using sep as the separator string.\n",
      " |      \n",
      " |        sep\n",
      " |          The separator used to split the string.\n",
      " |      \n",
      " |          When set to None (the default value), will split on any whitespace\n",
      " |          character (including \\n \\r \\t \\f and spaces) and will discard\n",
      " |          empty strings from the result.\n",
      " |        maxsplit\n",
      " |          Maximum number of splits (starting from the left).\n",
      " |          -1 (the default value) means no limit.\n",
      " |      \n",
      " |      Splitting starts at the end of the string and works to the front.\n",
      " |  \n",
      " |  rstrip(self, chars=None, /)\n",
      " |      Return a copy of the string with trailing whitespace removed.\n",
      " |      \n",
      " |      If chars is given and not None, remove characters in chars instead.\n",
      " |  \n",
      " |  split(self, /, sep=None, maxsplit=-1)\n",
      " |      Return a list of the substrings in the string, using sep as the separator string.\n",
      " |      \n",
      " |        sep\n",
      " |          The separator used to split the string.\n",
      " |      \n",
      " |          When set to None (the default value), will split on any whitespace\n",
      " |          character (including \\n \\r \\t \\f and spaces) and will discard\n",
      " |          empty strings from the result.\n",
      " |        maxsplit\n",
      " |          Maximum number of splits (starting from the left).\n",
      " |          -1 (the default value) means no limit.\n",
      " |      \n",
      " |      Note, str.split() is mainly useful for data that has been intentionally\n",
      " |      delimited.  With natural text that includes punctuation, consider using\n",
      " |      the regular expression module.\n",
      " |  \n",
      " |  splitlines(self, /, keepends=False)\n",
      " |      Return a list of the lines in the string, breaking at line boundaries.\n",
      " |      \n",
      " |      Line breaks are not included in the resulting list unless keepends is given and\n",
      " |      true.\n",
      " |  \n",
      " |  startswith(...)\n",
      " |      S.startswith(prefix[, start[, end]]) -> bool\n",
      " |      \n",
      " |      Return True if S starts with the specified prefix, False otherwise.\n",
      " |      With optional start, test S beginning at that position.\n",
      " |      With optional end, stop comparing S at that position.\n",
      " |      prefix can also be a tuple of strings to try.\n",
      " |  \n",
      " |  strip(self, chars=None, /)\n",
      " |      Return a copy of the string with leading and trailing whitespace removed.\n",
      " |      \n",
      " |      If chars is given and not None, remove characters in chars instead.\n",
      " |  \n",
      " |  swapcase(self, /)\n",
      " |      Convert uppercase characters to lowercase and lowercase characters to uppercase.\n",
      " |  \n",
      " |  title(self, /)\n",
      " |      Return a version of the string where each word is titlecased.\n",
      " |      \n",
      " |      More specifically, words start with uppercased characters and all remaining\n",
      " |      cased characters have lower case.\n",
      " |  \n",
      " |  translate(self, table, /)\n",
      " |      Replace each character in the string using the given translation table.\n",
      " |      \n",
      " |        table\n",
      " |          Translation table, which must be a mapping of Unicode ordinals to\n",
      " |          Unicode ordinals, strings, or None.\n",
      " |      \n",
      " |      The table must implement lookup/indexing via __getitem__, for instance a\n",
      " |      dictionary or list.  If this operation raises LookupError, the character is\n",
      " |      left untouched.  Characters mapped to None are deleted.\n",
      " |  \n",
      " |  upper(self, /)\n",
      " |      Return a copy of the string converted to uppercase.\n",
      " |  \n",
      " |  zfill(self, width, /)\n",
      " |      Pad a numeric string with zeros on the left, to fill a field of the given width.\n",
      " |      \n",
      " |      The string is never truncated.\n",
      " |  \n",
      " |  ----------------------------------------------------------------------\n",
      " |  Static methods defined here:\n",
      " |  \n",
      " |  __new__(*args, **kwargs) from builtins.type\n",
      " |      Create and return a new object.  See help(type) for accurate signature.\n",
      " |  \n",
      " |  maketrans(...)\n",
      " |      Return a translation table usable for str.translate().\n",
      " |      \n",
      " |      If there is only one argument, it must be a dictionary mapping Unicode\n",
      " |      ordinals (integers) or characters to Unicode ordinals, strings or None.\n",
      " |      Character keys will be then converted to ordinals.\n",
      " |      If there are two arguments, they must be strings of equal length, and\n",
      " |      in the resulting dictionary, each character in x will be mapped to the\n",
      " |      character at the same position in y. If there is a third argument, it\n",
      " |      must be a string, whose characters will be mapped to None in the result.\n",
      "\n"
     ]
    }
   ],
   "source": [
    "help(str)   #which libaries are used in string "
   ]
  },
  {
   "cell_type": "code",
   "execution_count": 76,
   "id": "a5246307-73db-49a2-9e2d-61e837c5c1e5",
   "metadata": {},
   "outputs": [],
   "source": [
    "name1='tanvi'\n",
    "name2='1234'"
   ]
  },
  {
   "cell_type": "code",
   "execution_count": 77,
   "id": "f6584187-3443-4535-a013-dd15c2ecf550",
   "metadata": {},
   "outputs": [],
   "source": [
    "res=name1+name2  # here concatination is done"
   ]
  },
  {
   "cell_type": "code",
   "execution_count": 78,
   "id": "a29909bc-c270-49fa-8fc6-bcb14028deb7",
   "metadata": {},
   "outputs": [
    {
     "data": {
      "text/plain": [
       "'tanvi1234'"
      ]
     },
     "execution_count": 78,
     "metadata": {},
     "output_type": "execute_result"
    }
   ],
   "source": [
    "res"
   ]
  },
  {
   "cell_type": "code",
   "execution_count": 79,
   "id": "047482af-5f5c-43e2-af9f-0c74ace6bda1",
   "metadata": {},
   "outputs": [
    {
     "data": {
      "text/plain": [
       "'tanvitanvi'"
      ]
     },
     "execution_count": 79,
     "metadata": {},
     "output_type": "execute_result"
    }
   ],
   "source": [
    "name1*2"
   ]
  },
  {
   "cell_type": "code",
   "execution_count": 83,
   "id": "eaa856d6-4060-4ebb-923a-c360fdf81845",
   "metadata": {},
   "outputs": [],
   "source": [
    "# escape sequence"
   ]
  },
  {
   "cell_type": "code",
   "execution_count": 84,
   "id": "1f3c6085-45e0-4902-9274-f291bddeea0a",
   "metadata": {},
   "outputs": [
    {
     "name": "stdout",
     "output_type": "stream",
     "text": [
      "hello \n",
      " world\n"
     ]
    }
   ],
   "source": [
    "print('hello \\n world')   # \\n is for new line"
   ]
  },
  {
   "cell_type": "code",
   "execution_count": 81,
   "id": "8f1dc7a2-9607-4a38-a9a6-e19728e46b6e",
   "metadata": {},
   "outputs": [],
   "source": [
    "#doc string\n",
    "'''\n",
    "jnjfhdij      # '''       '''  is used for multiple comments and we dont have to see the output used ; \n",
    "jhuhsjndu\n",
    "\n",
    "''';"
   ]
  },
  {
   "cell_type": "code",
   "execution_count": 88,
   "id": "4ad6772b-6834-4019-9edb-f59726aa5a08",
   "metadata": {},
   "outputs": [
    {
     "data": {
      "text/plain": [
       "97"
      ]
     },
     "execution_count": 88,
     "metadata": {},
     "output_type": "execute_result"
    }
   ],
   "source": [
    "# ascil \n",
    "ord('a')   # to check the given"
   ]
  },
  {
   "cell_type": "code",
   "execution_count": 89,
   "id": "4f2562f7-4975-40d7-a602-d3c35d50c36b",
   "metadata": {},
   "outputs": [
    {
     "data": {
      "text/plain": [
       "'z'"
      ]
     },
     "execution_count": 89,
     "metadata": {},
     "output_type": "execute_result"
    }
   ],
   "source": [
    "chr(122)  # to check the ascil value for whicj particular character"
   ]
  },
  {
   "cell_type": "code",
   "execution_count": 83,
   "id": "febab8bf-3395-4095-9ec6-9265ee57f319",
   "metadata": {},
   "outputs": [],
   "source": [
    "name='riya'\n",
    "marks=71"
   ]
  },
  {
   "cell_type": "code",
   "execution_count": 84,
   "id": "a9e7f7ae-f523-44df-92ff-f713cf88500a",
   "metadata": {},
   "outputs": [
    {
     "name": "stdout",
     "output_type": "stream",
     "text": [
      "my name is riya and marks are 71\n"
     ]
    }
   ],
   "source": [
    "print(\"my name is\",name ,\"and marks are\", marks)"
   ]
  },
  {
   "cell_type": "code",
   "execution_count": 95,
   "id": "490246b3-143d-4f06-b141-54cf7b189733",
   "metadata": {},
   "outputs": [
    {
     "name": "stdout",
     "output_type": "stream",
     "text": [
      "my name is riya and marks are 71\n"
     ]
    }
   ],
   "source": [
    "#formetted \n",
    "print(\"my name is %s and marks are %i\" %(name,marks))"
   ]
  },
  {
   "cell_type": "code",
   "execution_count": 96,
   "id": "6eee6b79-225f-4668-b410-e47515fb6939",
   "metadata": {},
   "outputs": [],
   "source": [
    "# %s is for string \n",
    "# %i is for integer\n",
    "# 2f means float take 2 vaule  after float "
   ]
  },
  {
   "cell_type": "code",
   "execution_count": 98,
   "id": "da39df7b-5df8-4a0d-bf3a-a2d13bd1b052",
   "metadata": {},
   "outputs": [
    {
     "name": "stdout",
     "output_type": "stream",
     "text": [
      "riya\t71\n"
     ]
    }
   ],
   "source": [
    "print(name,marks ,sep='\\t')     # we also sperated by * but star are visibiling between them "
   ]
  },
  {
   "cell_type": "code",
   "execution_count": 99,
   "id": "6b14bc3d-ae3d-4ccb-9585-f49d683100a6",
   "metadata": {},
   "outputs": [
    {
     "name": "stdout",
     "output_type": "stream",
     "text": [
      "riya 71*"
     ]
    }
   ],
   "source": [
    "print(name,marks ,end='*')"
   ]
  },
  {
   "cell_type": "markdown",
   "id": "7dc7f506-2e00-49ef-bf34-eee8b764f304",
   "metadata": {},
   "source": [
    "## arithmetic operator"
   ]
  },
  {
   "cell_type": "code",
   "execution_count": null,
   "id": "cb2b7432-1185-41f7-8e9a-beeeef8452ed",
   "metadata": {},
   "outputs": [],
   "source": [
    "# operartors + - / * % // **"
   ]
  },
  {
   "cell_type": "markdown",
   "id": "0b145e39-8797-4ab6-a398-b242a805fd50",
   "metadata": {},
   "source": [
    "### relational operator"
   ]
  },
  {
   "cell_type": "code",
   "execution_count": null,
   "id": "8fe1b341-e52f-4ef3-9c7a-f7c15e22ccab",
   "metadata": {},
   "outputs": [],
   "source": [
    "# operators are == <= >= "
   ]
  },
  {
   "cell_type": "markdown",
   "id": "1dd32d21-e34a-4880-a334-88a4b6b70c99",
   "metadata": {},
   "source": [
    "### assignment operstor"
   ]
  },
  {
   "cell_type": "code",
   "execution_count": 103,
   "id": "ce83c88f-474f-4e59-8334-29ecb1012454",
   "metadata": {},
   "outputs": [],
   "source": [
    "num1=50\n",
    "num2=45"
   ]
  },
  {
   "cell_type": "code",
   "execution_count": 104,
   "id": "794bf95a-a8fc-4471-9cb5-43158ee98e25",
   "metadata": {},
   "outputs": [],
   "source": [
    "num1 +=50   # num1=num1+50"
   ]
  },
  {
   "cell_type": "code",
   "execution_count": 105,
   "id": "8dcf946e-668b-443c-9418-942eb7808803",
   "metadata": {},
   "outputs": [
    {
     "data": {
      "text/plain": [
       "100"
      ]
     },
     "execution_count": 105,
     "metadata": {},
     "output_type": "execute_result"
    }
   ],
   "source": [
    "num1"
   ]
  },
  {
   "cell_type": "markdown",
   "id": "9e1eecee-5e4b-4eaa-8a78-88129730def5",
   "metadata": {},
   "source": [
    "### logical operator"
   ]
  },
  {
   "cell_type": "code",
   "execution_count": 86,
   "id": "2ad0c00a-4229-49a2-9cb6-e47b68b7f0d4",
   "metadata": {},
   "outputs": [
    {
     "data": {
      "text/plain": [
       "False"
      ]
     },
     "execution_count": 86,
     "metadata": {},
     "output_type": "execute_result"
    }
   ],
   "source": [
    "num=4\n",
    "num > 6 and num >0 "
   ]
  },
  {
   "cell_type": "code",
   "execution_count": 106,
   "id": "aad250b6-7702-43df-bb63-96c2145f1899",
   "metadata": {},
   "outputs": [
    {
     "data": {
      "text/plain": [
       "True"
      ]
     },
     "execution_count": 106,
     "metadata": {},
     "output_type": "execute_result"
    }
   ],
   "source": [
    " #  and and or \n",
    "num1 >num2 and num1 >0 "
   ]
  },
  {
   "cell_type": "markdown",
   "id": "e5cb07a7-91d2-4c73-8c32-19cfa22d5f15",
   "metadata": {},
   "source": [
    "## membership operator "
   ]
  },
  {
   "cell_type": "code",
   "execution_count": 107,
   "id": "3999f031-8124-4840-9c39-da515a56d59b",
   "metadata": {},
   "outputs": [
    {
     "data": {
      "text/plain": [
       "'riya'"
      ]
     },
     "execution_count": 107,
     "metadata": {},
     "output_type": "execute_result"
    }
   ],
   "source": [
    "name"
   ]
  },
  {
   "cell_type": "code",
   "execution_count": 108,
   "id": "f90b2f7b-2329-403b-8a8c-610b80e2c2e1",
   "metadata": {},
   "outputs": [
    {
     "data": {
      "text/plain": [
       "True"
      ]
     },
     "execution_count": 108,
     "metadata": {},
     "output_type": "execute_result"
    }
   ],
   "source": [
    "'i' in name"
   ]
  },
  {
   "cell_type": "code",
   "execution_count": 109,
   "id": "542a21c9-57e5-4db1-ad26-f7778893ce44",
   "metadata": {},
   "outputs": [
    {
     "data": {
      "text/plain": [
       "False"
      ]
     },
     "execution_count": 109,
     "metadata": {},
     "output_type": "execute_result"
    }
   ],
   "source": [
    "'i' not in name"
   ]
  },
  {
   "cell_type": "code",
   "execution_count": null,
   "id": "e2225a97-85d1-4b90-9c0b-74e96ae53332",
   "metadata": {},
   "outputs": [],
   "source": [
    "# type cASTING "
   ]
  },
  {
   "cell_type": "code",
   "execution_count": 88,
   "id": "823d8ea9-014a-40da-a824-a089b8c61864",
   "metadata": {},
   "outputs": [],
   "source": [
    "num1=34\n",
    "num2=34.67"
   ]
  },
  {
   "cell_type": "code",
   "execution_count": 89,
   "id": "6a18d4bd-11c9-44dc-ae19-f7a007b0d69b",
   "metadata": {},
   "outputs": [
    {
     "data": {
      "text/plain": [
       "68.67"
      ]
     },
     "execution_count": 89,
     "metadata": {},
     "output_type": "execute_result"
    }
   ],
   "source": [
    "num1+num2"
   ]
  },
  {
   "cell_type": "code",
   "execution_count": 90,
   "id": "0cd1f6a9-ac7d-44a0-b04b-b71b8fa56751",
   "metadata": {},
   "outputs": [
    {
     "data": {
      "text/plain": [
       "68"
      ]
     },
     "execution_count": 90,
     "metadata": {},
     "output_type": "execute_result"
    }
   ],
   "source": [
    "num1+int(num2)  # here we use the typecasting"
   ]
  },
  {
   "cell_type": "code",
   "execution_count": 1,
   "id": "1a36d604-f52b-42b1-b442-29f09c5654f9",
   "metadata": {},
   "outputs": [],
   "source": [
    "name=\"aman\"\n",
    "num=67"
   ]
  },
  {
   "cell_type": "code",
   "execution_count": 2,
   "id": "314d751e-79ea-4d4c-ac66-063ac058ff4e",
   "metadata": {},
   "outputs": [
    {
     "name": "stdout",
     "output_type": "stream",
     "text": [
      "my password is  aman67\n"
     ]
    }
   ],
   "source": [
    "print('my password is ',name+str(num))    #here is used of typecasting"
   ]
  },
  {
   "cell_type": "markdown",
   "id": "5411057b-b4cf-42cc-ae77-6b446f80896a",
   "metadata": {},
   "source": [
    "## user input"
   ]
  },
  {
   "cell_type": "code",
   "execution_count": 110,
   "id": "7519a5b0-b113-48cb-bea9-3f22be1c6a38",
   "metadata": {},
   "outputs": [
    {
     "name": "stdin",
     "output_type": "stream",
     "text": [
      "enter the number 6\n",
      "enter the number 6\n"
     ]
    },
    {
     "name": "stdout",
     "output_type": "stream",
     "text": [
      "12\n"
     ]
    }
   ],
   "source": [
    "num1=int(input('enter the number'))\n",
    "num2=int(input('enter the number'))\n",
    "sum =num1+num2\n",
    "print(sum)"
   ]
  },
  {
   "cell_type": "code",
   "execution_count": 123,
   "id": "10f536c4-0615-45ea-9b31-ca7971c42492",
   "metadata": {},
   "outputs": [
    {
     "name": "stdin",
     "output_type": "stream",
     "text": [
      "enter the sring tanvi\n",
      "enter the how many type the string will be repeted 3\n"
     ]
    }
   ],
   "source": [
    "#write a program to repeat the string take \n",
    "\n",
    "string1=input('enter the sring')\n",
    "num=int(input('enter the how many type the string will be repeted'))\n"
   ]
  },
  {
   "cell_type": "code",
   "execution_count": 129,
   "id": "623bbe83-4717-4b0c-a454-48012f199f2b",
   "metadata": {},
   "outputs": [],
   "source": [
    "res=string1*num\n"
   ]
  },
  {
   "cell_type": "code",
   "execution_count": 1,
   "id": "416c4e02-6e72-4353-91e1-7a5ef5a8aa19",
   "metadata": {},
   "outputs": [
    {
     "name": "stdin",
     "output_type": "stream",
     "text": [
      "enter the second 5600\n"
     ]
    },
    {
     "name": "stdout",
     "output_type": "stream",
     "text": [
      "1\n"
     ]
    }
   ],
   "source": [
    "sec=int(input('enter the second'))\n",
    "hours=sec// 3600\n",
    "print\n",
    "print(hours)\n",
    "rem_sec=sec%3600  # here we got the remainder\n",
    "year=Day//365year=Day//365year=Day//365"
   ]
  },
  {
   "cell_type": "code",
   "execution_count": 130,
   "id": "dfcb0d2d-2759-4612-b382-0242cbfacece",
   "metadata": {},
   "outputs": [
    {
     "data": {
      "text/plain": [
       "'tanvitanvitanvi'"
      ]
     },
     "execution_count": 130,
     "metadata": {},
     "output_type": "execute_result"
    }
   ],
   "source": [
    "res"
   ]
  },
  {
   "cell_type": "code",
   "execution_count": 134,
   "id": "f5f1a9f0-203d-4bac-af47-b1487a4c0910",
   "metadata": {},
   "outputs": [
    {
     "name": "stdin",
     "output_type": "stream",
     "text": [
      "enter the base 4\n",
      "enter the height 5\n"
     ]
    },
    {
     "name": "stdout",
     "output_type": "stream",
     "text": [
      "10.0\n"
     ]
    }
   ],
   "source": [
    "base=int(input('enter the base'))\n",
    "height=int(input('enter the height'))\n",
    "area=height*base/2  # another formula is 0.5*base*height\n",
    "print(area)"
   ]
  },
  {
   "cell_type": "code",
   "execution_count": 4,
   "id": "f6789fd5-43da-422c-adc0-2bd37cc69ca9",
   "metadata": {},
   "outputs": [
    {
     "name": "stdout",
     "output_type": "stream",
     "text": [
      "addition 100\n"
     ]
    }
   ],
   "source": [
    "counter=1\n",
    "add=0\n",
    "while counter <= 20:\n",
    "    \n",
    "        add=add+counter\n",
    "        counter=counter+2\n",
    "\n",
    "print('addition',add)"
   ]
  },
  {
   "cell_type": "code",
   "execution_count": null,
   "id": "f1f4bb19-213f-473e-ad1a-0751f90e3254",
   "metadata": {},
   "outputs": [],
   "source": []
  }
 ],
 "metadata": {
  "kernelspec": {
   "display_name": "Python 3 (ipykernel)",
   "language": "python",
   "name": "python3"
  },
  "language_info": {
   "codemirror_mode": {
    "name": "ipython",
    "version": 3
   },
   "file_extension": ".py",
   "mimetype": "text/x-python",
   "name": "python",
   "nbconvert_exporter": "python",
   "pygments_lexer": "ipython3",
   "version": "3.11.7"
  }
 },
 "nbformat": 4,
 "nbformat_minor": 5
}
