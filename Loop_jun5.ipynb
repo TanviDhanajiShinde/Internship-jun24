{
 "cells": [
  {
   "cell_type": "markdown",
   "id": "719196e3-957a-4863-83c6-287fd565a0c1",
   "metadata": {},
   "source": [
    "#### While loop"
   ]
  },
  {
   "cell_type": "code",
   "execution_count": 1,
   "id": "41e63fbd-88bd-4f72-85ce-f5c966fe6b67",
   "metadata": {},
   "outputs": [
    {
     "name": "stdout",
     "output_type": "stream",
     "text": [
      "1\n",
      "2\n",
      "3\n",
      "4\n",
      "5\n",
      "6\n",
      "7\n",
      "8\n",
      "9\n"
     ]
    }
   ],
   "source": [
    "# in loops program there is by mistake due to the wrong logic or infinite loop program may crashed or system hang\n",
    "# to resolve this problem we need to interrpt the kernel and restart the kernel\n",
    "i=1\n",
    "while i < 10 :\n",
    "    print(i)\n",
    "    i=i+1"
   ]
  },
  {
   "cell_type": "code",
   "execution_count": 2,
   "id": "c99f3cf8-f1e8-4d2d-95c1-dc6b0d44d337",
   "metadata": {},
   "outputs": [
    {
     "name": "stdout",
     "output_type": "stream",
     "text": [
      "Tanvi\n",
      "Tanvi\n",
      "Tanvi\n",
      "Tanvi\n",
      "Tanvi\n"
     ]
    }
   ],
   "source": [
    "# print name for 5 times\n",
    "i=1\n",
    "while i <= 5 :\n",
    "    print('Tanvi')\n",
    "    i=i+1"
   ]
  },
  {
   "cell_type": "code",
   "execution_count": 3,
   "id": "407eb382-5ac9-4fc9-a3c4-51821ae75e92",
   "metadata": {},
   "outputs": [
    {
     "name": "stdout",
     "output_type": "stream",
     "text": [
      "5 6 7 8 9 10 11 12 13 14 15 Goodbye\n"
     ]
    }
   ],
   "source": [
    "# print number from 5 to 15 after printing the numners display message goodbye\n",
    "num=5\n",
    "while num <= 15 :\n",
    "    print(num ,end=' ')\n",
    "    num=num+1\n",
    "\n",
    "print('Goodbye')"
   ]
  },
  {
   "cell_type": "code",
   "execution_count": 4,
   "id": "7768262c-7185-4052-8728-5232d1e67990",
   "metadata": {},
   "outputs": [
    {
     "data": {
      "text/plain": [
       "16"
      ]
     },
     "execution_count": 4,
     "metadata": {},
     "output_type": "execute_result"
    }
   ],
   "source": [
    "num  # here num value will become 16 "
   ]
  },
  {
   "cell_type": "code",
   "execution_count": 2,
   "id": "783578cf-d713-456c-a599-178f010e78c0",
   "metadata": {},
   "outputs": [
    {
     "name": "stdin",
     "output_type": "stream",
     "text": [
      "enter the number 7\n"
     ]
    },
    {
     "name": "stdout",
     "output_type": "stream",
     "text": [
      "loop ended\n",
      "5040\n"
     ]
    }
   ],
   "source": [
    "# else part of loop \n",
    "num=int(input('enter the number'))\n",
    "fact=1\n",
    "while num > 1 :\n",
    "    fact=fact*num\n",
    "    num=num-1\n",
    "else:\n",
    "    print('loop ended')\n",
    "print(fact)"
   ]
  },
  {
   "cell_type": "code",
   "execution_count": 5,
   "id": "cd27f2b4-2dbc-4608-b9f5-f042d74a27ab",
   "metadata": {},
   "outputs": [
    {
     "name": "stdout",
     "output_type": "stream",
     "text": [
      "Addition from 1 to 10 is : 55\n"
     ]
    }
   ],
   "source": [
    "# add numbers from 1 to 10 using while loop\n",
    "num=1\n",
    "sum=0\n",
    "while num <= 10 :\n",
    "    sum=sum+num\n",
    "    num += 1  # here num =num+1 \n",
    "\n",
    "print('Addition from 1 to 10 is :',sum)\n",
    "    "
   ]
  },
  {
   "cell_type": "code",
   "execution_count": 6,
   "id": "5099658e-cdde-4b84-a7e4-7890365cb6d9",
   "metadata": {},
   "outputs": [
    {
     "name": "stdout",
     "output_type": "stream",
     "text": [
      "Addtion of odd numbers from 1 to 10 is  25\n"
     ]
    }
   ],
   "source": [
    "# print addition of odd numbers from 1 to 10\n",
    "num=1\n",
    "sum=0\n",
    "while num <= 10:\n",
    "        sum=sum+num\n",
    "        num=num+2\n",
    "\n",
    "print(\"Addtion of odd numbers from 1 to 10 is \",sum)"
   ]
  },
  {
   "cell_type": "code",
   "execution_count": 1,
   "id": "8d3cc320-3501-4e21-abec-eab767bb6cac",
   "metadata": {},
   "outputs": [
    {
     "name": "stdout",
     "output_type": "stream",
     "text": [
      "25\n"
     ]
    }
   ],
   "source": [
    "counter=1\n",
    "add=0\n",
    "while counter <= 10:\n",
    "    if counter % 2 == 1:\n",
    "        add=add+counter\n",
    "    counter=counter+1\n",
    "\n",
    "print(add)"
   ]
  },
  {
   "cell_type": "code",
   "execution_count": null,
   "id": "8d58cb66-cd2b-4fda-ac7d-57e926254222",
   "metadata": {},
   "outputs": [
    {
     "name": "stdin",
     "output_type": "stream",
     "text": [
      "enter the number 5\n"
     ]
    }
   ],
   "source": [
    "# find the factorial number\n",
    "num=int(input('enter the number'))\n",
    "fact=1\n",
    "while num > 1:\n",
    "    fact=fact*num\n",
    "    num=num+1\n",
    "\n",
    "print('factorial number : ',fact)"
   ]
  },
  {
   "cell_type": "code",
   "execution_count": 1,
   "id": "ef7f4125-931d-4f55-9095-5725df9270a7",
   "metadata": {},
   "outputs": [
    {
     "name": "stdin",
     "output_type": "stream",
     "text": [
      "enter the number 5\n"
     ]
    },
    {
     "name": "stdout",
     "output_type": "stream",
     "text": [
      "120\n"
     ]
    }
   ],
   "source": [
    "num=int(input('enter the number'))\n",
    "fact=1\n",
    "while num > 1 :\n",
    "    fact=fact*num\n",
    "    num=num-1\n",
    "\n",
    "print(fact)"
   ]
  },
  {
   "cell_type": "code",
   "execution_count": 3,
   "id": "f2ab8294-9472-4a2b-864f-0d2f1f3eed71",
   "metadata": {},
   "outputs": [
    {
     "name": "stdin",
     "output_type": "stream",
     "text": [
      "enter the number 123\n"
     ]
    },
    {
     "name": "stdout",
     "output_type": "stream",
     "text": [
      "addition 6\n"
     ]
    }
   ],
   "source": [
    "# find the sum of digit in number \n",
    "num=int(input('enter the number'))\n",
    "sum=0\n",
    "while num !=0 :\n",
    "    rem= int(num % 10)\n",
    "    sum += rem\n",
    "    num=num/10\n",
    "\n",
    "print('addition',sum)"
   ]
  },
  {
   "cell_type": "code",
   "execution_count": 4,
   "id": "2435cbad-19e3-47f6-9549-becd0867bec8",
   "metadata": {},
   "outputs": [],
   "source": [
    "# while True :|\n",
    " #  print('a')   these is infinite loop "
   ]
  },
  {
   "cell_type": "markdown",
   "id": "0e974636-bfb0-412c-8f51-8d1b203ca86c",
   "metadata": {},
   "source": [
    "### For Loop"
   ]
  },
  {
   "cell_type": "code",
   "execution_count": 6,
   "id": "06044296-7e83-4512-98c6-b03307677d23",
   "metadata": {},
   "outputs": [
    {
     "name": "stdout",
     "output_type": "stream",
     "text": [
      "12\n",
      "34\n",
      "45\n",
      "21\n"
     ]
    }
   ],
   "source": [
    "for n in 12,34,45,21 :\n",
    "    print(n)"
   ]
  },
  {
   "cell_type": "code",
   "execution_count": 7,
   "id": "6799ab50-a1b7-44dc-9d2b-d0e87d1df8a7",
   "metadata": {},
   "outputs": [
    {
     "name": "stdout",
     "output_type": "stream",
     "text": [
      "12.34\n",
      "tanvi\n",
      "23\n",
      "True\n"
     ]
    }
   ],
   "source": [
    "for string  in 12.34,'tanvi',23,True :\n",
    "    print(string)  "
   ]
  },
  {
   "cell_type": "code",
   "execution_count": 1,
   "id": "2bd8cedb-3972-48e1-b360-0342253a12fe",
   "metadata": {},
   "outputs": [
    {
     "name": "stdout",
     "output_type": "stream",
     "text": [
      "6.0\n",
      "17.0\n",
      "22.5\n",
      "10.5\n"
     ]
    }
   ],
   "source": [
    "# write a program print half of the values using for loop\n",
    "for n in 12,34,45,21 :\n",
    "    n=n/2\n",
    "    print(n)"
   ]
  },
  {
   "cell_type": "code",
   "execution_count": 3,
   "id": "d651c96f-e64e-47ee-ae9e-7ca1af854500",
   "metadata": {},
   "outputs": [
    {
     "name": "stdout",
     "output_type": "stream",
     "text": [
      "addition 100\n"
     ]
    }
   ],
   "source": [
    "# addition of odd number\n",
    "add=0\n",
    "for n1 in range(1,21,2):\n",
    "    add=add+n1\n",
    "print('addition',add)"
   ]
  },
  {
   "cell_type": "code",
   "execution_count": 4,
   "id": "64acbe57-6131-471b-816c-81376aec0568",
   "metadata": {},
   "outputs": [
    {
     "name": "stdout",
     "output_type": "stream",
     "text": [
      "tanvi tanvi tanvi tanvi tanvi tanvi tanvi tanvi tanvi tanvi "
     ]
    }
   ],
   "source": [
    "# print your name for 10 times\n",
    "for st in range(1,11):\n",
    "    print('tanvi',end=' ')"
   ]
  },
  {
   "cell_type": "code",
   "execution_count": 5,
   "id": "beb17311-4019-42a0-91b3-0d483b96b314",
   "metadata": {},
   "outputs": [
    {
     "name": "stdout",
     "output_type": "stream",
     "text": [
      "tanvi\n",
      "ganesh\n"
     ]
    }
   ],
   "source": [
    "for n in 'tanvi','ganesh' :\n",
    "    print(n)"
   ]
  },
  {
   "cell_type": "code",
   "execution_count": 6,
   "id": "f3845eba-7a97-49fd-b90c-4ff06d819a7d",
   "metadata": {},
   "outputs": [
    {
     "name": "stdout",
     "output_type": "stream",
     "text": [
      "ttt\n",
      "aaa\n",
      "nnn\n",
      "vvv\n",
      "iii\n"
     ]
    }
   ],
   "source": [
    "for n in 'tanvi' :\n",
    "    print(n*3)"
   ]
  },
  {
   "cell_type": "code",
   "execution_count": 7,
   "id": "76b337b0-f5b4-4a59-8022-5d8ae1ae2d6f",
   "metadata": {},
   "outputs": [
    {
     "name": "stdout",
     "output_type": "stream",
     "text": [
      "23\n",
      "56\n",
      "67\n",
      "89\n",
      "12\n",
      "loop ended\n"
     ]
    }
   ],
   "source": [
    "l=[23,56,67,89,12]\n",
    "for n in l:\n",
    "    print(n)\n",
    "else:\n",
    "    print('loop ended')"
   ]
  },
  {
   "cell_type": "code",
   "execution_count": 8,
   "id": "2c5dc318-88a9-4e74-bf85-922cdffb59df",
   "metadata": {},
   "outputs": [
    {
     "name": "stdin",
     "output_type": "stream",
     "text": [
      "enter the number 5\n"
     ]
    },
    {
     "name": "stdout",
     "output_type": "stream",
     "text": [
      "120\n"
     ]
    }
   ],
   "source": [
    "# # factorial of number using for loop\n",
    "num=int(input('enter the number'))\n",
    "fact=1\n",
    "\n",
    "for n in range(1,num+1) :\n",
    "    fact=fact*n\n",
    "print(fact)"
   ]
  },
  {
   "cell_type": "markdown",
   "id": "b583ec7f-e455-4b5e-907c-346fa3c22461",
   "metadata": {},
   "source": [
    "#### Break Statement"
   ]
  },
  {
   "cell_type": "code",
   "execution_count": 9,
   "id": "bdc74c20-b463-45c0-b2de-0511bdaf3173",
   "metadata": {},
   "outputs": [
    {
     "name": "stdout",
     "output_type": "stream",
     "text": [
      "1\n",
      "2\n",
      "3\n",
      "4\n"
     ]
    }
   ],
   "source": [
    "for n in range(1,10):\n",
    "    if n==5:\n",
    "        break\n",
    "    print(n)  "
   ]
  },
  {
   "cell_type": "code",
   "execution_count": 10,
   "id": "3eade433-b8d4-4b2f-8b35-439fc0a46ed7",
   "metadata": {},
   "outputs": [
    {
     "data": {
      "text/plain": [
       "5"
      ]
     },
     "execution_count": 10,
     "metadata": {},
     "output_type": "execute_result"
    }
   ],
   "source": [
    "n # check the value of n"
   ]
  },
  {
   "cell_type": "code",
   "execution_count": 11,
   "id": "b12609ac-20b9-4d8c-8ff0-24524ecfd01e",
   "metadata": {},
   "outputs": [
    {
     "name": "stdout",
     "output_type": "stream",
     "text": [
      "0\n",
      "1\n",
      "2\n",
      "3\n",
      "4\n",
      "5\n"
     ]
    }
   ],
   "source": [
    "count=0\n",
    "while count < 10:\n",
    "    print(count)\n",
    "    if count == 5: \n",
    "        break\n",
    "    count += 1"
   ]
  },
  {
   "cell_type": "markdown",
   "id": "2c1a6a88-1b60-4536-89fa-27a9c1df95e0",
   "metadata": {},
   "source": [
    "#### continue statement"
   ]
  },
  {
   "cell_type": "code",
   "execution_count": 12,
   "id": "472f6a86-db87-4ab3-980f-de4c190b1b18",
   "metadata": {},
   "outputs": [
    {
     "name": "stdout",
     "output_type": "stream",
     "text": [
      "1\n",
      "2\n",
      "3\n",
      "4\n",
      "6\n",
      "7\n",
      "8\n",
      "9\n"
     ]
    }
   ],
   "source": [
    "for n in range(1,10):\n",
    "    if n==5:\n",
    "        continue\n",
    "    print(n) "
   ]
  },
  {
   "cell_type": "code",
   "execution_count": 13,
   "id": "c7363586-1efb-4743-9679-8d289cd68a2e",
   "metadata": {},
   "outputs": [
    {
     "name": "stdout",
     "output_type": "stream",
     "text": [
      "1\n",
      "3\n",
      "5\n",
      "7\n",
      "9\n",
      "11\n"
     ]
    }
   ],
   "source": [
    "for n in range(1,13):\n",
    "    if n % 2 == 0:\n",
    "        continue\n",
    "    print(n) "
   ]
  },
  {
   "cell_type": "markdown",
   "id": "db25d123-06c3-4e31-b134-d89033329710",
   "metadata": {},
   "source": [
    "#### Pass"
   ]
  },
  {
   "cell_type": "code",
   "execution_count": 14,
   "id": "6cd2b181-40f7-4d51-856a-2ec9338d5a96",
   "metadata": {},
   "outputs": [],
   "source": [
    "num=5\n",
    "if num >1 :\n",
    "    pass"
   ]
  },
  {
   "cell_type": "code",
   "execution_count": 15,
   "id": "0f18acf8-3f4b-407c-bcc0-92e9786b97e5",
   "metadata": {},
   "outputs": [
    {
     "name": "stdin",
     "output_type": "stream",
     "text": [
      "enter the number of rows 5\n"
     ]
    },
    {
     "name": "stdout",
     "output_type": "stream",
     "text": [
      "* \n",
      "* * \n",
      "* * * \n",
      "* * * * \n",
      "* * * * * \n"
     ]
    }
   ],
   "source": [
    "row= int(input(\"enter the number of rows\"))\n",
    "for i in range(1,row+1):\n",
    "    for j in range (i):\n",
    "        print('*',end=' ')\n",
    "    print()\n",
    "       "
   ]
  },
  {
   "cell_type": "code",
   "execution_count": 16,
   "id": "c5a12733-653d-49b4-8a57-909c5c5fb5ed",
   "metadata": {},
   "outputs": [
    {
     "name": "stdin",
     "output_type": "stream",
     "text": [
      "Enter a number:  532\n"
     ]
    },
    {
     "name": "stdout",
     "output_type": "stream",
     "text": [
      "The product of the digits is: 30\n"
     ]
    }
   ],
   "source": [
    "'''\n",
    "Write a Python program to calculate product of digits of a number. Read\n",
    "value of n from user.\n",
    "''';\n",
    "n = input(\"Enter a number: \")\n",
    "product = 1 \n",
    "for digit in n:\n",
    "\n",
    "    product *= int(digit)\n",
    "print(\"The product of the digits is:\", product)"
   ]
  }
 ],
 "metadata": {
  "kernelspec": {
   "display_name": "Python 3 (ipykernel)",
   "language": "python",
   "name": "python3"
  },
  "language_info": {
   "codemirror_mode": {
    "name": "ipython",
    "version": 3
   },
   "file_extension": ".py",
   "mimetype": "text/x-python",
   "name": "python",
   "nbconvert_exporter": "python",
   "pygments_lexer": "ipython3",
   "version": "3.11.7"
  }
 },
 "nbformat": 4,
 "nbformat_minor": 5
}
