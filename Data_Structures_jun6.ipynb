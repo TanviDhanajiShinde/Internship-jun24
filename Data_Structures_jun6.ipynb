{
 "cells": [
  {
   "cell_type": "markdown",
   "id": "554815bf-91d9-43db-a760-3a2791024008",
   "metadata": {},
   "source": [
    "### List"
   ]
  },
  {
   "cell_type": "code",
   "execution_count": 1,
   "id": "b8f21e43-b261-41cd-98c4-bbf5116b7448",
   "metadata": {},
   "outputs": [],
   "source": [
    "l=[12,23,45,89]  # [ ] represents this is list list is data structures in python"
   ]
  },
  {
   "cell_type": "code",
   "execution_count": 2,
   "id": "12eca96c-9bb3-4cda-a6f2-3716c0d58d72",
   "metadata": {},
   "outputs": [
    {
     "name": "stdout",
     "output_type": "stream",
     "text": [
      "[12, 23, 45, 89]\n"
     ]
    }
   ],
   "source": [
    "print(l)"
   ]
  },
  {
   "cell_type": "code",
   "execution_count": 3,
   "id": "da4ab645-e748-451b-9ca6-434865d7b365",
   "metadata": {},
   "outputs": [
    {
     "data": {
      "text/plain": [
       "list"
      ]
     },
     "execution_count": 3,
     "metadata": {},
     "output_type": "execute_result"
    }
   ],
   "source": [
    "type(l)"
   ]
  },
  {
   "cell_type": "code",
   "execution_count": 4,
   "id": "5808ece1-4db5-4a3a-8139-ba97eb9b5b64",
   "metadata": {},
   "outputs": [],
   "source": [
    "l=[12,23,45,89,12]  # in list duplicate value treated as different"
   ]
  },
  {
   "cell_type": "code",
   "execution_count": 5,
   "id": "cdba31db-77d1-4ee0-8a02-4643730e4e54",
   "metadata": {},
   "outputs": [
    {
     "name": "stdout",
     "output_type": "stream",
     "text": [
      "[12, 23, 45, 89, 12]\n"
     ]
    }
   ],
   "source": [
    "print(l)"
   ]
  },
  {
   "cell_type": "code",
   "execution_count": 6,
   "id": "231f396e-f636-4cf5-a8ea-4204801834c8",
   "metadata": {},
   "outputs": [],
   "source": [
    "l=[12,23,45,17,12,'adi',True]  # in list different data types are allowed   list is hetrogenuse"
   ]
  },
  {
   "cell_type": "code",
   "execution_count": 7,
   "id": "a8af1b26-8b20-45ce-88ff-33664fe05560",
   "metadata": {},
   "outputs": [
    {
     "name": "stdout",
     "output_type": "stream",
     "text": [
      "[12, 23, 45, 17, 12, 'adi', True]\n"
     ]
    }
   ],
   "source": [
    "print(l)"
   ]
  },
  {
   "cell_type": "code",
   "execution_count": 8,
   "id": "72aa3a4c-99aa-4893-81de-1d7dbf89c86d",
   "metadata": {},
   "outputs": [
    {
     "data": {
      "text/plain": [
       "12"
      ]
     },
     "execution_count": 8,
     "metadata": {},
     "output_type": "execute_result"
    }
   ],
   "source": [
    "# access the data\n",
    "l[0]"
   ]
  },
  {
   "cell_type": "code",
   "execution_count": 9,
   "id": "d6e58a4e-4801-417d-a5e4-3dcdd93180f2",
   "metadata": {},
   "outputs": [
    {
     "data": {
      "text/plain": [
       "'adi'"
      ]
     },
     "execution_count": 9,
     "metadata": {},
     "output_type": "execute_result"
    }
   ],
   "source": [
    "l[5]"
   ]
  },
  {
   "cell_type": "code",
   "execution_count": 10,
   "id": "f3bf30dc-b74c-4d13-b090-0c46fd259e06",
   "metadata": {},
   "outputs": [
    {
     "data": {
      "text/plain": [
       "True"
      ]
     },
     "execution_count": 10,
     "metadata": {},
     "output_type": "execute_result"
    }
   ],
   "source": [
    "l[-1]"
   ]
  },
  {
   "cell_type": "code",
   "execution_count": 11,
   "id": "2e341485-80dd-46c8-a64b-128ab3fa3f62",
   "metadata": {},
   "outputs": [],
   "source": [
    "# list are mutable\n",
    "#change the value True from 57\n",
    "l[-1]=57"
   ]
  },
  {
   "cell_type": "code",
   "execution_count": 12,
   "id": "0923b8d7-1628-450d-8e13-3c13042b78bc",
   "metadata": {},
   "outputs": [
    {
     "name": "stdout",
     "output_type": "stream",
     "text": [
      "[12, 23, 45, 17, 12, 'adi', 57]\n"
     ]
    }
   ],
   "source": [
    "print(l)"
   ]
  },
  {
   "cell_type": "code",
   "execution_count": 13,
   "id": "3d078d44-e50f-4f64-b8e6-859576abb32b",
   "metadata": {},
   "outputs": [
    {
     "name": "stdout",
     "output_type": "stream",
     "text": [
      "[12, 23, 45, 17, 12, 10, 57]\n"
     ]
    }
   ],
   "source": [
    "l[-2]=10\n",
    "print(l)"
   ]
  },
  {
   "cell_type": "markdown",
   "id": "36d31584-09e8-4c2d-9e66-bc0c7959100c",
   "metadata": {},
   "source": [
    "### List Slicing"
   ]
  },
  {
   "cell_type": "code",
   "execution_count": 14,
   "id": "0386b6a1-d98d-466b-bcc9-15d5a39e393b",
   "metadata": {},
   "outputs": [
    {
     "data": {
      "text/plain": [
       "[12, 23, 45, 17, 12, 10, 57]"
      ]
     },
     "execution_count": 14,
     "metadata": {},
     "output_type": "execute_result"
    }
   ],
   "source": [
    "l"
   ]
  },
  {
   "cell_type": "code",
   "execution_count": 15,
   "id": "f8a2685f-28e2-45f6-a754-93071ab24c04",
   "metadata": {},
   "outputs": [
    {
     "data": {
      "text/plain": [
       "[45, 17, 12, 10]"
      ]
     },
     "execution_count": 15,
     "metadata": {},
     "output_type": "execute_result"
    }
   ],
   "source": [
    "l[2:6]"
   ]
  },
  {
   "cell_type": "code",
   "execution_count": 16,
   "id": "27f2561f-4327-4d7f-a8a4-4cafb0fe9a5c",
   "metadata": {},
   "outputs": [
    {
     "data": {
      "text/plain": [
       "[45, 17, 12, 10]"
      ]
     },
     "execution_count": 16,
     "metadata": {},
     "output_type": "execute_result"
    }
   ],
   "source": [
    "x=l[2:6]\n",
    "x"
   ]
  },
  {
   "cell_type": "code",
   "execution_count": 17,
   "id": "c0a81209-5a4a-4678-94bf-3d483ed4edf1",
   "metadata": {},
   "outputs": [
    {
     "data": {
      "text/plain": [
       "[45, 17, 12, 10, 57]"
      ]
     },
     "execution_count": 17,
     "metadata": {},
     "output_type": "execute_result"
    }
   ],
   "source": [
    "l[2:] # access the data till end so we empty the space list_name[start_point : end_point]"
   ]
  },
  {
   "cell_type": "code",
   "execution_count": 18,
   "id": "cef5e2dd-1db9-4477-b79d-88c09db25eb5",
   "metadata": {},
   "outputs": [
    {
     "data": {
      "text/plain": [
       "[12, 23, 45, 17, 12]"
      ]
     },
     "execution_count": 18,
     "metadata": {},
     "output_type": "execute_result"
    }
   ],
   "source": [
    "l[:-2]  # access the data starting list so we empty the space list_name[start_point : end_point]"
   ]
  },
  {
   "cell_type": "code",
   "execution_count": 19,
   "id": "3c61b5bc-814f-4d86-a715-f8092185860b",
   "metadata": {},
   "outputs": [
    {
     "data": {
      "text/plain": [
       "[23, 17]"
      ]
     },
     "execution_count": 19,
     "metadata": {},
     "output_type": "execute_result"
    }
   ],
   "source": [
    "l[1:-3:2]  # negative index is used for "
   ]
  },
  {
   "cell_type": "code",
   "execution_count": 20,
   "id": "a4ce8ea1-95ba-46cf-91b3-eee387592916",
   "metadata": {},
   "outputs": [
    {
     "data": {
      "text/plain": [
       "[12, 14, 16]"
      ]
     },
     "execution_count": 20,
     "metadata": {},
     "output_type": "execute_result"
    }
   ],
   "source": [
    "l=[12,13,14,15,16,17]\n",
    "l[:-1:2]"
   ]
  },
  {
   "cell_type": "code",
   "execution_count": 45,
   "id": "d144413e-cc41-450a-b3c1-79df6fd3f40c",
   "metadata": {},
   "outputs": [
    {
     "data": {
      "text/plain": [
       "[12, 23, 34, 45, 17, 12, 10, 57]"
      ]
     },
     "execution_count": 45,
     "metadata": {},
     "output_type": "execute_result"
    }
   ],
   "source": [
    "l=[12,23,34,45,17,12,10,57]\n",
    "l"
   ]
  },
  {
   "cell_type": "code",
   "execution_count": 46,
   "id": "3001a62f-7319-4ff4-ad96-3e50519273f1",
   "metadata": {},
   "outputs": [],
   "source": [
    "l[1:4]=[45,67,82]  # to change the multiple elements"
   ]
  },
  {
   "cell_type": "code",
   "execution_count": 47,
   "id": "46540106-1fe8-43f4-b532-f21c65410e34",
   "metadata": {},
   "outputs": [
    {
     "data": {
      "text/plain": [
       "[12, 45, 67, 82, 17, 12, 10, 57]"
      ]
     },
     "execution_count": 47,
     "metadata": {},
     "output_type": "execute_result"
    }
   ],
   "source": [
    "l"
   ]
  },
  {
   "cell_type": "code",
   "execution_count": 48,
   "id": "0fb71a5e-1090-4ade-ad24-f740c031648b",
   "metadata": {},
   "outputs": [],
   "source": [
    "# to delete the data\n",
    "del l[1]"
   ]
  },
  {
   "cell_type": "code",
   "execution_count": 49,
   "id": "1494ec60-b1a0-46f7-ba53-e12be7ff62a5",
   "metadata": {},
   "outputs": [
    {
     "data": {
      "text/plain": [
       "[12, 67, 82, 17, 12, 10, 57]"
      ]
     },
     "execution_count": 49,
     "metadata": {},
     "output_type": "execute_result"
    }
   ],
   "source": [
    "l"
   ]
  },
  {
   "cell_type": "code",
   "execution_count": 50,
   "id": "6813fa0e-508d-4fea-bd6d-b2e82e279d09",
   "metadata": {},
   "outputs": [],
   "source": [
    "new=[12,13,14]   # delete keyword is also used to delete whole variable"
   ]
  },
  {
   "cell_type": "code",
   "execution_count": 51,
   "id": "4846ae4f-930f-43f0-8151-13d2e078a843",
   "metadata": {},
   "outputs": [],
   "source": [
    "del new"
   ]
  },
  {
   "cell_type": "code",
   "execution_count": 52,
   "id": "657fd55c-3035-4535-a040-71e9ba16a9a2",
   "metadata": {},
   "outputs": [
    {
     "ename": "NameError",
     "evalue": "name 'new' is not defined",
     "output_type": "error",
     "traceback": [
      "\u001b[1;31m---------------------------------------------------------------------------\u001b[0m",
      "\u001b[1;31mNameError\u001b[0m                                 Traceback (most recent call last)",
      "Cell \u001b[1;32mIn[52], line 1\u001b[0m\n\u001b[1;32m----> 1\u001b[0m new\n",
      "\u001b[1;31mNameError\u001b[0m: name 'new' is not defined"
     ]
    }
   ],
   "source": [
    "new"
   ]
  },
  {
   "cell_type": "code",
   "execution_count": 53,
   "id": "8d406fd8-34be-4428-a516-5a6916ee7354",
   "metadata": {},
   "outputs": [
    {
     "data": {
      "text/plain": [
       "[12, 67, 82, 17, 12, 10, 57]"
      ]
     },
     "execution_count": 53,
     "metadata": {},
     "output_type": "execute_result"
    }
   ],
   "source": [
    "# in operartor ----> to check the particular element is present  in list or not\n",
    "l"
   ]
  },
  {
   "cell_type": "code",
   "execution_count": 54,
   "id": "c228b827-3fea-4ec9-a45f-02ab28399d7d",
   "metadata": {},
   "outputs": [
    {
     "data": {
      "text/plain": [
       "True"
      ]
     },
     "execution_count": 54,
     "metadata": {},
     "output_type": "execute_result"
    }
   ],
   "source": [
    "82 in l"
   ]
  },
  {
   "cell_type": "code",
   "execution_count": 55,
   "id": "3c3a3683-f6e5-4687-b029-db8e18f5177a",
   "metadata": {},
   "outputs": [
    {
     "data": {
      "text/plain": [
       "False"
      ]
     },
     "execution_count": 55,
     "metadata": {},
     "output_type": "execute_result"
    }
   ],
   "source": [
    "100 in l"
   ]
  },
  {
   "cell_type": "code",
   "execution_count": null,
   "id": "0f289707-0641-42b7-8352-49d18b7e5665",
   "metadata": {},
   "outputs": [],
   "source": [
    "#Arithmetic operator"
   ]
  },
  {
   "cell_type": "code",
   "execution_count": 57,
   "id": "5695e491-ae5c-4f5e-9518-fcffb778f956",
   "metadata": {},
   "outputs": [
    {
     "data": {
      "text/plain": [
       "[12, 67, 82, 17, 12, 10, 57]"
      ]
     },
     "execution_count": 57,
     "metadata": {},
     "output_type": "execute_result"
    }
   ],
   "source": [
    "l"
   ]
  },
  {
   "cell_type": "code",
   "execution_count": 58,
   "id": "dd5c63a5-4fe8-41be-b8b0-662c6b33ee7d",
   "metadata": {},
   "outputs": [
    {
     "data": {
      "text/plain": [
       "[12, 67, 82, 17, 12, 10, 57, 12, 67, 82, 17, 12, 10, 57]"
      ]
     },
     "execution_count": 58,
     "metadata": {},
     "output_type": "execute_result"
    }
   ],
   "source": [
    "l*2  # twice the list"
   ]
  },
  {
   "cell_type": "code",
   "execution_count": 59,
   "id": "d42cbc4d-fda2-4e9a-9999-7bc5dda3d7e9",
   "metadata": {},
   "outputs": [
    {
     "data": {
      "text/plain": [
       "[12, 67, 82, 17, 12, 10, 57, 12, 56]"
      ]
     },
     "execution_count": 59,
     "metadata": {},
     "output_type": "execute_result"
    }
   ],
   "source": [
    "l+[12,56]  # + is used to add elements in last of the list  \n",
    "# but orignal list is not changed"
   ]
  },
  {
   "cell_type": "code",
   "execution_count": 60,
   "id": "3d164405-9570-4965-a514-8eabd6df0b6d",
   "metadata": {},
   "outputs": [],
   "source": [
    "l1=[56,True,44,33]"
   ]
  },
  {
   "cell_type": "code",
   "execution_count": 61,
   "id": "e44ddfa1-0378-475e-bb41-c015e6e996dc",
   "metadata": {},
   "outputs": [
    {
     "data": {
      "text/plain": [
       "[12, 67, 82, 17, 12, 10, 57, 56, True, 44, 33]"
      ]
     },
     "execution_count": 61,
     "metadata": {},
     "output_type": "execute_result"
    }
   ],
   "source": [
    "l + l1"
   ]
  },
  {
   "cell_type": "code",
   "execution_count": 62,
   "id": "0f82fde0-9093-4b43-82ea-09d77d711e87",
   "metadata": {},
   "outputs": [
    {
     "data": {
      "text/plain": [
       "[12, 67, 82, 17, 12, 10, 57]"
      ]
     },
     "execution_count": 62,
     "metadata": {},
     "output_type": "execute_result"
    }
   ],
   "source": [
    "l"
   ]
  },
  {
   "cell_type": "markdown",
   "id": "83aaf01a-1794-45b1-9234-56c73f42d20e",
   "metadata": {},
   "source": [
    "#### Iterating over the list"
   ]
  },
  {
   "cell_type": "code",
   "execution_count": 63,
   "id": "9e7ca699-c942-45d7-80f0-1d45d9a62a80",
   "metadata": {},
   "outputs": [
    {
     "data": {
      "text/plain": [
       "[12, 67, 82, 17, 12, 10, 57]"
      ]
     },
     "execution_count": 63,
     "metadata": {},
     "output_type": "execute_result"
    }
   ],
   "source": [
    "l"
   ]
  },
  {
   "cell_type": "code",
   "execution_count": 66,
   "id": "d2fe3cfb-8533-432b-a925-02ca7c46db35",
   "metadata": {},
   "outputs": [
    {
     "name": "stdout",
     "output_type": "stream",
     "text": [
      "144 4489 6724 289 144 100 3249 "
     ]
    }
   ],
   "source": [
    "for n in l:\n",
    "    print(n*n,end=' ')"
   ]
  },
  {
   "cell_type": "code",
   "execution_count": 65,
   "id": "127aa49a-e68b-41a9-9ab2-fa07e42e2d77",
   "metadata": {},
   "outputs": [
    {
     "name": "stdout",
     "output_type": "stream",
     "text": [
      "67\n",
      "17\n",
      "57\n"
     ]
    }
   ],
   "source": [
    "# write a program to print the odd numbers from the list\n",
    "for n in l :\n",
    "    if n % 2 == 1:\n",
    "        print(n)"
   ]
  },
  {
   "cell_type": "markdown",
   "id": "32b3c6da-61c3-420c-b49e-a8b447ffc67a",
   "metadata": {},
   "source": [
    "#### List Comprehension"
   ]
  },
  {
   "cell_type": "code",
   "execution_count": 67,
   "id": "6f0a5ede-d2b3-49ad-a70f-3428a7cdd2e3",
   "metadata": {},
   "outputs": [
    {
     "data": {
      "text/plain": [
       "[12, 67, 82, 17, 12, 10, 57]"
      ]
     },
     "execution_count": 67,
     "metadata": {},
     "output_type": "execute_result"
    }
   ],
   "source": [
    "l"
   ]
  },
  {
   "cell_type": "code",
   "execution_count": 68,
   "id": "f0939826-fcf0-4fc5-ac41-4ff900e17e77",
   "metadata": {},
   "outputs": [],
   "source": [
    "# map"
   ]
  },
  {
   "cell_type": "code",
   "execution_count": 69,
   "id": "ec24941b-d6db-4c5e-a4cd-fe1e81dd6b9b",
   "metadata": {},
   "outputs": [],
   "source": [
    "a=[ n/2 for n in l]"
   ]
  },
  {
   "cell_type": "code",
   "execution_count": 70,
   "id": "b47474ce-cf9e-4296-a6cf-aef0f606b7df",
   "metadata": {},
   "outputs": [
    {
     "data": {
      "text/plain": [
       "[6.0, 33.5, 41.0, 8.5, 6.0, 5.0, 28.5]"
      ]
     },
     "execution_count": 70,
     "metadata": {},
     "output_type": "execute_result"
    }
   ],
   "source": [
    "a"
   ]
  },
  {
   "cell_type": "code",
   "execution_count": 75,
   "id": "ee573044-7d80-43cb-b62d-1540ed2d0cf0",
   "metadata": {},
   "outputs": [],
   "source": [
    "b=[n*n for n in l]   # to square the number in list"
   ]
  },
  {
   "cell_type": "code",
   "execution_count": 77,
   "id": "dcca6013-1c85-4f83-8b62-fefb51250d33",
   "metadata": {},
   "outputs": [
    {
     "data": {
      "text/plain": [
       "[144, 4489, 6724, 289, 144, 100, 3249]"
      ]
     },
     "execution_count": 77,
     "metadata": {},
     "output_type": "execute_result"
    }
   ],
   "source": [
    "b"
   ]
  },
  {
   "cell_type": "code",
   "execution_count": null,
   "id": "8c65a758-ab4b-4267-aa02-2e8d8dfa15d6",
   "metadata": {},
   "outputs": [],
   "source": [
    "# Filtering means picking some value on some condition"
   ]
  },
  {
   "cell_type": "code",
   "execution_count": 78,
   "id": "c47be06b-1362-4adf-8aee-ce0b3dde99d2",
   "metadata": {},
   "outputs": [
    {
     "data": {
      "text/plain": [
       "[12, 67, 82, 17, 12, 10, 57]"
      ]
     },
     "execution_count": 78,
     "metadata": {},
     "output_type": "execute_result"
    }
   ],
   "source": [
    "l"
   ]
  },
  {
   "cell_type": "code",
   "execution_count": 79,
   "id": "fcdffb31-99e8-434e-b509-d4e407de92ee",
   "metadata": {},
   "outputs": [],
   "source": [
    "c=[n for n in l if n > 40 ]"
   ]
  },
  {
   "cell_type": "code",
   "execution_count": 81,
   "id": "a5f661cb-262c-4528-8a22-4832405e22df",
   "metadata": {},
   "outputs": [
    {
     "data": {
      "text/plain": [
       "[67, 82, 57]"
      ]
     },
     "execution_count": 81,
     "metadata": {},
     "output_type": "execute_result"
    }
   ],
   "source": [
    "c"
   ]
  },
  {
   "cell_type": "code",
   "execution_count": 82,
   "id": "9fb25155-3146-462f-b082-e833163528f6",
   "metadata": {},
   "outputs": [],
   "source": [
    "d=[n for n in l if n % 2 ==1 ]  # for odd numbers"
   ]
  },
  {
   "cell_type": "code",
   "execution_count": 83,
   "id": "2d21e0c4-aa57-4056-9d11-ea2c38d97a32",
   "metadata": {},
   "outputs": [
    {
     "data": {
      "text/plain": [
       "[67, 17, 57]"
      ]
     },
     "execution_count": 83,
     "metadata": {},
     "output_type": "execute_result"
    }
   ],
   "source": [
    "d"
   ]
  },
  {
   "cell_type": "code",
   "execution_count": 84,
   "id": "761db562-ac9c-484b-adc2-12fb38c2d98f",
   "metadata": {},
   "outputs": [],
   "source": [
    "names=['Karan','Sakshi','Tanvi','Aryan','Tanvi','Tejal','Alpit','Tejas','Siddhi','Sayali']"
   ]
  },
  {
   "cell_type": "code",
   "execution_count": 92,
   "id": "a08e8581-e0dc-4960-8f7c-4b1063b1c4d6",
   "metadata": {},
   "outputs": [],
   "source": [
    "# list containing names starts with T\n",
    "f=[n for n in names if n.startswith('T')] "
   ]
  },
  {
   "cell_type": "code",
   "execution_count": 93,
   "id": "ac7fbb29-357e-4a33-9700-af83a0d28ebf",
   "metadata": {},
   "outputs": [
    {
     "data": {
      "text/plain": [
       "['Tanvi', 'Tanvi', 'Tejal', 'Tejas']"
      ]
     },
     "execution_count": 93,
     "metadata": {},
     "output_type": "execute_result"
    }
   ],
   "source": [
    "f"
   ]
  },
  {
   "cell_type": "code",
   "execution_count": 94,
   "id": "839700a3-1d7a-488b-b633-a63a3f6b33e3",
   "metadata": {},
   "outputs": [
    {
     "data": {
      "text/plain": [
       "['Karan',\n",
       " 'Sakshi',\n",
       " 'Tanvi',\n",
       " 'Aryan',\n",
       " 'Tanvi',\n",
       " 'Tejal',\n",
       " 'Alpit',\n",
       " 'Tejas',\n",
       " 'Siddhi',\n",
       " 'Sayali']"
      ]
     },
     "execution_count": 94,
     "metadata": {},
     "output_type": "execute_result"
    }
   ],
   "source": [
    "names"
   ]
  },
  {
   "cell_type": "code",
   "execution_count": 106,
   "id": "386a831a-8cc8-45a5-af88-e757d14d7c54",
   "metadata": {},
   "outputs": [],
   "source": [
    "q=[n.upper() for n in names ] "
   ]
  },
  {
   "cell_type": "code",
   "execution_count": 107,
   "id": "40f9d316-43e4-41e1-990d-c5a513aa10e0",
   "metadata": {},
   "outputs": [
    {
     "data": {
      "text/plain": [
       "['KARAN',\n",
       " 'SAKSHI',\n",
       " 'TANVI',\n",
       " 'ARYAN',\n",
       " 'TANVI',\n",
       " 'TEJAL',\n",
       " 'ALPIT',\n",
       " 'TEJAS',\n",
       " 'SIDDHI',\n",
       " 'SAYALI']"
      ]
     },
     "execution_count": 107,
     "metadata": {},
     "output_type": "execute_result"
    }
   ],
   "source": [
    "q"
   ]
  },
  {
   "cell_type": "markdown",
   "id": "497d901a-8237-497b-a797-23eacd15e731",
   "metadata": {},
   "source": [
    "##### Empty List"
   ]
  },
  {
   "cell_type": "code",
   "execution_count": 108,
   "id": "7033349a-bdaa-4f3c-aad7-1458dbb6d2bc",
   "metadata": {},
   "outputs": [],
   "source": [
    "e=[]"
   ]
  },
  {
   "cell_type": "code",
   "execution_count": 109,
   "id": "897c617a-a615-49be-8ef3-9f5d0379af9b",
   "metadata": {},
   "outputs": [
    {
     "data": {
      "text/plain": [
       "list"
      ]
     },
     "execution_count": 109,
     "metadata": {},
     "output_type": "execute_result"
    }
   ],
   "source": [
    "type(e)"
   ]
  },
  {
   "cell_type": "code",
   "execution_count": 110,
   "id": "e488f51e-e650-4d78-9397-2c6de6edaba2",
   "metadata": {},
   "outputs": [
    {
     "ename": "IndexError",
     "evalue": "list index out of range",
     "output_type": "error",
     "traceback": [
      "\u001b[1;31m---------------------------------------------------------------------------\u001b[0m",
      "\u001b[1;31mIndexError\u001b[0m                                Traceback (most recent call last)",
      "Cell \u001b[1;32mIn[110], line 1\u001b[0m\n\u001b[1;32m----> 1\u001b[0m e[\u001b[38;5;241m2\u001b[39m]\n",
      "\u001b[1;31mIndexError\u001b[0m: list index out of range"
     ]
    }
   ],
   "source": [
    "e[2]   # it gives the error  because the list is empty"
   ]
  },
  {
   "cell_type": "code",
   "execution_count": 112,
   "id": "a8c47e46-81ea-4334-9f2f-2cc87193a4ca",
   "metadata": {},
   "outputs": [],
   "source": [
    "e=e+[4]"
   ]
  },
  {
   "cell_type": "code",
   "execution_count": 113,
   "id": "a2b31b39-88b4-4fe3-b6df-6593ef22cab0",
   "metadata": {},
   "outputs": [
    {
     "data": {
      "text/plain": [
       "[4]"
      ]
     },
     "execution_count": 113,
     "metadata": {},
     "output_type": "execute_result"
    }
   ],
   "source": [
    "e"
   ]
  },
  {
   "cell_type": "markdown",
   "id": "b28bedbf-a7b4-4e95-9e6c-f0d8057cd30b",
   "metadata": {},
   "source": [
    "### List decomposition"
   ]
  },
  {
   "cell_type": "code",
   "execution_count": 116,
   "id": "71392637-805a-4efd-817d-acf165ac30d7",
   "metadata": {},
   "outputs": [],
   "source": [
    "l1=[34,56,78]"
   ]
  },
  {
   "cell_type": "code",
   "execution_count": 117,
   "id": "eea2b6dd-7016-4d3c-a025-d143e9388f1a",
   "metadata": {},
   "outputs": [],
   "source": [
    "x,y,z=l1"
   ]
  },
  {
   "cell_type": "code",
   "execution_count": 118,
   "id": "b1c68120-6b10-45c2-8b72-73b0b96448ba",
   "metadata": {},
   "outputs": [
    {
     "data": {
      "text/plain": [
       "34"
      ]
     },
     "execution_count": 118,
     "metadata": {},
     "output_type": "execute_result"
    }
   ],
   "source": [
    "x"
   ]
  },
  {
   "cell_type": "code",
   "execution_count": 119,
   "id": "bde88dfb-dca8-4ef5-87e3-4442dc805cf6",
   "metadata": {},
   "outputs": [
    {
     "data": {
      "text/plain": [
       "56"
      ]
     },
     "execution_count": 119,
     "metadata": {},
     "output_type": "execute_result"
    }
   ],
   "source": [
    "y"
   ]
  },
  {
   "cell_type": "code",
   "execution_count": 120,
   "id": "70cb61bb-c1a2-4d82-a82b-3743e2e8b374",
   "metadata": {},
   "outputs": [
    {
     "data": {
      "text/plain": [
       "78"
      ]
     },
     "execution_count": 120,
     "metadata": {},
     "output_type": "execute_result"
    }
   ],
   "source": [
    "z"
   ]
  },
  {
   "cell_type": "markdown",
   "id": "ad0d2822-26e8-4ab3-bdf1-6c1fff935f7a",
   "metadata": {},
   "source": [
    "### Functions"
   ]
  },
  {
   "cell_type": "code",
   "execution_count": 121,
   "id": "23f01a62-dc29-4520-9258-921c2717d6ee",
   "metadata": {},
   "outputs": [
    {
     "data": {
      "text/plain": [
       "7"
      ]
     },
     "execution_count": 121,
     "metadata": {},
     "output_type": "execute_result"
    }
   ],
   "source": [
    "len(l)"
   ]
  },
  {
   "cell_type": "code",
   "execution_count": 122,
   "id": "3d14e980-7aec-485e-acf6-4179c4452413",
   "metadata": {},
   "outputs": [
    {
     "data": {
      "text/plain": [
       "82"
      ]
     },
     "execution_count": 122,
     "metadata": {},
     "output_type": "execute_result"
    }
   ],
   "source": [
    "max(l)"
   ]
  },
  {
   "cell_type": "code",
   "execution_count": 123,
   "id": "635eb921-5bd7-4a4c-8742-3b97f01d06b7",
   "metadata": {},
   "outputs": [
    {
     "data": {
      "text/plain": [
       "10"
      ]
     },
     "execution_count": 123,
     "metadata": {},
     "output_type": "execute_result"
    }
   ],
   "source": [
    "min(l)"
   ]
  },
  {
   "cell_type": "code",
   "execution_count": 124,
   "id": "d388fcb7-74e9-4641-aaaf-91d14528956c",
   "metadata": {},
   "outputs": [
    {
     "data": {
      "text/plain": [
       "257"
      ]
     },
     "execution_count": 124,
     "metadata": {},
     "output_type": "execute_result"
    }
   ],
   "source": [
    "sum(l)"
   ]
  },
  {
   "cell_type": "code",
   "execution_count": 125,
   "id": "329c4910-02a5-4380-89e2-33bdcfbd14c7",
   "metadata": {},
   "outputs": [
    {
     "data": {
      "text/plain": [
       "[10, 12, 12, 17, 57, 67, 82]"
      ]
     },
     "execution_count": 125,
     "metadata": {},
     "output_type": "execute_result"
    }
   ],
   "source": [
    "sorted(l)  # to sort the list in ascending order"
   ]
  },
  {
   "cell_type": "code",
   "execution_count": 126,
   "id": "33c30248-6872-445f-9848-5f1765f26475",
   "metadata": {},
   "outputs": [
    {
     "data": {
      "text/plain": [
       "[82, 67, 57, 17, 12, 12, 10]"
      ]
     },
     "execution_count": 126,
     "metadata": {},
     "output_type": "execute_result"
    }
   ],
   "source": [
    "sorted(l,reverse=True)  # to sort the list in descending order\n",
    "# why here is true because decending order  ki value True hai"
   ]
  },
  {
   "cell_type": "code",
   "execution_count": 128,
   "id": "872a8b2c-f9ce-4d21-b5d3-26d0e04920ec",
   "metadata": {},
   "outputs": [],
   "source": [
    "name='Aditya'"
   ]
  },
  {
   "cell_type": "code",
   "execution_count": 129,
   "id": "3c95f9d3-f600-4886-8f82-d2593ce68afd",
   "metadata": {},
   "outputs": [
    {
     "data": {
      "text/plain": [
       "['A', 'd', 'i', 't', 'y', 'a']"
      ]
     },
     "execution_count": 129,
     "metadata": {},
     "output_type": "execute_result"
    }
   ],
   "source": [
    "list(name)"
   ]
  },
  {
   "cell_type": "markdown",
   "id": "95a9456a-7366-4547-86f0-cab70d95d54f",
   "metadata": {},
   "source": [
    "### Methods on list"
   ]
  },
  {
   "cell_type": "code",
   "execution_count": 132,
   "id": "134e8eee-316a-418c-ad05-e383dd0e484c",
   "metadata": {},
   "outputs": [],
   "source": [
    "l.append(100)  # to adding element at the end"
   ]
  },
  {
   "cell_type": "code",
   "execution_count": 131,
   "id": "a85fde44-462f-4f04-bc25-20f51ff4a92d",
   "metadata": {},
   "outputs": [
    {
     "data": {
      "text/plain": [
       "[12, 67, 82, 17, 12, 10, 57, 100]"
      ]
     },
     "execution_count": 131,
     "metadata": {},
     "output_type": "execute_result"
    }
   ],
   "source": [
    "l   # here list wil be changed"
   ]
  },
  {
   "cell_type": "code",
   "execution_count": null,
   "id": "d1c7d095-07e0-4571-808e-306283be30aa",
   "metadata": {},
   "outputs": [],
   "source": [
    "# append and extend\n"
   ]
  },
  {
   "cell_type": "code",
   "execution_count": 180,
   "id": "50531b60-d8c3-4e2b-a134-e585dec27443",
   "metadata": {},
   "outputs": [],
   "source": [
    "x=[12,23,34]\n",
    "y=[12,23,34]"
   ]
  },
  {
   "cell_type": "code",
   "execution_count": 181,
   "id": "e88e0e01-72ff-4000-846c-3ac8891a1642",
   "metadata": {},
   "outputs": [],
   "source": [
    "x.append([11,22])\n",
    "y.extend([11,22])"
   ]
  },
  {
   "cell_type": "code",
   "execution_count": 182,
   "id": "2b342f3b-674c-4545-a915-edd581a7537e",
   "metadata": {},
   "outputs": [
    {
     "name": "stdout",
     "output_type": "stream",
     "text": [
      "[12, 23, 34, [11, 22]]\n",
      "[12, 23, 34, 11, 22]\n"
     ]
    }
   ],
   "source": [
    "print(x)\n",
    "print(y)"
   ]
  },
  {
   "cell_type": "code",
   "execution_count": 169,
   "id": "98d7dc3a-5ad1-46d9-b369-5924f28a2a4f",
   "metadata": {},
   "outputs": [
    {
     "data": {
      "text/plain": [
       "[11, 22]"
      ]
     },
     "execution_count": 169,
     "metadata": {},
     "output_type": "execute_result"
    }
   ],
   "source": [
    "x[-1]"
   ]
  },
  {
   "cell_type": "code",
   "execution_count": 177,
   "id": "1dc6f5e8-f165-4e78-900e-f70c20100d51",
   "metadata": {},
   "outputs": [
    {
     "data": {
      "text/plain": [
       "22"
      ]
     },
     "execution_count": 177,
     "metadata": {},
     "output_type": "execute_result"
    }
   ],
   "source": [
    "x[-1][1]"
   ]
  },
  {
   "cell_type": "code",
   "execution_count": 144,
   "id": "17c08318-d6b0-4e71-86aa-5f1dc602920c",
   "metadata": {},
   "outputs": [
    {
     "data": {
      "text/plain": [
       "[12, 67, 82, 17, 12, 10, 57, 100, 100]"
      ]
     },
     "execution_count": 144,
     "metadata": {},
     "output_type": "execute_result"
    }
   ],
   "source": [
    "# insert\n",
    "l"
   ]
  },
  {
   "cell_type": "code",
   "execution_count": 145,
   "id": "60f97b8e-3e6c-4c91-9c6f-6b7bd60dfe80",
   "metadata": {},
   "outputs": [],
   "source": [
    "l.insert(2,78)"
   ]
  },
  {
   "cell_type": "code",
   "execution_count": 146,
   "id": "1874604e-200f-449e-a9dd-a3fc643f8de5",
   "metadata": {},
   "outputs": [
    {
     "data": {
      "text/plain": [
       "[12, 67, 78, 82, 17, 12, 10, 57, 100, 100]"
      ]
     },
     "execution_count": 146,
     "metadata": {},
     "output_type": "execute_result"
    }
   ],
   "source": [
    "l"
   ]
  },
  {
   "cell_type": "code",
   "execution_count": 154,
   "id": "e5e6233d-ea65-41a4-a798-3af5e59eb8d3",
   "metadata": {},
   "outputs": [],
   "source": [
    "# remove\n",
    "l.remove(78)"
   ]
  },
  {
   "cell_type": "code",
   "execution_count": 155,
   "id": "5ef893af-40ab-4c67-9e60-40a543e38c28",
   "metadata": {},
   "outputs": [
    {
     "data": {
      "text/plain": [
       "[12, 67, 82, 17, 12, 10, 57, 100, 100]"
      ]
     },
     "execution_count": 155,
     "metadata": {},
     "output_type": "execute_result"
    }
   ],
   "source": [
    "l"
   ]
  },
  {
   "cell_type": "code",
   "execution_count": 156,
   "id": "c9d31f1d-c014-4515-b0f4-296b77073174",
   "metadata": {},
   "outputs": [
    {
     "data": {
      "text/plain": [
       "6"
      ]
     },
     "execution_count": 156,
     "metadata": {},
     "output_type": "execute_result"
    }
   ],
   "source": [
    "l.index(57)  # t"
   ]
  },
  {
   "cell_type": "code",
   "execution_count": 157,
   "id": "f331aeda-ddf0-4aa2-9cf4-45ce7f18c058",
   "metadata": {},
   "outputs": [
    {
     "data": {
      "text/plain": [
       "2"
      ]
     },
     "execution_count": 157,
     "metadata": {},
     "output_type": "execute_result"
    }
   ],
   "source": [
    "l.count(12)  # to check the how many times the  12 will be repeated"
   ]
  },
  {
   "cell_type": "code",
   "execution_count": 173,
   "id": "9100ed77-88b9-42fc-946d-dd3f8c8c8c59",
   "metadata": {},
   "outputs": [
    {
     "data": {
      "text/plain": [
       "100"
      ]
     },
     "execution_count": 173,
     "metadata": {},
     "output_type": "execute_result"
    }
   ],
   "source": [
    "# delete/ pop\n",
    "l.pop()"
   ]
  },
  {
   "cell_type": "code",
   "execution_count": 174,
   "id": "d458ed21-7b81-4e01-9d67-3960b8bddf82",
   "metadata": {},
   "outputs": [
    {
     "data": {
      "text/plain": [
       "[12, 67, 82, 17, 12, 10, 57, 100]"
      ]
     },
     "execution_count": 174,
     "metadata": {},
     "output_type": "execute_result"
    }
   ],
   "source": [
    "l"
   ]
  },
  {
   "cell_type": "code",
   "execution_count": 175,
   "id": "42340d80-cafb-4181-90a5-f9ce76b47198",
   "metadata": {},
   "outputs": [
    {
     "data": {
      "text/plain": [
       "57"
      ]
     },
     "execution_count": 175,
     "metadata": {},
     "output_type": "execute_result"
    }
   ],
   "source": [
    "l.pop(-2)"
   ]
  },
  {
   "cell_type": "code",
   "execution_count": 176,
   "id": "36125cd0-16e0-44a0-af03-57be209b7267",
   "metadata": {},
   "outputs": [
    {
     "data": {
      "text/plain": [
       "[12, 67, 82, 17, 12, 10, 100]"
      ]
     },
     "execution_count": 176,
     "metadata": {},
     "output_type": "execute_result"
    }
   ],
   "source": [
    "l"
   ]
  },
  {
   "cell_type": "code",
   "execution_count": 183,
   "id": "6bd692d1-c4f3-428f-b399-d740b8575854",
   "metadata": {},
   "outputs": [],
   "source": [
    "l.reverse()"
   ]
  },
  {
   "cell_type": "code",
   "execution_count": 184,
   "id": "ff31fe7d-30e0-48dc-908f-1fbe8fe4c849",
   "metadata": {},
   "outputs": [
    {
     "data": {
      "text/plain": [
       "[100, 10, 12, 17, 82, 67, 12]"
      ]
     },
     "execution_count": 184,
     "metadata": {},
     "output_type": "execute_result"
    }
   ],
   "source": [
    "l"
   ]
  },
  {
   "cell_type": "code",
   "execution_count": 187,
   "id": "ac6e7915-9e8f-470d-9c7c-8509212fa8ca",
   "metadata": {},
   "outputs": [],
   "source": [
    "l.sort(reverse=True)"
   ]
  },
  {
   "cell_type": "code",
   "execution_count": 188,
   "id": "3ba45864-6caa-4aee-97db-9e3d9bf62825",
   "metadata": {},
   "outputs": [
    {
     "data": {
      "text/plain": [
       "[100, 82, 67, 17, 12, 12, 10]"
      ]
     },
     "execution_count": 188,
     "metadata": {},
     "output_type": "execute_result"
    }
   ],
   "source": [
    "l"
   ]
  },
  {
   "cell_type": "code",
   "execution_count": 189,
   "id": "76c94c66-2bf3-4e2f-be6d-6c79029eec73",
   "metadata": {},
   "outputs": [
    {
     "data": {
      "text/plain": [
       "[100, 82, 67, 17, 12, 12, 10]"
      ]
     },
     "execution_count": 189,
     "metadata": {},
     "output_type": "execute_result"
    }
   ],
   "source": [
    "# iterate over a list and print index and the value\n",
    "l"
   ]
  },
  {
   "cell_type": "code",
   "execution_count": 193,
   "id": "a1b798ba-81a6-4175-9ce6-553bb52deaa7",
   "metadata": {},
   "outputs": [
    {
     "name": "stdout",
     "output_type": "stream",
     "text": [
      "0 100\n",
      "1 82\n",
      "2 67\n",
      "3 17\n",
      "4 12\n",
      "4 12\n",
      "6 10\n"
     ]
    }
   ],
   "source": [
    "for n in l:\n",
    "    print(l.index(n),n)   # in this code the problem is if there is similar value in list then its count once "
   ]
  },
  {
   "cell_type": "code",
   "execution_count": 196,
   "id": "3fbdd3d8-a6ee-4f79-919f-b383384cc76e",
   "metadata": {},
   "outputs": [
    {
     "name": "stdout",
     "output_type": "stream",
     "text": [
      "1 100\n",
      "2 82\n",
      "3 67\n",
      "4 17\n",
      "5 12\n",
      "6 12\n",
      "7 10\n"
     ]
    }
   ],
   "source": [
    "# enumrate\n",
    "for index,n in enumerate(l,1):   # here we starting from index 1\n",
    "    print(index,n)\n"
   ]
  },
  {
   "cell_type": "markdown",
   "id": "a0558822-1467-420c-8e9b-f26a170a348d",
   "metadata": {},
   "source": [
    "#### Shallow Copy"
   ]
  },
  {
   "cell_type": "code",
   "execution_count": 197,
   "id": "351b7001-9893-4447-9625-0e412bfedea5",
   "metadata": {},
   "outputs": [],
   "source": [
    "l1=[34,45,56]"
   ]
  },
  {
   "cell_type": "code",
   "execution_count": 198,
   "id": "8a1c84d8-daf9-485d-868a-f3877d5c1417",
   "metadata": {},
   "outputs": [],
   "source": [
    "l2=l1"
   ]
  },
  {
   "cell_type": "code",
   "execution_count": 199,
   "id": "53d312ef-168d-4e81-80e1-9083b9a9420b",
   "metadata": {},
   "outputs": [
    {
     "data": {
      "text/plain": [
       "[34, 45, 56]"
      ]
     },
     "execution_count": 199,
     "metadata": {},
     "output_type": "execute_result"
    }
   ],
   "source": [
    "l2"
   ]
  },
  {
   "cell_type": "code",
   "execution_count": 200,
   "id": "b9614908-6239-43ac-8fe9-37e8e54650b9",
   "metadata": {},
   "outputs": [],
   "source": [
    "l1.append(2)"
   ]
  },
  {
   "cell_type": "code",
   "execution_count": 207,
   "id": "341e3423-a8e0-4af9-8e88-d114328469e8",
   "metadata": {},
   "outputs": [
    {
     "data": {
      "text/plain": [
       "[34, 45, 56, 2]"
      ]
     },
     "execution_count": 207,
     "metadata": {},
     "output_type": "execute_result"
    }
   ],
   "source": [
    "l1"
   ]
  },
  {
   "cell_type": "code",
   "execution_count": 201,
   "id": "a05640f4-ae7d-44c4-a63a-970f982e821c",
   "metadata": {},
   "outputs": [
    {
     "data": {
      "text/plain": [
       "[34, 45, 56, 2]"
      ]
     },
     "execution_count": 201,
     "metadata": {},
     "output_type": "execute_result"
    }
   ],
   "source": [
    "l2  # l2 is changed because its makes the reference "
   ]
  },
  {
   "cell_type": "code",
   "execution_count": 202,
   "id": "cf11905e-7dcf-4ecf-ad6a-326e03bf5430",
   "metadata": {},
   "outputs": [],
   "source": [
    "l3=l1.copy()"
   ]
  },
  {
   "cell_type": "code",
   "execution_count": 203,
   "id": "07dc4ce3-dd55-49f8-bd0f-c416bc5b0ff2",
   "metadata": {},
   "outputs": [
    {
     "data": {
      "text/plain": [
       "[34, 45, 56, 2]"
      ]
     },
     "execution_count": 203,
     "metadata": {},
     "output_type": "execute_result"
    }
   ],
   "source": [
    "l3"
   ]
  },
  {
   "cell_type": "code",
   "execution_count": 208,
   "id": "6a5ae5bf-7a68-4fb0-8406-092464c7bd6c",
   "metadata": {},
   "outputs": [],
   "source": [
    "l1.append(1000)"
   ]
  },
  {
   "cell_type": "code",
   "execution_count": 211,
   "id": "0c22ab81-6dc9-4b0e-a1dd-b0c951aa4f1f",
   "metadata": {},
   "outputs": [
    {
     "data": {
      "text/plain": [
       "[34, 45, 56, 2, 1000]"
      ]
     },
     "execution_count": 211,
     "metadata": {},
     "output_type": "execute_result"
    }
   ],
   "source": [
    "l1"
   ]
  },
  {
   "cell_type": "code",
   "execution_count": 212,
   "id": "6b728e02-d5f4-4985-b0d6-bf3b9017ce1a",
   "metadata": {},
   "outputs": [
    {
     "data": {
      "text/plain": [
       "[34, 45, 56, 2, 1000]"
      ]
     },
     "execution_count": 212,
     "metadata": {},
     "output_type": "execute_result"
    }
   ],
   "source": [
    "l2"
   ]
  },
  {
   "cell_type": "code",
   "execution_count": 213,
   "id": "e4968ca2-65ef-4f7f-9896-3bd4bbd6c2b9",
   "metadata": {},
   "outputs": [
    {
     "data": {
      "text/plain": [
       "[34, 45, 56, 2]"
      ]
     },
     "execution_count": 213,
     "metadata": {},
     "output_type": "execute_result"
    }
   ],
   "source": [
    "l3"
   ]
  },
  {
   "cell_type": "code",
   "execution_count": 214,
   "id": "0f8eb354-7ff5-4741-86e1-5fb4920b5ea0",
   "metadata": {},
   "outputs": [],
   "source": [
    "l1.append(200)"
   ]
  },
  {
   "cell_type": "code",
   "execution_count": 215,
   "id": "851366a8-f621-463c-9177-469a43c6a396",
   "metadata": {},
   "outputs": [
    {
     "data": {
      "text/plain": [
       "[34, 45, 56, 2, 1000, 200]"
      ]
     },
     "execution_count": 215,
     "metadata": {},
     "output_type": "execute_result"
    }
   ],
   "source": [
    "l1"
   ]
  },
  {
   "cell_type": "code",
   "execution_count": 216,
   "id": "7980ce7f-a8d8-478b-a1c5-1c74caf45715",
   "metadata": {},
   "outputs": [
    {
     "data": {
      "text/plain": [
       "[34, 45, 56, 2]"
      ]
     },
     "execution_count": 216,
     "metadata": {},
     "output_type": "execute_result"
    }
   ],
   "source": [
    "l3"
   ]
  },
  {
   "cell_type": "code",
   "execution_count": 217,
   "id": "6640f27b-e72c-432c-8752-50e9f8494149",
   "metadata": {},
   "outputs": [
    {
     "ename": "AttributeError",
     "evalue": "'int' object has no attribute 'append'",
     "output_type": "error",
     "traceback": [
      "\u001b[1;31m---------------------------------------------------------------------------\u001b[0m",
      "\u001b[1;31mAttributeError\u001b[0m                            Traceback (most recent call last)",
      "Cell \u001b[1;32mIn[217], line 1\u001b[0m\n\u001b[1;32m----> 1\u001b[0m l1[\u001b[38;5;241m-\u001b[39m\u001b[38;5;241m2\u001b[39m]\u001b[38;5;241m.\u001b[39mappend(\u001b[38;5;241m3000\u001b[39m)\n",
      "\u001b[1;31mAttributeError\u001b[0m: 'int' object has no attribute 'append'"
     ]
    }
   ],
   "source": [
    "l1[-2].append(3000)"
   ]
  },
  {
   "cell_type": "code",
   "execution_count": 219,
   "id": "085b1a11-7cb3-4d63-8a4a-29bd19e3bf32",
   "metadata": {},
   "outputs": [
    {
     "data": {
      "text/plain": [
       "['__add__',\n",
       " '__class__',\n",
       " '__class_getitem__',\n",
       " '__contains__',\n",
       " '__delattr__',\n",
       " '__delitem__',\n",
       " '__dir__',\n",
       " '__doc__',\n",
       " '__eq__',\n",
       " '__format__',\n",
       " '__ge__',\n",
       " '__getattribute__',\n",
       " '__getitem__',\n",
       " '__getstate__',\n",
       " '__gt__',\n",
       " '__hash__',\n",
       " '__iadd__',\n",
       " '__imul__',\n",
       " '__init__',\n",
       " '__init_subclass__',\n",
       " '__iter__',\n",
       " '__le__',\n",
       " '__len__',\n",
       " '__lt__',\n",
       " '__mul__',\n",
       " '__ne__',\n",
       " '__new__',\n",
       " '__reduce__',\n",
       " '__reduce_ex__',\n",
       " '__repr__',\n",
       " '__reversed__',\n",
       " '__rmul__',\n",
       " '__setattr__',\n",
       " '__setitem__',\n",
       " '__sizeof__',\n",
       " '__str__',\n",
       " '__subclasshook__',\n",
       " 'append',\n",
       " 'clear',\n",
       " 'copy',\n",
       " 'count',\n",
       " 'extend',\n",
       " 'index',\n",
       " 'insert',\n",
       " 'pop',\n",
       " 'remove',\n",
       " 'reverse',\n",
       " 'sort']"
      ]
     },
     "execution_count": 219,
     "metadata": {},
     "output_type": "execute_result"
    }
   ],
   "source": [
    "dir(list)"
   ]
  },
  {
   "cell_type": "code",
   "execution_count": 220,
   "id": "26ed118f-f26e-4b8e-a71a-7100cfcf0ba6",
   "metadata": {},
   "outputs": [
    {
     "name": "stdout",
     "output_type": "stream",
     "text": [
      "Help on class list in module builtins:\n",
      "\n",
      "class list(object)\n",
      " |  list(iterable=(), /)\n",
      " |  \n",
      " |  Built-in mutable sequence.\n",
      " |  \n",
      " |  If no argument is given, the constructor creates a new empty list.\n",
      " |  The argument must be an iterable if specified.\n",
      " |  \n",
      " |  Methods defined here:\n",
      " |  \n",
      " |  __add__(self, value, /)\n",
      " |      Return self+value.\n",
      " |  \n",
      " |  __contains__(self, key, /)\n",
      " |      Return key in self.\n",
      " |  \n",
      " |  __delitem__(self, key, /)\n",
      " |      Delete self[key].\n",
      " |  \n",
      " |  __eq__(self, value, /)\n",
      " |      Return self==value.\n",
      " |  \n",
      " |  __ge__(self, value, /)\n",
      " |      Return self>=value.\n",
      " |  \n",
      " |  __getattribute__(self, name, /)\n",
      " |      Return getattr(self, name).\n",
      " |  \n",
      " |  __getitem__(...)\n",
      " |      x.__getitem__(y) <==> x[y]\n",
      " |  \n",
      " |  __gt__(self, value, /)\n",
      " |      Return self>value.\n",
      " |  \n",
      " |  __iadd__(self, value, /)\n",
      " |      Implement self+=value.\n",
      " |  \n",
      " |  __imul__(self, value, /)\n",
      " |      Implement self*=value.\n",
      " |  \n",
      " |  __init__(self, /, *args, **kwargs)\n",
      " |      Initialize self.  See help(type(self)) for accurate signature.\n",
      " |  \n",
      " |  __iter__(self, /)\n",
      " |      Implement iter(self).\n",
      " |  \n",
      " |  __le__(self, value, /)\n",
      " |      Return self<=value.\n",
      " |  \n",
      " |  __len__(self, /)\n",
      " |      Return len(self).\n",
      " |  \n",
      " |  __lt__(self, value, /)\n",
      " |      Return self<value.\n",
      " |  \n",
      " |  __mul__(self, value, /)\n",
      " |      Return self*value.\n",
      " |  \n",
      " |  __ne__(self, value, /)\n",
      " |      Return self!=value.\n",
      " |  \n",
      " |  __repr__(self, /)\n",
      " |      Return repr(self).\n",
      " |  \n",
      " |  __reversed__(self, /)\n",
      " |      Return a reverse iterator over the list.\n",
      " |  \n",
      " |  __rmul__(self, value, /)\n",
      " |      Return value*self.\n",
      " |  \n",
      " |  __setitem__(self, key, value, /)\n",
      " |      Set self[key] to value.\n",
      " |  \n",
      " |  __sizeof__(self, /)\n",
      " |      Return the size of the list in memory, in bytes.\n",
      " |  \n",
      " |  append(self, object, /)\n",
      " |      Append object to the end of the list.\n",
      " |  \n",
      " |  clear(self, /)\n",
      " |      Remove all items from list.\n",
      " |  \n",
      " |  copy(self, /)\n",
      " |      Return a shallow copy of the list.\n",
      " |  \n",
      " |  count(self, value, /)\n",
      " |      Return number of occurrences of value.\n",
      " |  \n",
      " |  extend(self, iterable, /)\n",
      " |      Extend list by appending elements from the iterable.\n",
      " |  \n",
      " |  index(self, value, start=0, stop=9223372036854775807, /)\n",
      " |      Return first index of value.\n",
      " |      \n",
      " |      Raises ValueError if the value is not present.\n",
      " |  \n",
      " |  insert(self, index, object, /)\n",
      " |      Insert object before index.\n",
      " |  \n",
      " |  pop(self, index=-1, /)\n",
      " |      Remove and return item at index (default last).\n",
      " |      \n",
      " |      Raises IndexError if list is empty or index is out of range.\n",
      " |  \n",
      " |  remove(self, value, /)\n",
      " |      Remove first occurrence of value.\n",
      " |      \n",
      " |      Raises ValueError if the value is not present.\n",
      " |  \n",
      " |  reverse(self, /)\n",
      " |      Reverse *IN PLACE*.\n",
      " |  \n",
      " |  sort(self, /, *, key=None, reverse=False)\n",
      " |      Sort the list in ascending order and return None.\n",
      " |      \n",
      " |      The sort is in-place (i.e. the list itself is modified) and stable (i.e. the\n",
      " |      order of two equal elements is maintained).\n",
      " |      \n",
      " |      If a key function is given, apply it once to each list item and sort them,\n",
      " |      ascending or descending, according to their function values.\n",
      " |      \n",
      " |      The reverse flag can be set to sort in descending order.\n",
      " |  \n",
      " |  ----------------------------------------------------------------------\n",
      " |  Class methods defined here:\n",
      " |  \n",
      " |  __class_getitem__(...) from builtins.type\n",
      " |      See PEP 585\n",
      " |  \n",
      " |  ----------------------------------------------------------------------\n",
      " |  Static methods defined here:\n",
      " |  \n",
      " |  __new__(*args, **kwargs) from builtins.type\n",
      " |      Create and return a new object.  See help(type) for accurate signature.\n",
      " |  \n",
      " |  ----------------------------------------------------------------------\n",
      " |  Data and other attributes defined here:\n",
      " |  \n",
      " |  __hash__ = None\n",
      "\n"
     ]
    }
   ],
   "source": [
    "help(list)"
   ]
  },
  {
   "cell_type": "markdown",
   "id": "b84a23b3-4d3f-48f0-9433-91141b7cb299",
   "metadata": {},
   "source": [
    "### Tuple"
   ]
  },
  {
   "cell_type": "code",
   "execution_count": 227,
   "id": "9a7b8589-420d-467b-80a9-c8cb16f90310",
   "metadata": {},
   "outputs": [],
   "source": [
    "t=(23,45,67,12,78,23,'tanvi')"
   ]
  },
  {
   "cell_type": "code",
   "execution_count": 228,
   "id": "15f875d2-d40e-4b8b-9c9c-220e351b7c0f",
   "metadata": {},
   "outputs": [
    {
     "data": {
      "text/plain": [
       "(23, 45, 67, 12, 78, 23, 'tanvi')"
      ]
     },
     "execution_count": 228,
     "metadata": {},
     "output_type": "execute_result"
    }
   ],
   "source": [
    "t"
   ]
  },
  {
   "cell_type": "code",
   "execution_count": 229,
   "id": "6a071b43-df73-4684-a7b2-118a14a540cc",
   "metadata": {},
   "outputs": [
    {
     "data": {
      "text/plain": [
       "tuple"
      ]
     },
     "execution_count": 229,
     "metadata": {},
     "output_type": "execute_result"
    }
   ],
   "source": [
    "type(t)"
   ]
  },
  {
   "cell_type": "code",
   "execution_count": 232,
   "id": "61bed39c-8e8f-4863-8d6a-8ca6ceed7716",
   "metadata": {},
   "outputs": [
    {
     "data": {
      "text/plain": [
       "(23, 45, 67, 12, 78, 23, 'tanvi')"
      ]
     },
     "execution_count": 232,
     "metadata": {},
     "output_type": "execute_result"
    }
   ],
   "source": [
    "t"
   ]
  },
  {
   "cell_type": "code",
   "execution_count": 233,
   "id": "879c4f80-3e18-4217-9142-1abf939259cb",
   "metadata": {},
   "outputs": [
    {
     "data": {
      "text/plain": [
       "45"
      ]
     },
     "execution_count": 233,
     "metadata": {},
     "output_type": "execute_result"
    }
   ],
   "source": [
    "t[1]"
   ]
  },
  {
   "cell_type": "code",
   "execution_count": 234,
   "id": "7cbccf21-45dd-4576-9f66-b458faad22a7",
   "metadata": {},
   "outputs": [
    {
     "ename": "TypeError",
     "evalue": "'tuple' object does not support item assignment",
     "output_type": "error",
     "traceback": [
      "\u001b[1;31m---------------------------------------------------------------------------\u001b[0m",
      "\u001b[1;31mTypeError\u001b[0m                                 Traceback (most recent call last)",
      "Cell \u001b[1;32mIn[234], line 1\u001b[0m\n\u001b[1;32m----> 1\u001b[0m t[\u001b[38;5;241m1\u001b[39m]\u001b[38;5;241m=\u001b[39m\u001b[38;5;241m30\u001b[39m\n",
      "\u001b[1;31mTypeError\u001b[0m: 'tuple' object does not support item assignment"
     ]
    }
   ],
   "source": [
    "t[1]=30"
   ]
  },
  {
   "cell_type": "code",
   "execution_count": 235,
   "id": "f256c255-08bc-4020-8620-febe21de89fc",
   "metadata": {},
   "outputs": [
    {
     "name": "stdout",
     "output_type": "stream",
     "text": [
      "Help on class tuple in module builtins:\n",
      "\n",
      "class tuple(object)\n",
      " |  tuple(iterable=(), /)\n",
      " |  \n",
      " |  Built-in immutable sequence.\n",
      " |  \n",
      " |  If no argument is given, the constructor returns an empty tuple.\n",
      " |  If iterable is specified the tuple is initialized from iterable's items.\n",
      " |  \n",
      " |  If the argument is a tuple, the return value is the same object.\n",
      " |  \n",
      " |  Built-in subclasses:\n",
      " |      asyncgen_hooks\n",
      " |      UnraisableHookArgs\n",
      " |  \n",
      " |  Methods defined here:\n",
      " |  \n",
      " |  __add__(self, value, /)\n",
      " |      Return self+value.\n",
      " |  \n",
      " |  __contains__(self, key, /)\n",
      " |      Return key in self.\n",
      " |  \n",
      " |  __eq__(self, value, /)\n",
      " |      Return self==value.\n",
      " |  \n",
      " |  __ge__(self, value, /)\n",
      " |      Return self>=value.\n",
      " |  \n",
      " |  __getattribute__(self, name, /)\n",
      " |      Return getattr(self, name).\n",
      " |  \n",
      " |  __getitem__(self, key, /)\n",
      " |      Return self[key].\n",
      " |  \n",
      " |  __getnewargs__(self, /)\n",
      " |  \n",
      " |  __gt__(self, value, /)\n",
      " |      Return self>value.\n",
      " |  \n",
      " |  __hash__(self, /)\n",
      " |      Return hash(self).\n",
      " |  \n",
      " |  __iter__(self, /)\n",
      " |      Implement iter(self).\n",
      " |  \n",
      " |  __le__(self, value, /)\n",
      " |      Return self<=value.\n",
      " |  \n",
      " |  __len__(self, /)\n",
      " |      Return len(self).\n",
      " |  \n",
      " |  __lt__(self, value, /)\n",
      " |      Return self<value.\n",
      " |  \n",
      " |  __mul__(self, value, /)\n",
      " |      Return self*value.\n",
      " |  \n",
      " |  __ne__(self, value, /)\n",
      " |      Return self!=value.\n",
      " |  \n",
      " |  __repr__(self, /)\n",
      " |      Return repr(self).\n",
      " |  \n",
      " |  __rmul__(self, value, /)\n",
      " |      Return value*self.\n",
      " |  \n",
      " |  count(self, value, /)\n",
      " |      Return number of occurrences of value.\n",
      " |  \n",
      " |  index(self, value, start=0, stop=9223372036854775807, /)\n",
      " |      Return first index of value.\n",
      " |      \n",
      " |      Raises ValueError if the value is not present.\n",
      " |  \n",
      " |  ----------------------------------------------------------------------\n",
      " |  Class methods defined here:\n",
      " |  \n",
      " |  __class_getitem__(...) from builtins.type\n",
      " |      See PEP 585\n",
      " |  \n",
      " |  ----------------------------------------------------------------------\n",
      " |  Static methods defined here:\n",
      " |  \n",
      " |  __new__(*args, **kwargs) from builtins.type\n",
      " |      Create and return a new object.  See help(type) for accurate signature.\n",
      "\n"
     ]
    }
   ],
   "source": [
    "help(tuple)"
   ]
  },
  {
   "cell_type": "code",
   "execution_count": 238,
   "id": "c1192ee8-0f4c-4ad0-b896-b96ce980eadb",
   "metadata": {},
   "outputs": [],
   "source": [
    "m=list(t)"
   ]
  },
  {
   "cell_type": "code",
   "execution_count": 239,
   "id": "3cd460e7-965d-413b-ac93-931eb87074c1",
   "metadata": {},
   "outputs": [
    {
     "data": {
      "text/plain": [
       "[23, 45, 67, 12, 78, 23, 'tanvi']"
      ]
     },
     "execution_count": 239,
     "metadata": {},
     "output_type": "execute_result"
    }
   ],
   "source": [
    "m"
   ]
  },
  {
   "cell_type": "code",
   "execution_count": 241,
   "id": "8439775a-35d5-4b77-ae81-3ea5b5b492a5",
   "metadata": {},
   "outputs": [],
   "source": [
    "z1=tuple(m)"
   ]
  },
  {
   "cell_type": "code",
   "execution_count": 244,
   "id": "0d9efcc6-49c8-4e62-98f0-04c1857f8d5a",
   "metadata": {},
   "outputs": [
    {
     "data": {
      "text/plain": [
       "(23, 45, 67, 12, 78, 23, 'tanvi')"
      ]
     },
     "execution_count": 244,
     "metadata": {},
     "output_type": "execute_result"
    }
   ],
   "source": [
    "z1"
   ]
  },
  {
   "cell_type": "code",
   "execution_count": 245,
   "id": "5669e478-48a6-4b28-b204-32481068a914",
   "metadata": {},
   "outputs": [
    {
     "ename": "TypeError",
     "evalue": "'tuple' object doesn't support item deletion",
     "output_type": "error",
     "traceback": [
      "\u001b[1;31m---------------------------------------------------------------------------\u001b[0m",
      "\u001b[1;31mTypeError\u001b[0m                                 Traceback (most recent call last)",
      "Cell \u001b[1;32mIn[245], line 1\u001b[0m\n\u001b[1;32m----> 1\u001b[0m \u001b[38;5;28;01mdel\u001b[39;00m z1[\u001b[38;5;241m1\u001b[39m]\n",
      "\u001b[1;31mTypeError\u001b[0m: 'tuple' object doesn't support item deletion"
     ]
    }
   ],
   "source": [
    "del z1[1]"
   ]
  },
  {
   "cell_type": "markdown",
   "id": "9fa051e2-e3f9-4a7a-bc6f-6bf5c544bba5",
   "metadata": {},
   "source": [
    "#### Set"
   ]
  },
  {
   "cell_type": "code",
   "execution_count": 251,
   "id": "eb8a2710-f9c0-42f3-ab6f-b15b3d78ae25",
   "metadata": {},
   "outputs": [],
   "source": [
    "s={12,34,56,78,34,}"
   ]
  },
  {
   "cell_type": "code",
   "execution_count": 252,
   "id": "1c470e14-ed88-4150-b647-8267a49d5c7c",
   "metadata": {},
   "outputs": [
    {
     "data": {
      "text/plain": [
       "{12, 34, 56, 78}"
      ]
     },
     "execution_count": 252,
     "metadata": {},
     "output_type": "execute_result"
    }
   ],
   "source": [
    "s"
   ]
  },
  {
   "cell_type": "code",
   "execution_count": 253,
   "id": "b4cfa3b3-bb31-48ed-8fff-0e43537a36f7",
   "metadata": {},
   "outputs": [
    {
     "data": {
      "text/plain": [
       "set"
      ]
     },
     "execution_count": 253,
     "metadata": {},
     "output_type": "execute_result"
    }
   ],
   "source": [
    "type(s)"
   ]
  },
  {
   "cell_type": "code",
   "execution_count": 254,
   "id": "26db40af-053b-4cc3-a6c5-b77e3016d62e",
   "metadata": {},
   "outputs": [
    {
     "ename": "TypeError",
     "evalue": "'set' object is not subscriptable",
     "output_type": "error",
     "traceback": [
      "\u001b[1;31m---------------------------------------------------------------------------\u001b[0m",
      "\u001b[1;31mTypeError\u001b[0m                                 Traceback (most recent call last)",
      "Cell \u001b[1;32mIn[254], line 1\u001b[0m\n\u001b[1;32m----> 1\u001b[0m s[\u001b[38;5;241m2\u001b[39m]\n",
      "\u001b[1;31mTypeError\u001b[0m: 'set' object is not subscriptable"
     ]
    }
   ],
   "source": [
    "s[2]    # indexes are not present here  or unordered"
   ]
  },
  {
   "cell_type": "code",
   "execution_count": 255,
   "id": "0435141d-e6c3-4c00-aaf9-06cb8b1db958",
   "metadata": {},
   "outputs": [],
   "source": [
    "s.add(45)"
   ]
  },
  {
   "cell_type": "code",
   "execution_count": 256,
   "id": "fe173d6d-a924-447e-929d-48c614a6611e",
   "metadata": {},
   "outputs": [
    {
     "data": {
      "text/plain": [
       "{12, 34, 45, 56, 78}"
      ]
     },
     "execution_count": 256,
     "metadata": {},
     "output_type": "execute_result"
    }
   ],
   "source": [
    "s"
   ]
  },
  {
   "cell_type": "code",
   "execution_count": 257,
   "id": "29edc842-d669-4a73-a31d-007db56c5eae",
   "metadata": {},
   "outputs": [],
   "source": [
    "s.add('s')"
   ]
  },
  {
   "cell_type": "code",
   "execution_count": 258,
   "id": "cea96a54-2c2b-411b-9935-edb99e154c04",
   "metadata": {},
   "outputs": [
    {
     "data": {
      "text/plain": [
       "{12, 34, 45, 56, 78, 's'}"
      ]
     },
     "execution_count": 258,
     "metadata": {},
     "output_type": "execute_result"
    }
   ],
   "source": [
    "s"
   ]
  },
  {
   "cell_type": "code",
   "execution_count": 259,
   "id": "6f55a4bf-1c65-4613-97f4-6513eee7401e",
   "metadata": {},
   "outputs": [
    {
     "data": {
      "text/plain": [
       "frozenset({12, 34, 45, 56, 78, 's'})"
      ]
     },
     "execution_count": 259,
     "metadata": {},
     "output_type": "execute_result"
    }
   ],
   "source": [
    "s1=frozenset(s)\n",
    "s1   # we cannot add the value"
   ]
  },
  {
   "cell_type": "markdown",
   "id": "ab4dc8ef-6fcf-4c7b-9a7a-7f28a66d0841",
   "metadata": {},
   "source": [
    "#### Dictionary"
   ]
  },
  {
   "cell_type": "code",
   "execution_count": 265,
   "id": "dc6f9192-3daf-47c8-9971-e73861293ea0",
   "metadata": {},
   "outputs": [],
   "source": [
    "d={1:67,2:89,3:75,4:72,7:67}  # here key are index  key must be unique"
   ]
  },
  {
   "cell_type": "code",
   "execution_count": 266,
   "id": "4dc6aeec-83c0-4442-9367-191d595b1a80",
   "metadata": {},
   "outputs": [
    {
     "data": {
      "text/plain": [
       "{1: 67, 2: 89, 3: 75, 4: 72, 7: 67}"
      ]
     },
     "execution_count": 266,
     "metadata": {},
     "output_type": "execute_result"
    }
   ],
   "source": [
    "d"
   ]
  },
  {
   "cell_type": "code",
   "execution_count": 267,
   "id": "e15475de-f935-4a3e-a587-5b8e5919365a",
   "metadata": {},
   "outputs": [
    {
     "data": {
      "text/plain": [
       "67"
      ]
     },
     "execution_count": 267,
     "metadata": {},
     "output_type": "execute_result"
    }
   ],
   "source": [
    "d[7]"
   ]
  },
  {
   "cell_type": "code",
   "execution_count": 271,
   "id": "888ab531-b583-4394-86f5-802a9238caad",
   "metadata": {},
   "outputs": [],
   "source": [
    "d1={1:67,2:89,3:75,4:72,7:67,1:37}"
   ]
  },
  {
   "cell_type": "code",
   "execution_count": 272,
   "id": "d0eb671b-1450-47aa-9dcd-259c9b88994f",
   "metadata": {},
   "outputs": [
    {
     "data": {
      "text/plain": [
       "{1: 37, 2: 89, 3: 75, 4: 72, 7: 67}"
      ]
     },
     "execution_count": 272,
     "metadata": {},
     "output_type": "execute_result"
    }
   ],
   "source": [
    "d1"
   ]
  },
  {
   "cell_type": "code",
   "execution_count": 273,
   "id": "9be9ae5f-9a02-4b06-bafa-ed239cfd15fc",
   "metadata": {},
   "outputs": [
    {
     "data": {
      "text/plain": [
       "dict_keys([1, 2, 3, 4, 7])"
      ]
     },
     "execution_count": 273,
     "metadata": {},
     "output_type": "execute_result"
    }
   ],
   "source": [
    "d.keys()"
   ]
  },
  {
   "cell_type": "code",
   "execution_count": 274,
   "id": "ff1a0aeb-2eed-4556-b03e-c2e08ed5dcda",
   "metadata": {},
   "outputs": [],
   "source": [
    "d[3]=100"
   ]
  },
  {
   "cell_type": "code",
   "execution_count": 275,
   "id": "c158e49d-faaa-444e-b132-0018087862e4",
   "metadata": {},
   "outputs": [
    {
     "data": {
      "text/plain": [
       "{1: 37, 2: 89, 3: 100, 4: 72, 7: 67}"
      ]
     },
     "execution_count": 275,
     "metadata": {},
     "output_type": "execute_result"
    }
   ],
   "source": [
    "d\n"
   ]
  },
  {
   "cell_type": "code",
   "execution_count": 276,
   "id": "ce4630b2-1879-439e-94e0-aace241ea16f",
   "metadata": {},
   "outputs": [
    {
     "data": {
      "text/plain": [
       "dict_values([37, 89, 100, 72, 67])"
      ]
     },
     "execution_count": 276,
     "metadata": {},
     "output_type": "execute_result"
    }
   ],
   "source": [
    "d.values()"
   ]
  }
 ],
 "metadata": {
  "kernelspec": {
   "display_name": "Python 3 (ipykernel)",
   "language": "python",
   "name": "python3"
  },
  "language_info": {
   "codemirror_mode": {
    "name": "ipython",
    "version": 3
   },
   "file_extension": ".py",
   "mimetype": "text/x-python",
   "name": "python",
   "nbconvert_exporter": "python",
   "pygments_lexer": "ipython3",
   "version": "3.11.7"
  }
 },
 "nbformat": 4,
 "nbformat_minor": 5
}
